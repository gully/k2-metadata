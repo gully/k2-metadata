{
 "cells": [
  {
   "cell_type": "markdown",
   "metadata": {},
   "source": [
    "<!--BOOK_INFORMATION-->\n",
    "<img align=\"left\" style=\"padding-right:10px;\" src=\"figures/k2_pix_small.png\">\n",
    "*This notebook contains an excerpt instructional material from [gully](https://twitter.com/gully_) and the [K2 Guest Observer Office](https://keplerscience.arc.nasa.gov/); the content is available [on GitHub](https://github.com/gully/k2-metadata).*\n"
   ]
  },
  {
   "cell_type": "markdown",
   "metadata": {},
   "source": [
    "<!--NAVIGATION-->\n",
    "| [Contents](Index.ipynb) | [Munge metadata into tidy dataframes](01.00-Munge-metadata-into-tidy-dataframes.ipynb) >"
   ]
  },
  {
   "cell_type": "markdown",
   "metadata": {},
   "source": [
    "# Preface"
   ]
  },
  {
   "cell_type": "markdown",
   "metadata": {},
   "source": [
    "### The K2 Mission\n",
    "The [K2 mission](http://adsabs.harvard.edu/abs/2014PASP..126..398H) applies the exceptionally precise astronomical photometer, *Kepler*, to a wide portfolio of astronomy research. K2 became fully operational in June 2014 and is expected to continue operating until 2018.\n",
    "\n",
    "The K2 mission entails a series of sequential observing \"Campaigns\" of fields distributed around the ecliptic plane and offers a photometric precision [approaching that of the original Kepler mission](https://keplerscience.arc.nasa.gov/k2-observing.html#fine-point-photometric-precision).  [Continued efforts](http://adsabs.harvard.edu/abs/2017arXiv170205488L) to [improve K2's photometric precision](http://adsabs.harvard.edu/abs/2016AJ....152..100L) have been remarkably successful, and now approach the theoretical photon-counting limit.\n",
    "\n",
    "\n",
    "### K2 Data\n",
    "\n",
    "K2 data---in its most basic form---resemble collections of postage stamp cut-outs called Target Pixel Files (TPFs), centered on a given target.  The size of the postage-stamp cut-outs are typically a few to tens of pixels on a side, depending on the brightness of the target (brighter targets receive more pixels).  The target pixel files need not be rectangular, and often have stair-stepped arcs for borders.  The still image of the TPF below shows a bright star-like core surrounded by noisy dark background pixels.\n",
    "\n",
    "![K2 Target Pixel File](./figures/K2_pix.png)\n",
    "\n",
    "The TPFs have a third, *time*, dimension meaning that the TPFs could be referred to as \"data cubes\": $x \\times y \\times t$.  The Kepler photometer acquires new postage stamps every 30 minutes for 80 days, yielding typically ~3800 unique time steps, referred to as *cadences*.  A few select targets get even more attention, observed every minute in \"short cadence\" mode.\n",
    "\n",
    "In the absence of instrumental artifacts, the sum of the pixel values in a given $(x,y)_{t=t'}$ frame equals a noisy collection of time-series flux values, universally referred to as a *lightcurve*.  In practice, instrumental artifacts limit the accuracy of estimated fluxes; ongoing research mitigates instrumental artifacts with clever corrective measures.  \n",
    "\n",
    "The unrivaled precision of K2 data will continue to enable thousands of [scientific publications](https://keplerscience.arc.nasa.gov/kpub-k2.html), even after the end of data collection in 2018.  The Guest Observer office is taking steps to facilitate the continued access to the data through the collation of K2 *metadata*.\n",
    "\n",
    "\n",
    "### K2 metadata\n",
    "\n",
    "Metadata is:\n",
    "\n",
    "> data that provides information about other data -[Wikipedia](https://en.wikipedia.org/wiki/Metadata)\n",
    "\n",
    "For example, in individual K2 Target Pixel File has a campaign number, CCD module number, EPIC ID name, RA and DEC, and Guest Observer proposal ID(s).  The distinction between data and metadata is blurry and largely semantic.  Collectively, these metadata contain information useful to both research and operations with K2.\n",
    "\n",
    "K2 metadata often resides in fits headers and csv files.  **This series of Jupyter notebooks aims to gather all of K2's metadata into a single, maintained, easily query-able repository**.  Hopefully the sharing of this collection will avoid duplicated effort from individual researchers attempting to make such a collection on his/her own.  \n",
    "\n",
    "Finally, this series of Jupyter notebooks aims to show some best practices, doubling as a tutorial for the [increasingly popular Python programming language](https://stackoverflow.blog/2017/09/06/incredible-growth-python/) and its inter-related [scientific](https://www.scipy.org/), [astronomy](http://openastronomy.org/pyastro), and [data-science](https://pydata.org/) ecosystems.\n",
    "\n",
    "### Pandas and dataframes\n",
    "\n",
    "This series of Jupyter notebooks will rely heavily on the Python Data Analysis Library, [pandas](http://pandas.pydata.org/).  Pandas has become the best---or at least most popular---way to interact with tabular data in Python.  The main structural element in pandas is the \"*dataframe*\", which provides labels columns, and supports many common data transformations.  The pandas dataframe has a nearly identical analog in the `R` programming language.  We hope that these Jupyter notebooks will demonstrate some of the facility of dataframes, and their applicability for scientific research.  \n",
    "\n",
    "We recommend these great resources for improving your skills with pandas:\n",
    "- Chapter 3 in [The Python Data Science Handbook](https://github.com/jakevdp/PythonDataScienceHandbook)\n",
    "- The [as-yet-unpublished second edition](https://github.com/wesm/pydata-book/tree/2nd-edition) of the [Python for Data Analysis Book](http://shop.oreilly.com/product/0636920023784.do)$^\\dagger$.\n",
    "\n",
    "$^\\dagger$*n.b.* Many libraries offer free access to O'Reilly books through the [Safari Books Online](https://www.safaribooksonline.com/) platform.\n",
    "\n",
    "### Thank you Jake Vanderplas\n",
    "\n",
    "I would like to thank Jake Vanderplas for providing [tools](https://github.com/jakevdp/PythonDataScienceHandbook/tree/master/tools) for generating navigation headers and footers.  These tools, and the structural layout improvements they have enabled, will enhance the user experience and legacy value of these notebooks.  I have verbatim copied these tools and applied them here.  Thanks Jake!"
   ]
  },
  {
   "cell_type": "markdown",
   "metadata": {},
   "source": [
    "<!--NAVIGATION-->\n",
    "| [Contents](Index.ipynb) | [Munge metadata into tidy dataframes](01.00-Munge-metadata-into-tidy-dataframes.ipynb) >"
   ]
  }
 ],
 "metadata": {
  "anaconda-cloud": {},
  "kernelspec": {
   "display_name": "Python 3",
   "language": "python",
   "name": "python3"
  },
  "language_info": {
   "codemirror_mode": {
    "name": "ipython",
    "version": 3
   },
   "file_extension": ".py",
   "mimetype": "text/x-python",
   "name": "python",
   "nbconvert_exporter": "python",
   "pygments_lexer": "ipython3",
   "version": "3.6.1"
  }
 },
 "nbformat": 4,
 "nbformat_minor": 1
}
