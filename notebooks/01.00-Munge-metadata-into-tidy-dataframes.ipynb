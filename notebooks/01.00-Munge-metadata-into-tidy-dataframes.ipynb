{
 "cells": [
  {
   "cell_type": "markdown",
   "metadata": {},
   "source": [
    "<!--BOOK_INFORMATION-->\n",
    "<img align=\"left\" style=\"padding-right:10px;\" src=\"figures/k2_pix_small.png\">\n",
    "*This notebook contains an excerpt instructional material from [gully](https://twitter.com/gully_) and the [K2 Guest Observer Office](https://keplerscience.arc.nasa.gov/); the content is available [on GitHub](https://github.com/gully/k2-metadata).*\n"
   ]
  },
  {
   "cell_type": "markdown",
   "metadata": {},
   "source": [
    "<!--NAVIGATION-->\n",
    "< [Preface](00.00-Preface.ipynb) | [Contents](Index.ipynb) | [K2 Guest Observer Proposal Information](01.01-Concatenate-Guest-Observer-proposals.ipynb) >"
   ]
  },
  {
   "cell_type": "markdown",
   "metadata": {},
   "source": [
    "# Munge metadata into tidy dataframes"
   ]
  },
  {
   "cell_type": "markdown",
   "metadata": {},
   "source": [
    "### Collect K2 metadata from  sources\n",
    "\n",
    "In Chapter 1, we will collect and tidy-up metadata into easy-to-use dataframes.  This process of collecting and [tidy-ing up data occupies a large share of data scientists' actual work](http://vita.had.co.nz/papers/tidy-data.html).  Analysis on the cleaned-up dataframes is the fun part, but will have to wait until Chapter 2.  The end goal, for now, will center on three collections of metadata:\n",
    "\n",
    "\n",
    "![K2 Metadata Groups](./figures/K2-metadata-groups.png)\n",
    "\n",
    "\n",
    "1. The K2 Ecliptic Plane Input Catalog (**EPIC**)\n",
    "2. K2 Guest Observer Proposals\n",
    "3. K2 Target Pixel File (TPF) FITS header\n",
    "\n",
    "The estimates for metadata rows and columns are approximate, and will be revealed when we have our final tidy dataframes.  Roughly speaking, we expect about half-a-million rows and dozens of columns.\n",
    "\n",
    "We can imagine many other sources of metadata.  For example:\n",
    "- cross-matches with the Gaia TGAS catalog\n",
    "- alternate names\n",
    "- TESS ID\n",
    "- ADS Bibcodes\n",
    "- object classifications\n",
    "- High Level Science Product availability and performance measures\n",
    "\n",
    "\n",
    "### Plan of attack\n",
    "\n",
    "For now we will ignore these other forms of metadata, with the goal of revisiting them in later chapters.  The three metadata tables require differing levels of munging:\n",
    "\n",
    "![K2 Metadata munging](./figures/K2-metadata_plan.png)\n",
    "\n"
   ]
  },
  {
   "cell_type": "markdown",
   "metadata": {},
   "source": [
    "<!--NAVIGATION-->\n",
    "< [Preface](00.00-Preface.ipynb) | [Contents](Index.ipynb) | [K2 Guest Observer Proposal Information](01.01-Concatenate-Guest-Observer-proposals.ipynb) >"
   ]
  }
 ],
 "metadata": {
  "kernelspec": {
   "display_name": "Python 3",
   "language": "python",
   "name": "python3"
  },
  "language_info": {
   "codemirror_mode": {
    "name": "ipython",
    "version": 3
   },
   "file_extension": ".py",
   "mimetype": "text/x-python",
   "name": "python",
   "nbconvert_exporter": "python",
   "pygments_lexer": "ipython3",
   "version": "3.6.1"
  }
 },
 "nbformat": 4,
 "nbformat_minor": 2
}
