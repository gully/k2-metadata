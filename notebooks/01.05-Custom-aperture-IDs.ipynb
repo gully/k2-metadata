{
 "cells": [
  {
   "cell_type": "markdown",
   "metadata": {},
   "source": [
    "<!--BOOK_INFORMATION-->\n",
    "<img align=\"left\" style=\"padding-right:10px;\" src=\"figures/k2_pix_small.png\">\n",
    "*This notebook contains instructional material from the [K2 Guest Observer Office](https://keplerscience.arc.nasa.gov/); the content is available [on GitHub](https://github.com/gully/k2-metadata).*\n"
   ]
  },
  {
   "cell_type": "markdown",
   "metadata": {},
   "source": [
    "<!--NAVIGATION-->\n",
    "< [K2 target index](01.04-TPF-header-scrape.ipynb) | [Contents](Index.ipynb) | [Everest lightcurve metadata](01.06-Everest-lightcurve-metadata.ipynb) >"
   ]
  },
  {
   "cell_type": "markdown",
   "metadata": {},
   "source": [
    "# Custom aperture information and CAF files"
   ]
  },
  {
   "cell_type": "markdown",
   "metadata": {},
   "source": [
    "Recently \"caf\" files have been provided with each campaign's data release notes.  The *caf* files relate two pieces of information-- a given custom target name (e.g. `Comet.67P/Churyumov-Gerasimenko`) with its made-up EPIC ID (e.g. `200081804:200084003`).  More information about target management for custom apertures is described in the [K2 handbook](http://archive.stsci.edu/k2/manuals/k2_handbook.pdf).  \n",
    "\n",
    "In this Notebook we overhaul all the individual caf files into a single dataframe with additional metadata."
   ]
  },
  {
   "cell_type": "code",
   "execution_count": 1,
   "metadata": {},
   "outputs": [],
   "source": [
    "import pandas as pd\n",
    "import numpy as np\n",
    "import os\n",
    "import matplotlib.pyplot as plt\n",
    "%config InlineBackend.figure_format = 'retina'\n",
    "%matplotlib inline"
   ]
  },
  {
   "cell_type": "markdown",
   "metadata": {},
   "source": [
    "# Data Release Notes\n",
    "\n",
    "First, let's look at the caf files that come in the [Data Release Notes](https://keplerscience.arc.nasa.gov/k2-data-release-notes.html) of each campaign."
   ]
  },
  {
   "cell_type": "code",
   "execution_count": 2,
   "metadata": {},
   "outputs": [
    {
     "name": "stdout",
     "output_type": "stream",
     "text": [
      "ktwoc07_caf.csv\r\n",
      "ktwoc08_caf.csv\r\n",
      "ktwoc10_caf.csv\r\n",
      "ktwoc111_caf.csv\r\n",
      "ktwoc112_caf.csv\r\n",
      "ktwoc12_caf.csv\r\n",
      "ktwoc13_caf.csv\r\n",
      "ktwoc14_caf.csv\r\n",
      "ktwoc91_caf.csv\r\n",
      "ktwoc92_caf.csv\r\n",
      "trojanCustomApertureC6.csv\r\n"
     ]
    }
   ],
   "source": [
    "! ls -1 ../metadata/raw/custom_apertures/"
   ]
  },
  {
   "cell_type": "code",
   "execution_count": 3,
   "metadata": {},
   "outputs": [],
   "source": [
    "path = '../metadata/raw/custom_apertures/'\n",
    "fns = os.listdir(path)"
   ]
  },
  {
   "cell_type": "code",
   "execution_count": 4,
   "metadata": {},
   "outputs": [
    {
     "name": "stdout",
     "output_type": "stream",
     "text": [
      "#Custom Aperture Number, Target Name\r\n",
      "#SET 2016-04-18\r\n",
      "200061226,Trojan 2000 QG199\r\n",
      "200061227,Trojan 2000 QG199\r\n",
      "200061228,Trojan 2000 QG199\r\n",
      "200061229,Trojan 2000 QG199\r\n",
      "200061230,Trojan 2000 QG199\r\n",
      "200061231,Trojan 2000 QG199\r\n",
      "200061232,Trojan 2000 QG199\r\n",
      "200061233,Trojan 2000 QG199\r\n"
     ]
    }
   ],
   "source": [
    "! head ../metadata/raw/custom_apertures/ktwoc07_caf.csv"
   ]
  },
  {
   "cell_type": "code",
   "execution_count": 5,
   "metadata": {},
   "outputs": [],
   "source": [
    "df_all = pd.DataFrame()"
   ]
  },
  {
   "cell_type": "code",
   "execution_count": 6,
   "metadata": {},
   "outputs": [],
   "source": [
    "for fn in fns:\n",
    "    df = pd.read_csv(path+fn, comment='#', names = ['ap_num', 'target'])\n",
    "    campaign = fn[5:7]\n",
    "    if campaign == 'nC':\n",
    "        campaign = 6\n",
    "    if campaign == '11':\n",
    "        campaign = fn[5:8]\n",
    "    df['campaign'] = int(campaign) \n",
    "    df_all = df_all.append(df, ignore_index=True)"
   ]
  },
  {
   "cell_type": "code",
   "execution_count": 7,
   "metadata": {},
   "outputs": [
    {
     "data": {
      "text/html": [
       "<div>\n",
       "<style scoped>\n",
       "    .dataframe tbody tr th:only-of-type {\n",
       "        vertical-align: middle;\n",
       "    }\n",
       "\n",
       "    .dataframe tbody tr th {\n",
       "        vertical-align: top;\n",
       "    }\n",
       "\n",
       "    .dataframe thead th {\n",
       "        text-align: right;\n",
       "    }\n",
       "</style>\n",
       "<table border=\"1\" class=\"dataframe\">\n",
       "  <thead>\n",
       "    <tr style=\"text-align: right;\">\n",
       "      <th></th>\n",
       "      <th>ap_num</th>\n",
       "      <th>target</th>\n",
       "      <th>campaign</th>\n",
       "    </tr>\n",
       "  </thead>\n",
       "  <tbody>\n",
       "    <tr>\n",
       "      <th>15844</th>\n",
       "      <td>200081804.0</td>\n",
       "      <td>Comet.67P/Churyumov-Gerasimenko</td>\n",
       "      <td>10</td>\n",
       "    </tr>\n",
       "    <tr>\n",
       "      <th>15845</th>\n",
       "      <td>200081805.0</td>\n",
       "      <td>Comet.67P/Churyumov-Gerasimenko</td>\n",
       "      <td>10</td>\n",
       "    </tr>\n",
       "    <tr>\n",
       "      <th>15846</th>\n",
       "      <td>200081806.0</td>\n",
       "      <td>Comet.67P/Churyumov-Gerasimenko</td>\n",
       "      <td>10</td>\n",
       "    </tr>\n",
       "    <tr>\n",
       "      <th>15847</th>\n",
       "      <td>200081807.0</td>\n",
       "      <td>Comet.67P/Churyumov-Gerasimenko</td>\n",
       "      <td>10</td>\n",
       "    </tr>\n",
       "    <tr>\n",
       "      <th>15848</th>\n",
       "      <td>200081808.0</td>\n",
       "      <td>Comet.67P/Churyumov-Gerasimenko</td>\n",
       "      <td>10</td>\n",
       "    </tr>\n",
       "  </tbody>\n",
       "</table>\n",
       "</div>"
      ],
      "text/plain": [
       "            ap_num                           target  campaign\n",
       "15844  200081804.0  Comet.67P/Churyumov-Gerasimenko        10\n",
       "15845  200081805.0  Comet.67P/Churyumov-Gerasimenko        10\n",
       "15846  200081806.0  Comet.67P/Churyumov-Gerasimenko        10\n",
       "15847  200081807.0  Comet.67P/Churyumov-Gerasimenko        10\n",
       "15848  200081808.0  Comet.67P/Churyumov-Gerasimenko        10"
      ]
     },
     "execution_count": 7,
     "metadata": {},
     "output_type": "execute_result"
    }
   ],
   "source": [
    "df_all[df_all.target =='Comet.67P/Churyumov-Gerasimenko'].head()"
   ]
  },
  {
   "cell_type": "code",
   "execution_count": 8,
   "metadata": {},
   "outputs": [
    {
     "data": {
      "text/html": [
       "<div>\n",
       "<style scoped>\n",
       "    .dataframe tbody tr th:only-of-type {\n",
       "        vertical-align: middle;\n",
       "    }\n",
       "\n",
       "    .dataframe tbody tr th {\n",
       "        vertical-align: top;\n",
       "    }\n",
       "\n",
       "    .dataframe thead th {\n",
       "        text-align: right;\n",
       "    }\n",
       "</style>\n",
       "<table border=\"1\" class=\"dataframe\">\n",
       "  <thead>\n",
       "    <tr style=\"text-align: right;\">\n",
       "      <th></th>\n",
       "      <th>ap_num</th>\n",
       "      <th>target</th>\n",
       "      <th>campaign</th>\n",
       "    </tr>\n",
       "  </thead>\n",
       "  <tbody>\n",
       "    <tr>\n",
       "      <th>0</th>\n",
       "      <td>200062904.0</td>\n",
       "      <td>TNO.1998 SN165</td>\n",
       "      <td>8</td>\n",
       "    </tr>\n",
       "    <tr>\n",
       "      <th>1</th>\n",
       "      <td>200062905.0</td>\n",
       "      <td>TNO.1998 SN165</td>\n",
       "      <td>8</td>\n",
       "    </tr>\n",
       "    <tr>\n",
       "      <th>2</th>\n",
       "      <td>200062906.0</td>\n",
       "      <td>TNO.1998 SN165</td>\n",
       "      <td>8</td>\n",
       "    </tr>\n",
       "    <tr>\n",
       "      <th>3</th>\n",
       "      <td>200062907.0</td>\n",
       "      <td>TNO.1998 SN165</td>\n",
       "      <td>8</td>\n",
       "    </tr>\n",
       "    <tr>\n",
       "      <th>4</th>\n",
       "      <td>200062908.0</td>\n",
       "      <td>TNO.1998 SN165</td>\n",
       "      <td>8</td>\n",
       "    </tr>\n",
       "  </tbody>\n",
       "</table>\n",
       "</div>"
      ],
      "text/plain": [
       "        ap_num          target  campaign\n",
       "0  200062904.0  TNO.1998 SN165         8\n",
       "1  200062905.0  TNO.1998 SN165         8\n",
       "2  200062906.0  TNO.1998 SN165         8\n",
       "3  200062907.0  TNO.1998 SN165         8\n",
       "4  200062908.0  TNO.1998 SN165         8"
      ]
     },
     "execution_count": 8,
     "metadata": {},
     "output_type": "execute_result"
    }
   ],
   "source": [
    "df_all.head()"
   ]
  },
  {
   "cell_type": "code",
   "execution_count": 9,
   "metadata": {},
   "outputs": [
    {
     "data": {
      "text/plain": [
       "6      19261\n",
       "111    18601\n",
       "112    18430\n",
       "12     16730\n",
       "10     13186\n",
       "14      9130\n",
       "8       5752\n",
       "13      4736\n",
       "92      2674\n",
       "91      2542\n",
       "7       1602\n",
       "Name: campaign, dtype: int64"
      ]
     },
     "execution_count": 9,
     "metadata": {},
     "output_type": "execute_result"
    }
   ],
   "source": [
    "df_all.campaign.value_counts()"
   ]
  },
  {
   "cell_type": "markdown",
   "metadata": {},
   "source": [
    "The Data Release Notes do not have CAF files for all campaigns.  Let's use our internal tools at K2 to make sure we have access to all caf files."
   ]
  },
  {
   "cell_type": "markdown",
   "metadata": {},
   "source": [
    "## Obtain all custom aperture ids from internal K2 caf files\n",
    "This concatenated list of caf files is called the **golden CAF** by research scientist Jeff Van-Cleve (*aka* JVC).   \n",
    "See Kepler/K2 Science Office internal documents on JIRA ticket KSO-568."
   ]
  },
  {
   "cell_type": "code",
   "execution_count": 10,
   "metadata": {},
   "outputs": [
    {
     "name": "stdout",
     "output_type": "stream",
     "text": [
      "\r\n",
      "2002 GV31\r\n",
      "33 CET\r\n",
      "42 CET\r\n",
      "60 PSC\r\n"
     ]
    }
   ],
   "source": [
    "! head -n 5 ../metadata/temp/golden_caf_18010323.txt"
   ]
  },
  {
   "cell_type": "code",
   "execution_count": 11,
   "metadata": {},
   "outputs": [
    {
     "data": {
      "text/html": [
       "<div>\n",
       "<style scoped>\n",
       "    .dataframe tbody tr th:only-of-type {\n",
       "        vertical-align: middle;\n",
       "    }\n",
       "\n",
       "    .dataframe tbody tr th {\n",
       "        vertical-align: top;\n",
       "    }\n",
       "\n",
       "    .dataframe thead th {\n",
       "        text-align: right;\n",
       "    }\n",
       "</style>\n",
       "<table border=\"1\" class=\"dataframe\">\n",
       "  <thead>\n",
       "    <tr style=\"text-align: right;\">\n",
       "      <th></th>\n",
       "      <th>jvc_name</th>\n",
       "      <th>in_JVC</th>\n",
       "    </tr>\n",
       "  </thead>\n",
       "  <tbody>\n",
       "    <tr>\n",
       "      <th>0</th>\n",
       "      <td>2002 GV31</td>\n",
       "      <td>1</td>\n",
       "    </tr>\n",
       "    <tr>\n",
       "      <th>1</th>\n",
       "      <td>33 CET</td>\n",
       "      <td>1</td>\n",
       "    </tr>\n",
       "    <tr>\n",
       "      <th>2</th>\n",
       "      <td>42 CET</td>\n",
       "      <td>1</td>\n",
       "    </tr>\n",
       "    <tr>\n",
       "      <th>3</th>\n",
       "      <td>60 PSC</td>\n",
       "      <td>1</td>\n",
       "    </tr>\n",
       "    <tr>\n",
       "      <th>4</th>\n",
       "      <td>73 PSC</td>\n",
       "      <td>1</td>\n",
       "    </tr>\n",
       "  </tbody>\n",
       "</table>\n",
       "</div>"
      ],
      "text/plain": [
       "    jvc_name  in_JVC\n",
       "0  2002 GV31       1\n",
       "1     33 CET       1\n",
       "2     42 CET       1\n",
       "3     60 PSC       1\n",
       "4     73 PSC       1"
      ]
     },
     "execution_count": 11,
     "metadata": {},
     "output_type": "execute_result"
    }
   ],
   "source": [
    "jvc_caf = pd.read_csv('../metadata/temp/golden_caf_18010323.txt', names=['jvc_name'])\n",
    "jvc_caf['in_JVC'] = 1\n",
    "jvc_caf.head()"
   ]
  },
  {
   "cell_type": "code",
   "execution_count": 12,
   "metadata": {},
   "outputs": [],
   "source": [
    "spot_check = pd.merge(df_all.target.value_counts().to_frame(), jvc_caf, \n",
    "                      how='outer', left_index=True, right_on='jvc_name', indicator=True)"
   ]
  },
  {
   "cell_type": "code",
   "execution_count": 13,
   "metadata": {},
   "outputs": [
    {
     "data": {
      "text/html": [
       "<div>\n",
       "<style scoped>\n",
       "    .dataframe tbody tr th:only-of-type {\n",
       "        vertical-align: middle;\n",
       "    }\n",
       "\n",
       "    .dataframe tbody tr th {\n",
       "        vertical-align: top;\n",
       "    }\n",
       "\n",
       "    .dataframe thead th {\n",
       "        text-align: right;\n",
       "    }\n",
       "</style>\n",
       "<table border=\"1\" class=\"dataframe\">\n",
       "  <thead>\n",
       "    <tr style=\"text-align: right;\">\n",
       "      <th></th>\n",
       "      <th>target</th>\n",
       "      <th>jvc_name</th>\n",
       "      <th>in_JVC</th>\n",
       "      <th>_merge</th>\n",
       "    </tr>\n",
       "  </thead>\n",
       "  <tbody>\n",
       "    <tr>\n",
       "      <th>391</th>\n",
       "      <td>3496.0</td>\n",
       "      <td>C9 Microlens Survey</td>\n",
       "      <td>NaN</td>\n",
       "      <td>left_only</td>\n",
       "    </tr>\n",
       "    <tr>\n",
       "      <th>115</th>\n",
       "      <td>2999.0</td>\n",
       "      <td>Asteroid.Trojan.Leucus</td>\n",
       "      <td>1.0</td>\n",
       "      <td>both</td>\n",
       "    </tr>\n",
       "    <tr>\n",
       "      <th>149</th>\n",
       "      <td>2200.0</td>\n",
       "      <td>Comet.67P/Churyumov-Gerasimenko</td>\n",
       "      <td>1.0</td>\n",
       "      <td>both</td>\n",
       "    </tr>\n",
       "    <tr>\n",
       "      <th>65</th>\n",
       "      <td>1700.0</td>\n",
       "      <td>Asteroid.Trojan.2001 DU87</td>\n",
       "      <td>1.0</td>\n",
       "      <td>both</td>\n",
       "    </tr>\n",
       "    <tr>\n",
       "      <th>75</th>\n",
       "      <td>1592.0</td>\n",
       "      <td>Asteroid.Trojan.2001 SE182</td>\n",
       "      <td>1.0</td>\n",
       "      <td>both</td>\n",
       "    </tr>\n",
       "  </tbody>\n",
       "</table>\n",
       "</div>"
      ],
      "text/plain": [
       "     target                         jvc_name  in_JVC     _merge\n",
       "391  3496.0              C9 Microlens Survey     NaN  left_only\n",
       "115  2999.0           Asteroid.Trojan.Leucus     1.0       both\n",
       "149  2200.0  Comet.67P/Churyumov-Gerasimenko     1.0       both\n",
       "65   1700.0        Asteroid.Trojan.2001 DU87     1.0       both\n",
       "75   1592.0       Asteroid.Trojan.2001 SE182     1.0       both"
      ]
     },
     "execution_count": 13,
     "metadata": {},
     "output_type": "execute_result"
    }
   ],
   "source": [
    "spot_check.head()"
   ]
  },
  {
   "cell_type": "code",
   "execution_count": 14,
   "metadata": {},
   "outputs": [
    {
     "data": {
      "text/plain": [
       "both          313\n",
       "right_only     79\n",
       "left_only      76\n",
       "Name: _merge, dtype: int64"
      ]
     },
     "execution_count": 14,
     "metadata": {},
     "output_type": "execute_result"
    }
   ],
   "source": [
    "spot_check._merge.value_counts()"
   ]
  },
  {
   "cell_type": "markdown",
   "metadata": {},
   "source": [
    "What are the targets that only I have, but JVC does not?"
   ]
  },
  {
   "cell_type": "code",
   "execution_count": 15,
   "metadata": {},
   "outputs": [
    {
     "data": {
      "text/html": [
       "<div>\n",
       "<style scoped>\n",
       "    .dataframe tbody tr th:only-of-type {\n",
       "        vertical-align: middle;\n",
       "    }\n",
       "\n",
       "    .dataframe tbody tr th {\n",
       "        vertical-align: top;\n",
       "    }\n",
       "\n",
       "    .dataframe thead th {\n",
       "        text-align: right;\n",
       "    }\n",
       "</style>\n",
       "<table border=\"1\" class=\"dataframe\">\n",
       "  <thead>\n",
       "    <tr style=\"text-align: right;\">\n",
       "      <th></th>\n",
       "      <th>ap_num</th>\n",
       "      <th>target</th>\n",
       "      <th>campaign</th>\n",
       "    </tr>\n",
       "  </thead>\n",
       "  <tbody>\n",
       "    <tr>\n",
       "      <th>0</th>\n",
       "      <td>200041889.0</td>\n",
       "      <td>10989</td>\n",
       "      <td>6</td>\n",
       "    </tr>\n",
       "    <tr>\n",
       "      <th>1</th>\n",
       "      <td>200041890.0</td>\n",
       "      <td>10989</td>\n",
       "      <td>6</td>\n",
       "    </tr>\n",
       "    <tr>\n",
       "      <th>2</th>\n",
       "      <td>200041891.0</td>\n",
       "      <td>10989</td>\n",
       "      <td>6</td>\n",
       "    </tr>\n",
       "    <tr>\n",
       "      <th>3</th>\n",
       "      <td>200041892.0</td>\n",
       "      <td>10989</td>\n",
       "      <td>6</td>\n",
       "    </tr>\n",
       "    <tr>\n",
       "      <th>4</th>\n",
       "      <td>200041893.0</td>\n",
       "      <td>10989</td>\n",
       "      <td>6</td>\n",
       "    </tr>\n",
       "    <tr>\n",
       "      <th>5</th>\n",
       "      <td>200041894.0</td>\n",
       "      <td>10989</td>\n",
       "      <td>6</td>\n",
       "    </tr>\n",
       "    <tr>\n",
       "      <th>6</th>\n",
       "      <td>200041895.0</td>\n",
       "      <td>10989</td>\n",
       "      <td>6</td>\n",
       "    </tr>\n",
       "    <tr>\n",
       "      <th>7</th>\n",
       "      <td>200041896.0</td>\n",
       "      <td>10989</td>\n",
       "      <td>6</td>\n",
       "    </tr>\n",
       "    <tr>\n",
       "      <th>8</th>\n",
       "      <td>200041897.0</td>\n",
       "      <td>10989</td>\n",
       "      <td>6</td>\n",
       "    </tr>\n",
       "    <tr>\n",
       "      <th>9</th>\n",
       "      <td>200041898.0</td>\n",
       "      <td>10989</td>\n",
       "      <td>6</td>\n",
       "    </tr>\n",
       "  </tbody>\n",
       "</table>\n",
       "</div>"
      ],
      "text/plain": [
       "        ap_num target  campaign\n",
       "0  200041889.0  10989         6\n",
       "1  200041890.0  10989         6\n",
       "2  200041891.0  10989         6\n",
       "3  200041892.0  10989         6\n",
       "4  200041893.0  10989         6\n",
       "5  200041894.0  10989         6\n",
       "6  200041895.0  10989         6\n",
       "7  200041896.0  10989         6\n",
       "8  200041897.0  10989         6\n",
       "9  200041898.0  10989         6"
      ]
     },
     "execution_count": 15,
     "metadata": {},
     "output_type": "execute_result"
    }
   ],
   "source": [
    "left_only = spot_check[spot_check._merge=='left_only'].jvc_name[1:].values #skip the first one\n",
    "df_all[df_all.target.isin(left_only)].reset_index(drop=True).head(10)"
   ]
  },
  {
   "cell_type": "markdown",
   "metadata": {},
   "source": [
    "These stars appear in my compiled list, but not in JVC's.  They are probably bright stars or asteroids that were given different names in campaigns 6 and 7.  \n",
    "What are the stars that JVC has, but I do not?"
   ]
  },
  {
   "cell_type": "code",
   "execution_count": 16,
   "metadata": {},
   "outputs": [
    {
     "data": {
      "text/html": [
       "<div>\n",
       "<style scoped>\n",
       "    .dataframe tbody tr th:only-of-type {\n",
       "        vertical-align: middle;\n",
       "    }\n",
       "\n",
       "    .dataframe tbody tr th {\n",
       "        vertical-align: top;\n",
       "    }\n",
       "\n",
       "    .dataframe thead th {\n",
       "        text-align: right;\n",
       "    }\n",
       "</style>\n",
       "<table border=\"1\" class=\"dataframe\">\n",
       "  <thead>\n",
       "    <tr style=\"text-align: right;\">\n",
       "      <th></th>\n",
       "      <th>target</th>\n",
       "      <th>jvc_name</th>\n",
       "      <th>in_JVC</th>\n",
       "      <th>_merge</th>\n",
       "    </tr>\n",
       "  </thead>\n",
       "  <tbody>\n",
       "    <tr>\n",
       "      <th>0</th>\n",
       "      <td>NaN</td>\n",
       "      <td>2002 GV31</td>\n",
       "      <td>1.0</td>\n",
       "      <td>right_only</td>\n",
       "    </tr>\n",
       "    <tr>\n",
       "      <th>6</th>\n",
       "      <td>NaN</td>\n",
       "      <td>ARP</td>\n",
       "      <td>1.0</td>\n",
       "      <td>right_only</td>\n",
       "    </tr>\n",
       "    <tr>\n",
       "      <th>136</th>\n",
       "      <td>NaN</td>\n",
       "      <td>C9 Microlense Survey</td>\n",
       "      <td>1.0</td>\n",
       "      <td>right_only</td>\n",
       "    </tr>\n",
       "    <tr>\n",
       "      <th>151</th>\n",
       "      <td>NaN</td>\n",
       "      <td>Comet C/2013 A1 (Siding Springs)</td>\n",
       "      <td>1.0</td>\n",
       "      <td>right_only</td>\n",
       "    </tr>\n",
       "    <tr>\n",
       "      <th>180</th>\n",
       "      <td>NaN</td>\n",
       "      <td>M35</td>\n",
       "      <td>1.0</td>\n",
       "      <td>right_only</td>\n",
       "    </tr>\n",
       "  </tbody>\n",
       "</table>\n",
       "</div>"
      ],
      "text/plain": [
       "     target                          jvc_name  in_JVC      _merge\n",
       "0       NaN                         2002 GV31     1.0  right_only\n",
       "6       NaN                               ARP     1.0  right_only\n",
       "136     NaN              C9 Microlense Survey     1.0  right_only\n",
       "151     NaN  Comet C/2013 A1 (Siding Springs)     1.0  right_only\n",
       "180     NaN                               M35     1.0  right_only"
      ]
     },
     "execution_count": 16,
     "metadata": {},
     "output_type": "execute_result"
    }
   ],
   "source": [
    "spot_check[spot_check._merge=='right_only'].head()"
   ]
  },
  {
   "cell_type": "markdown",
   "metadata": {},
   "source": [
    "Some objects in the DRN-released caf files have no names?  The JVC \"Golden Caf\" lacks the needed aperture ids.  Let's retrieve all the original raw caf files."
   ]
  },
  {
   "cell_type": "markdown",
   "metadata": {},
   "source": [
    "## Concatenate all internal caf files\n",
    "\n",
    "I retrieved all the *internal caf files* from the SVN repository following the instructions in JVC's comments on 03/Jan/18 3:42 PM to the `KSOP-3027` ticket.  \n",
    "\n",
    "Here are the filenames and campaign names."
   ]
  },
  {
   "cell_type": "code",
   "execution_count": 17,
   "metadata": {},
   "outputs": [],
   "source": [
    "fn_dict = {'15298_sethomps_ksop2395/kplr2015289145200_c05_caf.txt': 5,\n",
    "'17310_jvancleve_ksop2981/kplr2017307121200_c14_caf.txt': 14,\n",
    "'16020_sethomps_ksop2541/kplr2016020145500_c06_caf.txt': 6,\n",
    "'15070_sethomps_caf_ksop2236/kplr2015065130800_c02_caf.txt': 2,\n",
    "'17226_jevancle_ksop2964/kplr2017215094200_c13_caf.txt': 13,\n",
    "'16251_jevancle_ksop2732/kplr2016243125800_c092_caf.txt': 92,\n",
    "'16251_jevancle_ksop2732/kplr2016238115500_c091_caf.txt': 91,\n",
    "'15154_sethomps_ksop2328/kplr2015156135700_c03_caf.txt': 3,\n",
    "'16334_jevancle_ksop2801/kplr2016334142100_c10_caf.txt': 10,\n",
    "'16102_sethomps_ksop2627/kplr2016097162800_c07_caf.txt': 7,\n",
    "'17129_jevancle_ksop2850/kplr2017124153300_c112_caf.txt': 112,\n",
    "'17129_jevancle_ksop2850/kplr2017124153300_c111_caf.txt': 111,\n",
    "'14324_sethomps_ksop2061/kplr2014324163300_c01_caf.txt': 1,\n",
    "'14238_sethomps_ksop2004/ktwo2014225112200_c00_caf.txt': 0,\n",
    "'16174_jevancle_ksop2670/kplr2016174093800_c08_caf.txt': 8,\n",
    "'15249_sethomps_ksop2294/kplr2015232163700_c04_caf.txt': 4,\n",
    "'17200_jevancle_ksop2955/kplr2017187134900_c12_caf.txt': 12}\n",
    "\n",
    "# There's a repeat of campaign 3...  assume the newer one is correct?\n",
    "#'./15154_sethomps_ksop2328/kplr2015154104800_c03_caf.txt': 3,"
   ]
  },
  {
   "cell_type": "code",
   "execution_count": 18,
   "metadata": {},
   "outputs": [],
   "source": [
    "path = '../metadata/temp/svn/caf/'"
   ]
  },
  {
   "cell_type": "code",
   "execution_count": 19,
   "metadata": {},
   "outputs": [
    {
     "name": "stdout",
     "output_type": "stream",
     "text": [
      "247220058|1||||Bright Stars\r\n",
      "247649941|1||||Bright Stars SC\r\n",
      "246810368|1||||Bright Stars SC\r\n",
      "210528045|1||||Bright Stars SC\r\n",
      "210956961|1||||Bright Stars SC\r\n",
      "210989874|1||||Bright Stars SC\r\n",
      "246721980|1||||Bright Stars SC\r\n",
      "210548567|1||||Bright Stars SC\r\n",
      "247117838|1||||Bright Stars SC\r\n",
      "210950988|1||||Bright Stars SC\r\n"
     ]
    }
   ],
   "source": [
    "! tail ../metadata/temp/svn/caf/17226_jevancle_ksop2964/kplr2017215094200_c13_caf.txt"
   ]
  },
  {
   "cell_type": "markdown",
   "metadata": {},
   "source": [
    "On Feb. 1, 2018, JVC sent an me an email describing the column info:"
   ]
  },
  {
   "cell_type": "markdown",
   "metadata": {},
   "source": [
    ">Column 0: Custom KepId\n",
    "\n",
    ">Column 1, type of target:\n",
    "1. Single star in EPIC -- this includes all galaxies which are in EPIC\n",
    "2. Engineering data (EN) -- in practice ARPs only\n",
    "3. Large swatch of sky., no known target (STC, EXBA) -- includes galaxies specified by (ra, dec) bounds not EPIC ID (like NGC3412 in c14) & superstamps\n",
    "4. Single \"star\" not in the KIC -- usually a small galaxy\n",
    "5. Solar System object\n",
    "\n",
    ">Column 2: EPIC ID for target in EPIC which was assigned a custom aperture (bright star disks).  C14 example:\n",
    "200182925|1|201698740|||Bright Stars\n",
    "\n",
    ">Column 3, 4: Ra, Dec for \"center\" of type 3 or 4 targets.  C14 example:\n",
    "200183086|3||162.72210|13.41210|Large Galaxies.NGC3412\n",
    "\n",
    ">Column 5: Custom label, used in K2 data retrieval 'Target Type' and 'SubType'"
   ]
  },
  {
   "cell_type": "code",
   "execution_count": 20,
   "metadata": {},
   "outputs": [],
   "source": [
    "col_names = ['ap_num','targtype', 'EPIC_ID', 'custom_RA', 'custom_DEC', 'object_name']"
   ]
  },
  {
   "cell_type": "markdown",
   "metadata": {},
   "source": [
    "We'll read in all the cad files into a single dataframe."
   ]
  },
  {
   "cell_type": "code",
   "execution_count": 21,
   "metadata": {},
   "outputs": [],
   "source": [
    "caf_all = pd.DataFrame()"
   ]
  },
  {
   "cell_type": "code",
   "execution_count": 22,
   "metadata": {},
   "outputs": [
    {
     "name": "stdout",
     "output_type": "stream",
     "text": [
      "5 14 6 2 13 92 91 3 10 7 112 111 1 0 8 4 12 "
     ]
    }
   ],
   "source": [
    "for fn_key, fn_val in fn_dict.items():\n",
    "    print(fn_val, end=' ')\n",
    "    df = pd.read_csv(path+fn_key, sep='|', names = col_names)\n",
    "    df['campaign'] = int(fn_val)\n",
    "    caf_all = caf_all.append(df, ignore_index=True)"
   ]
  },
  {
   "cell_type": "code",
   "execution_count": 23,
   "metadata": {},
   "outputs": [
    {
     "data": {
      "text/plain": [
       "(119679, 7)"
      ]
     },
     "execution_count": 23,
     "metadata": {},
     "output_type": "execute_result"
    }
   ],
   "source": [
    "caf_all.shape"
   ]
  },
  {
   "cell_type": "code",
   "execution_count": 24,
   "metadata": {},
   "outputs": [
    {
     "data": {
      "text/html": [
       "<div>\n",
       "<style scoped>\n",
       "    .dataframe tbody tr th:only-of-type {\n",
       "        vertical-align: middle;\n",
       "    }\n",
       "\n",
       "    .dataframe tbody tr th {\n",
       "        vertical-align: top;\n",
       "    }\n",
       "\n",
       "    .dataframe thead th {\n",
       "        text-align: right;\n",
       "    }\n",
       "</style>\n",
       "<table border=\"1\" class=\"dataframe\">\n",
       "  <thead>\n",
       "    <tr style=\"text-align: right;\">\n",
       "      <th></th>\n",
       "      <th>ap_num</th>\n",
       "      <th>targtype</th>\n",
       "      <th>EPIC_ID</th>\n",
       "      <th>custom_RA</th>\n",
       "      <th>custom_DEC</th>\n",
       "      <th>object_name</th>\n",
       "      <th>campaign</th>\n",
       "    </tr>\n",
       "  </thead>\n",
       "  <tbody>\n",
       "    <tr>\n",
       "      <th>119674</th>\n",
       "      <td>200164263</td>\n",
       "      <td>5</td>\n",
       "      <td>NaN</td>\n",
       "      <td>NaN</td>\n",
       "      <td>NaN</td>\n",
       "      <td>Comet.Chiron</td>\n",
       "      <td>12</td>\n",
       "    </tr>\n",
       "    <tr>\n",
       "      <th>119675</th>\n",
       "      <td>200164264</td>\n",
       "      <td>5</td>\n",
       "      <td>NaN</td>\n",
       "      <td>NaN</td>\n",
       "      <td>NaN</td>\n",
       "      <td>Comet.Chiron</td>\n",
       "      <td>12</td>\n",
       "    </tr>\n",
       "    <tr>\n",
       "      <th>119676</th>\n",
       "      <td>200164265</td>\n",
       "      <td>5</td>\n",
       "      <td>NaN</td>\n",
       "      <td>NaN</td>\n",
       "      <td>NaN</td>\n",
       "      <td>Comet.Chiron</td>\n",
       "      <td>12</td>\n",
       "    </tr>\n",
       "    <tr>\n",
       "      <th>119677</th>\n",
       "      <td>200164266</td>\n",
       "      <td>5</td>\n",
       "      <td>NaN</td>\n",
       "      <td>NaN</td>\n",
       "      <td>NaN</td>\n",
       "      <td>Comet.Chiron</td>\n",
       "      <td>12</td>\n",
       "    </tr>\n",
       "    <tr>\n",
       "      <th>119678</th>\n",
       "      <td>246199087</td>\n",
       "      <td>1</td>\n",
       "      <td>NaN</td>\n",
       "      <td>NaN</td>\n",
       "      <td>NaN</td>\n",
       "      <td>TRAPPIST-1</td>\n",
       "      <td>12</td>\n",
       "    </tr>\n",
       "  </tbody>\n",
       "</table>\n",
       "</div>"
      ],
      "text/plain": [
       "           ap_num  targtype  EPIC_ID  custom_RA  custom_DEC   object_name  \\\n",
       "119674  200164263         5      NaN        NaN         NaN  Comet.Chiron   \n",
       "119675  200164264         5      NaN        NaN         NaN  Comet.Chiron   \n",
       "119676  200164265         5      NaN        NaN         NaN  Comet.Chiron   \n",
       "119677  200164266         5      NaN        NaN         NaN  Comet.Chiron   \n",
       "119678  246199087         1      NaN        NaN         NaN    TRAPPIST-1   \n",
       "\n",
       "        campaign  \n",
       "119674        12  \n",
       "119675        12  \n",
       "119676        12  \n",
       "119677        12  \n",
       "119678        12  "
      ]
     },
     "execution_count": 24,
     "metadata": {},
     "output_type": "execute_result"
    }
   ],
   "source": [
    "caf_all.tail()"
   ]
  },
  {
   "cell_type": "markdown",
   "metadata": {},
   "source": [
    "What are the targets with the most number of custom apertures?"
   ]
  },
  {
   "cell_type": "code",
   "execution_count": 25,
   "metadata": {
    "scrolled": false
   },
   "outputs": [
    {
     "data": {
      "text/plain": [
       "C9 Microlense Survey                3496\n",
       "Asteroid.Trojan.Leucus              2999\n",
       "Comet C/2013 A1 (Siding Springs)    2583\n",
       "Comet.67P/Churyumov-Gerasimenko     2200\n",
       "Asteroid.Trojan.2001 DU87           1700\n",
       "Name: object_name, dtype: int64"
      ]
     },
     "execution_count": 25,
     "metadata": {},
     "output_type": "execute_result"
    }
   ],
   "source": [
    "caf_all.object_name.value_counts().head()"
   ]
  },
  {
   "cell_type": "markdown",
   "metadata": {},
   "source": [
    "I spot-checked the \"Golden Caf\" that JVC sent, and my own pandas-based analysis and we arive at the same list."
   ]
  },
  {
   "cell_type": "markdown",
   "metadata": {},
   "source": [
    "## Make an easy-to-use golden caf with extra metadata"
   ]
  },
  {
   "cell_type": "markdown",
   "metadata": {},
   "source": [
    "This section gets a little messy with pandas-*fu*, but, it works."
   ]
  },
  {
   "cell_type": "code",
   "execution_count": 26,
   "metadata": {},
   "outputs": [
    {
     "name": "stderr",
     "output_type": "stream",
     "text": [
      "/Users/obsidian/anaconda3/lib/python3.6/site-packages/ipykernel_launcher.py:2: FutureWarning: Using 'rename_axis' to alter labels is deprecated. Use '.rename' instead\n",
      "  \n",
      "/Users/obsidian/anaconda3/lib/python3.6/site-packages/ipykernel_launcher.py:4: FutureWarning: Using 'rename_axis' to alter labels is deprecated. Use '.rename' instead\n",
      "  after removing the cwd from sys.path.\n"
     ]
    },
    {
     "data": {
      "text/html": [
       "<div>\n",
       "<style scoped>\n",
       "    .dataframe tbody tr th:only-of-type {\n",
       "        vertical-align: middle;\n",
       "    }\n",
       "\n",
       "    .dataframe tbody tr th {\n",
       "        vertical-align: top;\n",
       "    }\n",
       "\n",
       "    .dataframe thead th {\n",
       "        text-align: right;\n",
       "    }\n",
       "</style>\n",
       "<table border=\"1\" class=\"dataframe\">\n",
       "  <thead>\n",
       "    <tr style=\"text-align: right;\">\n",
       "      <th></th>\n",
       "      <th>object_name</th>\n",
       "      <th>ap_start</th>\n",
       "      <th>ap_end</th>\n",
       "    </tr>\n",
       "  </thead>\n",
       "  <tbody>\n",
       "    <tr>\n",
       "      <th>0</th>\n",
       "      <td>2002 GV31</td>\n",
       "      <td>200001049</td>\n",
       "      <td>200001049</td>\n",
       "    </tr>\n",
       "    <tr>\n",
       "      <th>1</th>\n",
       "      <td>33 CET</td>\n",
       "      <td>220291034</td>\n",
       "      <td>220291034</td>\n",
       "    </tr>\n",
       "    <tr>\n",
       "      <th>2</th>\n",
       "      <td>42 CET</td>\n",
       "      <td>220186864</td>\n",
       "      <td>220186864</td>\n",
       "    </tr>\n",
       "    <tr>\n",
       "      <th>3</th>\n",
       "      <td>60 PSC</td>\n",
       "      <td>220498764</td>\n",
       "      <td>220498764</td>\n",
       "    </tr>\n",
       "    <tr>\n",
       "      <th>4</th>\n",
       "      <td>73 PSC</td>\n",
       "      <td>220448752</td>\n",
       "      <td>220448752</td>\n",
       "    </tr>\n",
       "  </tbody>\n",
       "</table>\n",
       "</div>"
      ],
      "text/plain": [
       "  object_name   ap_start     ap_end\n",
       "0   2002 GV31  200001049  200001049\n",
       "1      33 CET  220291034  220291034\n",
       "2      42 CET  220186864  220186864\n",
       "3      60 PSC  220498764  220498764\n",
       "4      73 PSC  220448752  220448752"
      ]
     },
     "execution_count": 26,
     "metadata": {},
     "output_type": "execute_result"
    }
   ],
   "source": [
    "caf_ap_range1 = pd.pivot_table(caf_all, index='object_name', values=['ap_num'], aggfunc=np.min)\n",
    "caf_ap_range1 = caf_ap_range1.reset_index().rename_axis({'ap_num':'ap_start'}, axis=1)\n",
    "caf_ap_range2 = pd.pivot_table(caf_all, index='object_name', values=['ap_num'], aggfunc=np.max)\n",
    "caf_ap_range2= caf_ap_range2.reset_index().rename_axis({'ap_num':'ap_end'}, axis=1)\n",
    "caf_ap_range = pd.merge(caf_ap_range1, caf_ap_range2, how='left', on='object_name')\n",
    "caf_ap_range.head()"
   ]
  },
  {
   "cell_type": "markdown",
   "metadata": {},
   "source": [
    "Applying a min aggregating function is the same as taking a random element when all elements are equal."
   ]
  },
  {
   "cell_type": "code",
   "execution_count": 27,
   "metadata": {},
   "outputs": [
    {
     "data": {
      "text/html": [
       "<div>\n",
       "<style scoped>\n",
       "    .dataframe tbody tr th:only-of-type {\n",
       "        vertical-align: middle;\n",
       "    }\n",
       "\n",
       "    .dataframe tbody tr th {\n",
       "        vertical-align: top;\n",
       "    }\n",
       "\n",
       "    .dataframe thead th {\n",
       "        text-align: right;\n",
       "    }\n",
       "</style>\n",
       "<table border=\"1\" class=\"dataframe\">\n",
       "  <thead>\n",
       "    <tr style=\"text-align: right;\">\n",
       "      <th></th>\n",
       "      <th>EPIC_ID</th>\n",
       "      <th>object_name</th>\n",
       "    </tr>\n",
       "  </thead>\n",
       "  <tbody>\n",
       "    <tr>\n",
       "      <th>0</th>\n",
       "      <td>201594287.0</td>\n",
       "      <td>Bright Stars.P04_LEO</td>\n",
       "    </tr>\n",
       "    <tr>\n",
       "      <th>1</th>\n",
       "      <td>201646904.0</td>\n",
       "      <td>Large Galaxies</td>\n",
       "    </tr>\n",
       "    <tr>\n",
       "      <th>2</th>\n",
       "      <td>201661880.0</td>\n",
       "      <td>Large Galaxies</td>\n",
       "    </tr>\n",
       "    <tr>\n",
       "      <th>3</th>\n",
       "      <td>201698740.0</td>\n",
       "      <td>Bright Stars.58_LEO</td>\n",
       "    </tr>\n",
       "    <tr>\n",
       "      <th>4</th>\n",
       "      <td>201885041.0</td>\n",
       "      <td>Star.Wolf-359</td>\n",
       "    </tr>\n",
       "  </tbody>\n",
       "</table>\n",
       "</div>"
      ],
      "text/plain": [
       "       EPIC_ID           object_name\n",
       "0  201594287.0  Bright Stars.P04_LEO\n",
       "1  201646904.0        Large Galaxies\n",
       "2  201661880.0        Large Galaxies\n",
       "3  201698740.0   Bright Stars.58_LEO\n",
       "4  201885041.0         Star.Wolf-359"
      ]
     },
     "execution_count": 27,
     "metadata": {},
     "output_type": "execute_result"
    }
   ],
   "source": [
    "c2_objname_raw = pd.pivot_table(caf_all, index='EPIC_ID', values=['object_name'], aggfunc=np.min)\n",
    "c2_objname = c2_objname_raw.reset_index()\n",
    "c2_objname.head()"
   ]
  },
  {
   "cell_type": "markdown",
   "metadata": {},
   "source": [
    "We'll need a data frame of the EPIC ID counts for later:"
   ]
  },
  {
   "cell_type": "code",
   "execution_count": 28,
   "metadata": {},
   "outputs": [
    {
     "name": "stderr",
     "output_type": "stream",
     "text": [
      "/Users/obsidian/anaconda3/lib/python3.6/site-packages/ipykernel_launcher.py:1: FutureWarning: Using 'rename_axis' to alter labels is deprecated. Use '.rename' instead\n",
      "  \"\"\"Entry point for launching an IPython kernel.\n"
     ]
    }
   ],
   "source": [
    "caf_counts_out = caf_all.object_name.value_counts().to_frame().reset_index().rename_axis({'index':'obj_name', 'object_name':'count'}, axis=1)"
   ]
  },
  {
   "cell_type": "code",
   "execution_count": 29,
   "metadata": {},
   "outputs": [
    {
     "data": {
      "text/html": [
       "<div>\n",
       "<style scoped>\n",
       "    .dataframe tbody tr th:only-of-type {\n",
       "        vertical-align: middle;\n",
       "    }\n",
       "\n",
       "    .dataframe tbody tr th {\n",
       "        vertical-align: top;\n",
       "    }\n",
       "\n",
       "    .dataframe thead th {\n",
       "        text-align: right;\n",
       "    }\n",
       "</style>\n",
       "<table border=\"1\" class=\"dataframe\">\n",
       "  <thead>\n",
       "    <tr style=\"text-align: right;\">\n",
       "      <th></th>\n",
       "      <th>obj_name</th>\n",
       "      <th>count</th>\n",
       "    </tr>\n",
       "  </thead>\n",
       "  <tbody>\n",
       "    <tr>\n",
       "      <th>0</th>\n",
       "      <td>C9 Microlense Survey</td>\n",
       "      <td>3496</td>\n",
       "    </tr>\n",
       "    <tr>\n",
       "      <th>1</th>\n",
       "      <td>Asteroid.Trojan.Leucus</td>\n",
       "      <td>2999</td>\n",
       "    </tr>\n",
       "    <tr>\n",
       "      <th>2</th>\n",
       "      <td>Comet C/2013 A1 (Siding Springs)</td>\n",
       "      <td>2583</td>\n",
       "    </tr>\n",
       "    <tr>\n",
       "      <th>3</th>\n",
       "      <td>Comet.67P/Churyumov-Gerasimenko</td>\n",
       "      <td>2200</td>\n",
       "    </tr>\n",
       "    <tr>\n",
       "      <th>4</th>\n",
       "      <td>Asteroid.Trojan.2001 DU87</td>\n",
       "      <td>1700</td>\n",
       "    </tr>\n",
       "  </tbody>\n",
       "</table>\n",
       "</div>"
      ],
      "text/plain": [
       "                           obj_name  count\n",
       "0              C9 Microlense Survey   3496\n",
       "1            Asteroid.Trojan.Leucus   2999\n",
       "2  Comet C/2013 A1 (Siding Springs)   2583\n",
       "3   Comet.67P/Churyumov-Gerasimenko   2200\n",
       "4         Asteroid.Trojan.2001 DU87   1700"
      ]
     },
     "execution_count": 29,
     "metadata": {},
     "output_type": "execute_result"
    }
   ],
   "source": [
    "caf_counts_out.head()"
   ]
  },
  {
   "cell_type": "markdown",
   "metadata": {},
   "source": [
    "We'll also need a dataframe of which campaigns the objects appear in:"
   ]
  },
  {
   "cell_type": "code",
   "execution_count": 30,
   "metadata": {},
   "outputs": [
    {
     "data": {
      "text/html": [
       "<div>\n",
       "<style scoped>\n",
       "    .dataframe tbody tr th:only-of-type {\n",
       "        vertical-align: middle;\n",
       "    }\n",
       "\n",
       "    .dataframe tbody tr th {\n",
       "        vertical-align: top;\n",
       "    }\n",
       "\n",
       "    .dataframe thead th {\n",
       "        text-align: right;\n",
       "    }\n",
       "</style>\n",
       "<table border=\"1\" class=\"dataframe\">\n",
       "  <thead>\n",
       "    <tr style=\"text-align: right;\">\n",
       "      <th></th>\n",
       "      <th>object_name</th>\n",
       "      <th>campaign</th>\n",
       "    </tr>\n",
       "  </thead>\n",
       "  <tbody>\n",
       "    <tr>\n",
       "      <th>0</th>\n",
       "      <td>2002 GV31</td>\n",
       "      <td>1</td>\n",
       "    </tr>\n",
       "    <tr>\n",
       "      <th>1</th>\n",
       "      <td>33 CET</td>\n",
       "      <td>8</td>\n",
       "    </tr>\n",
       "    <tr>\n",
       "      <th>2</th>\n",
       "      <td>42 CET</td>\n",
       "      <td>8</td>\n",
       "    </tr>\n",
       "    <tr>\n",
       "      <th>3</th>\n",
       "      <td>60 PSC</td>\n",
       "      <td>8</td>\n",
       "    </tr>\n",
       "    <tr>\n",
       "      <th>4</th>\n",
       "      <td>73 PSC</td>\n",
       "      <td>8</td>\n",
       "    </tr>\n",
       "  </tbody>\n",
       "</table>\n",
       "</div>"
      ],
      "text/plain": [
       "  object_name campaign\n",
       "0   2002 GV31        1\n",
       "1      33 CET        8\n",
       "2      42 CET        8\n",
       "3      60 PSC        8\n",
       "4      73 PSC        8"
      ]
     },
     "execution_count": 30,
     "metadata": {},
     "output_type": "execute_result"
    }
   ],
   "source": [
    "by_campaign = pd.pivot_table(caf_all, index='object_name', values=['campaign'], aggfunc=np.unique).reset_index()\n",
    "by_campaign.head()"
   ]
  },
  {
   "cell_type": "markdown",
   "metadata": {},
   "source": [
    "# Merge into a single, informative table."
   ]
  },
  {
   "cell_type": "markdown",
   "metadata": {},
   "source": [
    "We'll combine the metadata in a few steps:\n",
    "\n",
    "\n",
    "|identifier|Columns added|\n",
    "|--|--|\n",
    "| `out1` | obj_name, count, ap_start, ap_end, diff|\n",
    "| `out2` | EPIC_ID | \n",
    "| `out3` | Campaign appearances | \n",
    "| `out4` | Main type and subtype classifications | \n",
    "| `out5` | New names for ambiguous labels | "
   ]
  },
  {
   "cell_type": "markdown",
   "metadata": {},
   "source": [
    "### Add custom aperture start and end."
   ]
  },
  {
   "cell_type": "code",
   "execution_count": 31,
   "metadata": {},
   "outputs": [
    {
     "name": "stderr",
     "output_type": "stream",
     "text": [
      "/Users/obsidian/anaconda3/lib/python3.6/site-packages/ipykernel_launcher.py:2: FutureWarning: Using 'rename_axis' to alter labels is deprecated. Use '.rename' instead\n",
      "  \n"
     ]
    },
    {
     "data": {
      "text/html": [
       "<div>\n",
       "<style scoped>\n",
       "    .dataframe tbody tr th:only-of-type {\n",
       "        vertical-align: middle;\n",
       "    }\n",
       "\n",
       "    .dataframe tbody tr th {\n",
       "        vertical-align: top;\n",
       "    }\n",
       "\n",
       "    .dataframe thead th {\n",
       "        text-align: right;\n",
       "    }\n",
       "</style>\n",
       "<table border=\"1\" class=\"dataframe\">\n",
       "  <thead>\n",
       "    <tr style=\"text-align: right;\">\n",
       "      <th></th>\n",
       "      <th>obj_name</th>\n",
       "      <th>count</th>\n",
       "      <th>ap_start</th>\n",
       "      <th>ap_end</th>\n",
       "      <th>diff</th>\n",
       "    </tr>\n",
       "  </thead>\n",
       "  <tbody>\n",
       "    <tr>\n",
       "      <th>0</th>\n",
       "      <td>C9 Microlense Survey</td>\n",
       "      <td>3496</td>\n",
       "      <td>200069411</td>\n",
       "      <td>200071158</td>\n",
       "      <td>1748</td>\n",
       "    </tr>\n",
       "    <tr>\n",
       "      <th>1</th>\n",
       "      <td>Asteroid.Trojan.Leucus</td>\n",
       "      <td>2999</td>\n",
       "      <td>200125327</td>\n",
       "      <td>200145290</td>\n",
       "      <td>19964</td>\n",
       "    </tr>\n",
       "    <tr>\n",
       "      <th>2</th>\n",
       "      <td>Comet C/2013 A1 (Siding Springs)</td>\n",
       "      <td>2583</td>\n",
       "      <td>200001787</td>\n",
       "      <td>200004369</td>\n",
       "      <td>2583</td>\n",
       "    </tr>\n",
       "    <tr>\n",
       "      <th>3</th>\n",
       "      <td>Comet.67P/Churyumov-Gerasimenko</td>\n",
       "      <td>2200</td>\n",
       "      <td>200081804</td>\n",
       "      <td>200084003</td>\n",
       "      <td>2200</td>\n",
       "    </tr>\n",
       "    <tr>\n",
       "      <th>4</th>\n",
       "      <td>Asteroid.Trojan.2001 DU87</td>\n",
       "      <td>1700</td>\n",
       "      <td>200113657</td>\n",
       "      <td>200134731</td>\n",
       "      <td>21075</td>\n",
       "    </tr>\n",
       "  </tbody>\n",
       "</table>\n",
       "</div>"
      ],
      "text/plain": [
       "                           obj_name  count   ap_start     ap_end   diff\n",
       "0              C9 Microlense Survey   3496  200069411  200071158   1748\n",
       "1            Asteroid.Trojan.Leucus   2999  200125327  200145290  19964\n",
       "2  Comet C/2013 A1 (Siding Springs)   2583  200001787  200004369   2583\n",
       "3   Comet.67P/Churyumov-Gerasimenko   2200  200081804  200084003   2200\n",
       "4         Asteroid.Trojan.2001 DU87   1700  200113657  200134731  21075"
      ]
     },
     "execution_count": 31,
     "metadata": {},
     "output_type": "execute_result"
    }
   ],
   "source": [
    "out1 = pd.merge(caf_counts_out, \n",
    "                caf_ap_range.rename_axis({'object_name':'obj_name'}, axis=1),\n",
    "                how='outer', left_on='obj_name', right_on='obj_name', indicator=False)\n",
    "out1['diff'] = out1.ap_end - out1.ap_start +1\n",
    "out1.head()"
   ]
  },
  {
   "cell_type": "markdown",
   "metadata": {},
   "source": [
    "### Add an \"EPIC_ID\" column, when available"
   ]
  },
  {
   "cell_type": "code",
   "execution_count": 32,
   "metadata": {},
   "outputs": [
    {
     "name": "stderr",
     "output_type": "stream",
     "text": [
      "/Users/obsidian/anaconda3/lib/python3.6/site-packages/ipykernel_launcher.py:2: FutureWarning: Using 'rename_axis' to alter labels is deprecated. Use '.rename' instead\n",
      "  \n"
     ]
    },
    {
     "data": {
      "text/html": [
       "<div>\n",
       "<style scoped>\n",
       "    .dataframe tbody tr th:only-of-type {\n",
       "        vertical-align: middle;\n",
       "    }\n",
       "\n",
       "    .dataframe tbody tr th {\n",
       "        vertical-align: top;\n",
       "    }\n",
       "\n",
       "    .dataframe thead th {\n",
       "        text-align: right;\n",
       "    }\n",
       "</style>\n",
       "<table border=\"1\" class=\"dataframe\">\n",
       "  <thead>\n",
       "    <tr style=\"text-align: right;\">\n",
       "      <th></th>\n",
       "      <th>obj_name</th>\n",
       "      <th>count</th>\n",
       "      <th>ap_start</th>\n",
       "      <th>ap_end</th>\n",
       "      <th>diff</th>\n",
       "      <th>EPIC_ID</th>\n",
       "    </tr>\n",
       "  </thead>\n",
       "  <tbody>\n",
       "    <tr>\n",
       "      <th>0</th>\n",
       "      <td>C9 Microlense Survey</td>\n",
       "      <td>3496</td>\n",
       "      <td>200069411</td>\n",
       "      <td>200071158</td>\n",
       "      <td>1748</td>\n",
       "      <td>NaN</td>\n",
       "    </tr>\n",
       "    <tr>\n",
       "      <th>1</th>\n",
       "      <td>Asteroid.Trojan.Leucus</td>\n",
       "      <td>2999</td>\n",
       "      <td>200125327</td>\n",
       "      <td>200145290</td>\n",
       "      <td>19964</td>\n",
       "      <td>NaN</td>\n",
       "    </tr>\n",
       "    <tr>\n",
       "      <th>2</th>\n",
       "      <td>Comet C/2013 A1 (Siding Springs)</td>\n",
       "      <td>2583</td>\n",
       "      <td>200001787</td>\n",
       "      <td>200004369</td>\n",
       "      <td>2583</td>\n",
       "      <td>NaN</td>\n",
       "    </tr>\n",
       "    <tr>\n",
       "      <th>3</th>\n",
       "      <td>Comet.67P/Churyumov-Gerasimenko</td>\n",
       "      <td>2200</td>\n",
       "      <td>200081804</td>\n",
       "      <td>200084003</td>\n",
       "      <td>2200</td>\n",
       "      <td>NaN</td>\n",
       "    </tr>\n",
       "    <tr>\n",
       "      <th>4</th>\n",
       "      <td>Asteroid.Trojan.2001 DU87</td>\n",
       "      <td>1700</td>\n",
       "      <td>200113657</td>\n",
       "      <td>200134731</td>\n",
       "      <td>21075</td>\n",
       "      <td>NaN</td>\n",
       "    </tr>\n",
       "  </tbody>\n",
       "</table>\n",
       "</div>"
      ],
      "text/plain": [
       "                           obj_name  count   ap_start     ap_end   diff  \\\n",
       "0              C9 Microlense Survey   3496  200069411  200071158   1748   \n",
       "1            Asteroid.Trojan.Leucus   2999  200125327  200145290  19964   \n",
       "2  Comet C/2013 A1 (Siding Springs)   2583  200001787  200004369   2583   \n",
       "3   Comet.67P/Churyumov-Gerasimenko   2200  200081804  200084003   2200   \n",
       "4         Asteroid.Trojan.2001 DU87   1700  200113657  200134731  21075   \n",
       "\n",
       "   EPIC_ID  \n",
       "0      NaN  \n",
       "1      NaN  \n",
       "2      NaN  \n",
       "3      NaN  \n",
       "4      NaN  "
      ]
     },
     "execution_count": 32,
     "metadata": {},
     "output_type": "execute_result"
    }
   ],
   "source": [
    "out2 = pd.merge(out1, \n",
    "                c2_objname.rename_axis({'object_name':'obj_name'}, axis=1),\n",
    "                how='left', on='obj_name', indicator=False)\n",
    "out2.head()"
   ]
  },
  {
   "cell_type": "markdown",
   "metadata": {},
   "source": [
    "### Add a campaign column"
   ]
  },
  {
   "cell_type": "code",
   "execution_count": 33,
   "metadata": {},
   "outputs": [
    {
     "data": {
      "text/html": [
       "<div>\n",
       "<style scoped>\n",
       "    .dataframe tbody tr th:only-of-type {\n",
       "        vertical-align: middle;\n",
       "    }\n",
       "\n",
       "    .dataframe tbody tr th {\n",
       "        vertical-align: top;\n",
       "    }\n",
       "\n",
       "    .dataframe thead th {\n",
       "        text-align: right;\n",
       "    }\n",
       "</style>\n",
       "<table border=\"1\" class=\"dataframe\">\n",
       "  <thead>\n",
       "    <tr style=\"text-align: right;\">\n",
       "      <th></th>\n",
       "      <th>obj_name</th>\n",
       "      <th>count</th>\n",
       "      <th>ap_start</th>\n",
       "      <th>ap_end</th>\n",
       "      <th>diff</th>\n",
       "      <th>EPIC_ID</th>\n",
       "      <th>campaign</th>\n",
       "    </tr>\n",
       "  </thead>\n",
       "  <tbody>\n",
       "    <tr>\n",
       "      <th>0</th>\n",
       "      <td>C9 Microlense Survey</td>\n",
       "      <td>3496</td>\n",
       "      <td>200069411</td>\n",
       "      <td>200071158</td>\n",
       "      <td>1748</td>\n",
       "      <td>NaN</td>\n",
       "      <td>[91, 92]</td>\n",
       "    </tr>\n",
       "    <tr>\n",
       "      <th>1</th>\n",
       "      <td>Asteroid.Trojan.Leucus</td>\n",
       "      <td>2999</td>\n",
       "      <td>200125327</td>\n",
       "      <td>200145290</td>\n",
       "      <td>19964</td>\n",
       "      <td>NaN</td>\n",
       "      <td>[111, 112]</td>\n",
       "    </tr>\n",
       "    <tr>\n",
       "      <th>2</th>\n",
       "      <td>Comet C/2013 A1 (Siding Springs)</td>\n",
       "      <td>2583</td>\n",
       "      <td>200001787</td>\n",
       "      <td>200004369</td>\n",
       "      <td>2583</td>\n",
       "      <td>NaN</td>\n",
       "      <td>2</td>\n",
       "    </tr>\n",
       "    <tr>\n",
       "      <th>3</th>\n",
       "      <td>Comet.67P/Churyumov-Gerasimenko</td>\n",
       "      <td>2200</td>\n",
       "      <td>200081804</td>\n",
       "      <td>200084003</td>\n",
       "      <td>2200</td>\n",
       "      <td>NaN</td>\n",
       "      <td>10</td>\n",
       "    </tr>\n",
       "    <tr>\n",
       "      <th>4</th>\n",
       "      <td>Asteroid.Trojan.2001 DU87</td>\n",
       "      <td>1700</td>\n",
       "      <td>200113657</td>\n",
       "      <td>200134731</td>\n",
       "      <td>21075</td>\n",
       "      <td>NaN</td>\n",
       "      <td>[111, 112]</td>\n",
       "    </tr>\n",
       "  </tbody>\n",
       "</table>\n",
       "</div>"
      ],
      "text/plain": [
       "                           obj_name  count   ap_start     ap_end   diff  \\\n",
       "0              C9 Microlense Survey   3496  200069411  200071158   1748   \n",
       "1            Asteroid.Trojan.Leucus   2999  200125327  200145290  19964   \n",
       "2  Comet C/2013 A1 (Siding Springs)   2583  200001787  200004369   2583   \n",
       "3   Comet.67P/Churyumov-Gerasimenko   2200  200081804  200084003   2200   \n",
       "4         Asteroid.Trojan.2001 DU87   1700  200113657  200134731  21075   \n",
       "\n",
       "   EPIC_ID    campaign  \n",
       "0      NaN    [91, 92]  \n",
       "1      NaN  [111, 112]  \n",
       "2      NaN           2  \n",
       "3      NaN          10  \n",
       "4      NaN  [111, 112]  "
      ]
     },
     "execution_count": 33,
     "metadata": {},
     "output_type": "execute_result"
    }
   ],
   "source": [
    "out3 = pd.merge(out2, by_campaign.rename(columns={'object_name':'obj_name'}), how='outer', on='obj_name')\n",
    "out3.head(5)"
   ]
  },
  {
   "cell_type": "markdown",
   "metadata": {},
   "source": [
    "### Add category columns"
   ]
  },
  {
   "cell_type": "markdown",
   "metadata": {},
   "source": [
    "We could set categories with a dictionary, or many other ways.  I decided to use control flow because the search order matters-- we want to handle instances where substrings appear in order of shorter substrings."
   ]
  },
  {
   "cell_type": "code",
   "execution_count": 34,
   "metadata": {},
   "outputs": [],
   "source": [
    "def cat_picker(col, num=0):\n",
    "    splits = col.split('.')\n",
    "    n_splits = len(splits)\n",
    "    out=['null', 'null']\n",
    "    if n_splits == 1:\n",
    "        out=['null', col]\n",
    "    if col.upper().find('TROJAN') != -1:\n",
    "        out=['asteroid-Trojan', col[col.upper().find('TROJAN')+6:]]\n",
    "    if col.upper().find('ASTEROID.TROJAN') != -1:\n",
    "        out=['asteroid-Trojan', splits[2]]\n",
    "    if col.upper().find('ASTEROID.HILDA') != -1:\n",
    "        out=['asteroid-Hilda', splits[2]]\n",
    "    if (col.upper().find('COMET') != -1) & (n_splits==1):\n",
    "        out=['comet', col[col.upper().find('COMET'):]]\n",
    "    if col.upper().find('COMET.') != -1:\n",
    "        out=['comet', splits[1]]\n",
    "    if col.upper().find('MOON') != -1:\n",
    "        out=['moon', splits[1]]\n",
    "    if col.upper().find('CLUSTER') != -1:\n",
    "        out=['cluster', splits[1]]\n",
    "    if col.upper().find('LARGE GALAXIES') != -1:\n",
    "        out=['Large Galaxies', 'null']\n",
    "    if col.upper().find('LARGE GALAXIES.') != -1:\n",
    "        out=['Large Galaxies', splits[1]]\n",
    "    if col.upper().find('TNO') != -1:\n",
    "        out=['TNO', col[col.upper().find('TNO')+3:]]\n",
    "    if col.upper().find('TNO.') != -1:\n",
    "        out=['TNO', splits[1]]\n",
    "    if col in ['M4', 'M35', 'M67', 'Ruprecht 147', 'M8 Lagoon Nebula', 'M80']:\n",
    "        out=['cluster', col]\n",
    "    if (col[0:3] == 'MOA') or (col[0:4]=='OGLE'):\n",
    "        out=['microlensing-events', col]\n",
    "    if col in ['Neptune']:\n",
    "        out=['planet', col]\n",
    "    if col in ['PLANET.Uranus']:\n",
    "        out=['planet', splits[1]]\n",
    "    if col in ['Pluto']:\n",
    "        out=['TNO', col]\n",
    "    if col.upper().find('BRIGHT STARS.') != -1:\n",
    "        out=['bright stars', splits[1]]\n",
    "    if col == 'Dark Clouds':\n",
    "        out=['C9 Dark Clouds', 'null']\n",
    "    if col.upper().find('IC 1613') != -1:\n",
    "        out=['Large Galaxies', 'IC 1613']\n",
    "    if col=='2002 GV31':\n",
    "        out=['TNO', '2002 GV31']\n",
    "    if col in ['TRAPPIST-1', 'Star.Wolf-359']:\n",
    "        out=['Star', col]\n",
    "    if col in ['60 PSC', '42 CET', '80 PSC', '73 PSC', \n",
    "               'EPS PSC', 'WW PSC','ZET PSC', 'HR 243', '33 CET']:\n",
    "        out=['bright stars', col]\n",
    "    if col=='Ongoing_Microlens_Events_C11':\n",
    "        out = ['C11 Microlensing Events', 'null']\n",
    "    if col=='HR 161':\n",
    "        out=['bright stars', 'HR 161']\n",
    "    if col=='Asteroid.373':\n",
    "        out=['asteroid-Main Belt', '373 Melusina']\n",
    "    if col=='C9 Microlense Survey':\n",
    "        out=['C9 Microlens Survey', 'null']\n",
    "    return out[num]"
   ]
  },
  {
   "cell_type": "code",
   "execution_count": 35,
   "metadata": {},
   "outputs": [],
   "source": [
    "out4 = out3.copy()"
   ]
  },
  {
   "cell_type": "code",
   "execution_count": 36,
   "metadata": {},
   "outputs": [],
   "source": [
    "out4['main_type'] = out4.obj_name.apply(cat_picker,num=0)\n",
    "out4['sub_type'] = out4.obj_name.apply(cat_picker,num=1)"
   ]
  },
  {
   "cell_type": "code",
   "execution_count": 37,
   "metadata": {},
   "outputs": [],
   "source": [
    "#pd.options.display.max_rows = 999"
   ]
  },
  {
   "cell_type": "code",
   "execution_count": 38,
   "metadata": {
    "scrolled": false
   },
   "outputs": [],
   "source": [
    "#out4.main_type.value_counts()"
   ]
  },
  {
   "cell_type": "code",
   "execution_count": 39,
   "metadata": {
    "scrolled": false
   },
   "outputs": [
    {
     "data": {
      "text/html": [
       "<div>\n",
       "<style scoped>\n",
       "    .dataframe tbody tr th:only-of-type {\n",
       "        vertical-align: middle;\n",
       "    }\n",
       "\n",
       "    .dataframe tbody tr th {\n",
       "        vertical-align: top;\n",
       "    }\n",
       "\n",
       "    .dataframe thead th {\n",
       "        text-align: right;\n",
       "    }\n",
       "</style>\n",
       "<table border=\"1\" class=\"dataframe\">\n",
       "  <thead>\n",
       "    <tr style=\"text-align: right;\">\n",
       "      <th></th>\n",
       "      <th>obj_name</th>\n",
       "      <th>count</th>\n",
       "      <th>ap_start</th>\n",
       "      <th>ap_end</th>\n",
       "      <th>diff</th>\n",
       "      <th>EPIC_ID</th>\n",
       "      <th>campaign</th>\n",
       "      <th>main_type</th>\n",
       "      <th>sub_type</th>\n",
       "    </tr>\n",
       "  </thead>\n",
       "  <tbody>\n",
       "    <tr>\n",
       "      <th>433</th>\n",
       "      <td>2002 GV31</td>\n",
       "      <td>1</td>\n",
       "      <td>200001049</td>\n",
       "      <td>200001049</td>\n",
       "      <td>1</td>\n",
       "      <td>NaN</td>\n",
       "      <td>1</td>\n",
       "      <td>TNO</td>\n",
       "      <td>2002 GV31</td>\n",
       "    </tr>\n",
       "    <tr>\n",
       "      <th>434</th>\n",
       "      <td>HR 161</td>\n",
       "      <td>1</td>\n",
       "      <td>220323358</td>\n",
       "      <td>220323358</td>\n",
       "      <td>1</td>\n",
       "      <td>NaN</td>\n",
       "      <td>8</td>\n",
       "      <td>bright stars</td>\n",
       "      <td>HR 161</td>\n",
       "    </tr>\n",
       "    <tr>\n",
       "      <th>435</th>\n",
       "      <td>80 PSC</td>\n",
       "      <td>1</td>\n",
       "      <td>220448416</td>\n",
       "      <td>220448416</td>\n",
       "      <td>1</td>\n",
       "      <td>NaN</td>\n",
       "      <td>8</td>\n",
       "      <td>bright stars</td>\n",
       "      <td>80 PSC</td>\n",
       "    </tr>\n",
       "    <tr>\n",
       "      <th>436</th>\n",
       "      <td>42 CET</td>\n",
       "      <td>1</td>\n",
       "      <td>220186864</td>\n",
       "      <td>220186864</td>\n",
       "      <td>1</td>\n",
       "      <td>NaN</td>\n",
       "      <td>8</td>\n",
       "      <td>bright stars</td>\n",
       "      <td>42 CET</td>\n",
       "    </tr>\n",
       "    <tr>\n",
       "      <th>437</th>\n",
       "      <td>Large Galaxies.NGC 3279</td>\n",
       "      <td>1</td>\n",
       "      <td>200182983</td>\n",
       "      <td>200182983</td>\n",
       "      <td>1</td>\n",
       "      <td>NaN</td>\n",
       "      <td>14</td>\n",
       "      <td>Large Galaxies</td>\n",
       "      <td>NGC 3279</td>\n",
       "    </tr>\n",
       "  </tbody>\n",
       "</table>\n",
       "</div>"
      ],
      "text/plain": [
       "                    obj_name  count   ap_start     ap_end  diff  EPIC_ID  \\\n",
       "433                2002 GV31      1  200001049  200001049     1      NaN   \n",
       "434                   HR 161      1  220323358  220323358     1      NaN   \n",
       "435                   80 PSC      1  220448416  220448416     1      NaN   \n",
       "436                   42 CET      1  220186864  220186864     1      NaN   \n",
       "437  Large Galaxies.NGC 3279      1  200182983  200182983     1      NaN   \n",
       "\n",
       "    campaign       main_type   sub_type  \n",
       "433        1             TNO  2002 GV31  \n",
       "434        8    bright stars     HR 161  \n",
       "435        8    bright stars     80 PSC  \n",
       "436        8    bright stars     42 CET  \n",
       "437       14  Large Galaxies   NGC 3279  "
      ]
     },
     "execution_count": 39,
     "metadata": {},
     "output_type": "execute_result"
    }
   ],
   "source": [
    "out4.tail()"
   ]
  },
  {
   "cell_type": "code",
   "execution_count": 40,
   "metadata": {
    "scrolled": false
   },
   "outputs": [],
   "source": [
    "#out4[out4.main_type == 'null']"
   ]
  },
  {
   "cell_type": "markdown",
   "metadata": {},
   "source": [
    "### Replace ambiguous labels with unique EPIC ID names\n",
    "\n",
    "Ambiguous labels are hard to work with, they should be the \"type\" label."
   ]
  },
  {
   "cell_type": "code",
   "execution_count": 41,
   "metadata": {},
   "outputs": [],
   "source": [
    "ambiguous_labels = ['Bright Stars', 'Bright Custom', 'Isolated Stars', 'Bright Stars SC']"
   ]
  },
  {
   "cell_type": "code",
   "execution_count": 42,
   "metadata": {},
   "outputs": [],
   "source": [
    "out5 = out4.copy()"
   ]
  },
  {
   "cell_type": "code",
   "execution_count": 43,
   "metadata": {},
   "outputs": [],
   "source": [
    "to_keep = ~out5.obj_name.isin(ambiguous_labels+['ARP'])\n",
    "out5 = out5[to_keep]\n",
    "out5['new_obj_name'] = out5['obj_name'].copy()"
   ]
  },
  {
   "cell_type": "code",
   "execution_count": 44,
   "metadata": {},
   "outputs": [],
   "source": [
    "def transform_caf_subset(df, main_type='null', sub_type='null'):\n",
    "    '''Replaces ambiguous names with unique names for Golden Caf'''\n",
    "    keep_cols = ~df.columns.isin(['targtype', 'EPIC_ID', 'custom_RA', 'custom_DEC'])\n",
    "    df = df[df.columns[keep_cols]].reset_index(drop=True)\n",
    "    df['ap_start'] = df['ap_num']\n",
    "    df['ap_end'] = df['ap_num']\n",
    "    df['EPIC_ID'] = df['ap_num']\n",
    "    df['new_obj_name'] = df['ap_num']\n",
    "    df['count'] = 1\n",
    "    df['diff'] = 1\n",
    "    df['main_type'] = main_type\n",
    "    df['sub_type'] = sub_type\n",
    "    df = df.rename(columns={'object_name':'obj_name'})\n",
    "    df = df.drop(['ap_num'], axis=1)\n",
    "    \n",
    "    return df"
   ]
  },
  {
   "cell_type": "code",
   "execution_count": 45,
   "metadata": {},
   "outputs": [
    {
     "name": "stdout",
     "output_type": "stream",
     "text": [
      "Bright Stars\n",
      "Bright Custom\n",
      "Isolated Stars\n",
      "Bright Stars SC\n"
     ]
    }
   ],
   "source": [
    "for label in ambiguous_labels:\n",
    "    print(label)\n",
    "    labelled_subset = caf_all[caf_all.object_name == label]\n",
    "    out_subset = transform_caf_subset(labelled_subset, main_type=label, sub_type='null')\n",
    "    out5 = pd.concat([out5, out_subset], axis=0, ignore_index=True)"
   ]
  },
  {
   "cell_type": "code",
   "execution_count": 46,
   "metadata": {},
   "outputs": [
    {
     "data": {
      "text/html": [
       "<div>\n",
       "<style scoped>\n",
       "    .dataframe tbody tr th:only-of-type {\n",
       "        vertical-align: middle;\n",
       "    }\n",
       "\n",
       "    .dataframe tbody tr th {\n",
       "        vertical-align: top;\n",
       "    }\n",
       "\n",
       "    .dataframe thead th {\n",
       "        text-align: right;\n",
       "    }\n",
       "</style>\n",
       "<table border=\"1\" class=\"dataframe\">\n",
       "  <thead>\n",
       "    <tr style=\"text-align: right;\">\n",
       "      <th></th>\n",
       "      <th>ap_num</th>\n",
       "      <th>targtype</th>\n",
       "      <th>EPIC_ID</th>\n",
       "      <th>custom_RA</th>\n",
       "      <th>custom_DEC</th>\n",
       "      <th>object_name</th>\n",
       "      <th>campaign</th>\n",
       "    </tr>\n",
       "  </thead>\n",
       "  <tbody>\n",
       "    <tr>\n",
       "      <th>119674</th>\n",
       "      <td>200164263</td>\n",
       "      <td>5</td>\n",
       "      <td>NaN</td>\n",
       "      <td>NaN</td>\n",
       "      <td>NaN</td>\n",
       "      <td>Comet.Chiron</td>\n",
       "      <td>12</td>\n",
       "    </tr>\n",
       "    <tr>\n",
       "      <th>119675</th>\n",
       "      <td>200164264</td>\n",
       "      <td>5</td>\n",
       "      <td>NaN</td>\n",
       "      <td>NaN</td>\n",
       "      <td>NaN</td>\n",
       "      <td>Comet.Chiron</td>\n",
       "      <td>12</td>\n",
       "    </tr>\n",
       "    <tr>\n",
       "      <th>119676</th>\n",
       "      <td>200164265</td>\n",
       "      <td>5</td>\n",
       "      <td>NaN</td>\n",
       "      <td>NaN</td>\n",
       "      <td>NaN</td>\n",
       "      <td>Comet.Chiron</td>\n",
       "      <td>12</td>\n",
       "    </tr>\n",
       "    <tr>\n",
       "      <th>119677</th>\n",
       "      <td>200164266</td>\n",
       "      <td>5</td>\n",
       "      <td>NaN</td>\n",
       "      <td>NaN</td>\n",
       "      <td>NaN</td>\n",
       "      <td>Comet.Chiron</td>\n",
       "      <td>12</td>\n",
       "    </tr>\n",
       "    <tr>\n",
       "      <th>119678</th>\n",
       "      <td>246199087</td>\n",
       "      <td>1</td>\n",
       "      <td>NaN</td>\n",
       "      <td>NaN</td>\n",
       "      <td>NaN</td>\n",
       "      <td>TRAPPIST-1</td>\n",
       "      <td>12</td>\n",
       "    </tr>\n",
       "  </tbody>\n",
       "</table>\n",
       "</div>"
      ],
      "text/plain": [
       "           ap_num  targtype  EPIC_ID  custom_RA  custom_DEC   object_name  \\\n",
       "119674  200164263         5      NaN        NaN         NaN  Comet.Chiron   \n",
       "119675  200164264         5      NaN        NaN         NaN  Comet.Chiron   \n",
       "119676  200164265         5      NaN        NaN         NaN  Comet.Chiron   \n",
       "119677  200164266         5      NaN        NaN         NaN  Comet.Chiron   \n",
       "119678  246199087         1      NaN        NaN         NaN    TRAPPIST-1   \n",
       "\n",
       "        campaign  \n",
       "119674        12  \n",
       "119675        12  \n",
       "119676        12  \n",
       "119677        12  \n",
       "119678        12  "
      ]
     },
     "execution_count": 46,
     "metadata": {},
     "output_type": "execute_result"
    }
   ],
   "source": [
    "caf_all.tail()"
   ]
  },
  {
   "cell_type": "code",
   "execution_count": 47,
   "metadata": {},
   "outputs": [],
   "source": [
    "caf_all.object_name.value_counts().to_csv('temp.csv')"
   ]
  },
  {
   "cell_type": "code",
   "execution_count": 48,
   "metadata": {},
   "outputs": [
    {
     "data": {
      "text/plain": [
       "asteroid-Trojan            156\n",
       "microlensing-events         72\n",
       "Bright Stars                71\n",
       "Large Galaxies              66\n",
       "TNO                         54\n",
       "Bright Custom               50\n",
       "asteroid-Hilda              30\n",
       "bright stars                17\n",
       "comet                       13\n",
       "cluster                     11\n",
       "Bright Stars SC              9\n",
       "Isolated Stars               8\n",
       "moon                         6\n",
       "Star                         2\n",
       "planet                       2\n",
       "C9 Dark Clouds               1\n",
       "C9 Microlens Survey          1\n",
       "C11 Microlensing Events      1\n",
       "asteroid-Main Belt           1\n",
       "Name: main_type, dtype: int64"
      ]
     },
     "execution_count": 48,
     "metadata": {},
     "output_type": "execute_result"
    }
   ],
   "source": [
    "out5.main_type.value_counts()"
   ]
  },
  {
   "cell_type": "code",
   "execution_count": 49,
   "metadata": {},
   "outputs": [],
   "source": [
    "out_col_order = ['obj_name', 'campaign', 'ap_start', 'ap_end', 'count', 'EPIC_ID', \n",
    "                 'main_type', 'sub_type','new_obj_name']"
   ]
  },
  {
   "cell_type": "code",
   "execution_count": 50,
   "metadata": {},
   "outputs": [],
   "source": [
    "out5 = out5[out_col_order]"
   ]
  },
  {
   "cell_type": "markdown",
   "metadata": {},
   "source": [
    "### The campaigns should be strings not lists"
   ]
  },
  {
   "cell_type": "code",
   "execution_count": 51,
   "metadata": {},
   "outputs": [],
   "source": [
    "multi_campaigns = out5.campaign.apply(type) == np.ndarray"
   ]
  },
  {
   "cell_type": "code",
   "execution_count": 52,
   "metadata": {},
   "outputs": [],
   "source": [
    "format_func = lambda vals: np.array2string(vals, separator='|')[1:-1]"
   ]
  },
  {
   "cell_type": "code",
   "execution_count": 53,
   "metadata": {},
   "outputs": [],
   "source": [
    "out6 = out5.copy()"
   ]
  },
  {
   "cell_type": "code",
   "execution_count": 54,
   "metadata": {},
   "outputs": [
    {
     "name": "stderr",
     "output_type": "stream",
     "text": [
      "/Users/obsidian/anaconda3/lib/python3.6/site-packages/ipykernel_launcher.py:1: SettingWithCopyWarning: \n",
      "A value is trying to be set on a copy of a slice from a DataFrame\n",
      "\n",
      "See the caveats in the documentation: http://pandas.pydata.org/pandas-docs/stable/indexing.html#indexing-view-versus-copy\n",
      "  \"\"\"Entry point for launching an IPython kernel.\n"
     ]
    }
   ],
   "source": [
    "out6.campaign[multi_campaigns] = out5.campaign[multi_campaigns].apply(format_func)"
   ]
  },
  {
   "cell_type": "markdown",
   "metadata": {},
   "source": [
    "Make them all strings"
   ]
  },
  {
   "cell_type": "code",
   "execution_count": 55,
   "metadata": {},
   "outputs": [],
   "source": [
    "out6.campaign = out6.campaign.astype(str)"
   ]
  },
  {
   "cell_type": "code",
   "execution_count": 56,
   "metadata": {
    "scrolled": false
   },
   "outputs": [
    {
     "data": {
      "text/html": [
       "<div>\n",
       "<style scoped>\n",
       "    .dataframe tbody tr th:only-of-type {\n",
       "        vertical-align: middle;\n",
       "    }\n",
       "\n",
       "    .dataframe tbody tr th {\n",
       "        vertical-align: top;\n",
       "    }\n",
       "\n",
       "    .dataframe thead th {\n",
       "        text-align: right;\n",
       "    }\n",
       "</style>\n",
       "<table border=\"1\" class=\"dataframe\">\n",
       "  <thead>\n",
       "    <tr style=\"text-align: right;\">\n",
       "      <th></th>\n",
       "      <th>obj_name</th>\n",
       "      <th>campaign</th>\n",
       "      <th>ap_start</th>\n",
       "      <th>ap_end</th>\n",
       "      <th>count</th>\n",
       "      <th>EPIC_ID</th>\n",
       "      <th>main_type</th>\n",
       "      <th>sub_type</th>\n",
       "      <th>new_obj_name</th>\n",
       "    </tr>\n",
       "  </thead>\n",
       "  <tbody>\n",
       "    <tr>\n",
       "      <th>0</th>\n",
       "      <td>C9 Microlense Survey</td>\n",
       "      <td>91|92</td>\n",
       "      <td>200069411</td>\n",
       "      <td>200071158</td>\n",
       "      <td>3496</td>\n",
       "      <td>NaN</td>\n",
       "      <td>C9 Microlens Survey</td>\n",
       "      <td>null</td>\n",
       "      <td>C9 Microlense Survey</td>\n",
       "    </tr>\n",
       "    <tr>\n",
       "      <th>1</th>\n",
       "      <td>Asteroid.Trojan.Leucus</td>\n",
       "      <td>111|112</td>\n",
       "      <td>200125327</td>\n",
       "      <td>200145290</td>\n",
       "      <td>2999</td>\n",
       "      <td>NaN</td>\n",
       "      <td>asteroid-Trojan</td>\n",
       "      <td>Leucus</td>\n",
       "      <td>Asteroid.Trojan.Leucus</td>\n",
       "    </tr>\n",
       "    <tr>\n",
       "      <th>2</th>\n",
       "      <td>Comet C/2013 A1 (Siding Springs)</td>\n",
       "      <td>2</td>\n",
       "      <td>200001787</td>\n",
       "      <td>200004369</td>\n",
       "      <td>2583</td>\n",
       "      <td>NaN</td>\n",
       "      <td>comet</td>\n",
       "      <td>Comet C/2013 A1 (Siding Springs)</td>\n",
       "      <td>Comet C/2013 A1 (Siding Springs)</td>\n",
       "    </tr>\n",
       "    <tr>\n",
       "      <th>3</th>\n",
       "      <td>Comet.67P/Churyumov-Gerasimenko</td>\n",
       "      <td>10</td>\n",
       "      <td>200081804</td>\n",
       "      <td>200084003</td>\n",
       "      <td>2200</td>\n",
       "      <td>NaN</td>\n",
       "      <td>comet</td>\n",
       "      <td>67P/Churyumov-Gerasimenko</td>\n",
       "      <td>Comet.67P/Churyumov-Gerasimenko</td>\n",
       "    </tr>\n",
       "    <tr>\n",
       "      <th>4</th>\n",
       "      <td>Asteroid.Trojan.2001 DU87</td>\n",
       "      <td>111|112</td>\n",
       "      <td>200113657</td>\n",
       "      <td>200134731</td>\n",
       "      <td>1700</td>\n",
       "      <td>NaN</td>\n",
       "      <td>asteroid-Trojan</td>\n",
       "      <td>2001 DU87</td>\n",
       "      <td>Asteroid.Trojan.2001 DU87</td>\n",
       "    </tr>\n",
       "  </tbody>\n",
       "</table>\n",
       "</div>"
      ],
      "text/plain": [
       "                           obj_name campaign   ap_start     ap_end  count  \\\n",
       "0              C9 Microlense Survey    91|92  200069411  200071158   3496   \n",
       "1            Asteroid.Trojan.Leucus  111|112  200125327  200145290   2999   \n",
       "2  Comet C/2013 A1 (Siding Springs)        2  200001787  200004369   2583   \n",
       "3   Comet.67P/Churyumov-Gerasimenko       10  200081804  200084003   2200   \n",
       "4         Asteroid.Trojan.2001 DU87  111|112  200113657  200134731   1700   \n",
       "\n",
       "   EPIC_ID            main_type                          sub_type  \\\n",
       "0      NaN  C9 Microlens Survey                              null   \n",
       "1      NaN      asteroid-Trojan                            Leucus   \n",
       "2      NaN                comet  Comet C/2013 A1 (Siding Springs)   \n",
       "3      NaN                comet         67P/Churyumov-Gerasimenko   \n",
       "4      NaN      asteroid-Trojan                         2001 DU87   \n",
       "\n",
       "                       new_obj_name  \n",
       "0              C9 Microlense Survey  \n",
       "1            Asteroid.Trojan.Leucus  \n",
       "2  Comet C/2013 A1 (Siding Springs)  \n",
       "3   Comet.67P/Churyumov-Gerasimenko  \n",
       "4         Asteroid.Trojan.2001 DU87  "
      ]
     },
     "execution_count": 56,
     "metadata": {},
     "output_type": "execute_result"
    }
   ],
   "source": [
    "out6.head()"
   ]
  },
  {
   "cell_type": "code",
   "execution_count": 57,
   "metadata": {
    "collapsed": true
   },
   "outputs": [],
   "source": [
    "out6.to_csv('../metadata/temp/temp_caf_stats.csv', index=False)"
   ]
  },
  {
   "cell_type": "code",
   "execution_count": 58,
   "metadata": {
    "collapsed": true
   },
   "outputs": [],
   "source": [
    "! open ../metadata/temp/"
   ]
  },
  {
   "cell_type": "markdown",
   "metadata": {},
   "source": [
    "# More todo"
   ]
  },
  {
   "cell_type": "markdown",
   "metadata": {},
   "source": [
    "1. ~~Check all EPIC ids less than the custom aperture number threshold~~\n",
    "2. ~~Check objects with more files than difference between high and low custom numbers.~~\n",
    "3. ~~Complete custom categorization~~\n",
    "4. ~~Manually input names for ambiguous labels~~\n",
    "5. ~~Fix the Campaign from lists to strings.~~"
   ]
  },
  {
   "cell_type": "markdown",
   "metadata": {},
   "source": [
    "## Check all EPIC ides less than the custom aperture number threshold\n",
    "\n",
    "Huber et al. 2016 Table 3 defines the EPIC numbers for custom targets and K2 targets:\n",
    "\n",
    "> `200M–201M` K2 Custom Aperture Targets  \n",
    "> `>201M` EPIC (K2 Catalog Targets)"
   ]
  },
  {
   "cell_type": "code",
   "execution_count": 57,
   "metadata": {},
   "outputs": [],
   "source": [
    "custom_ids = caf_all.ap_num < 201000000"
   ]
  },
  {
   "cell_type": "code",
   "execution_count": 58,
   "metadata": {},
   "outputs": [
    {
     "data": {
      "text/plain": [
       "(119508, 171, 119679)"
      ]
     },
     "execution_count": 58,
     "metadata": {},
     "output_type": "execute_result"
    }
   ],
   "source": [
    "custom_ids.sum(), (~custom_ids).sum(), len(custom_ids)"
   ]
  },
  {
   "cell_type": "markdown",
   "metadata": {},
   "source": [
    "OK, so 171 names are *not* in the custom id range.  These are likely bright stars or known galaxies."
   ]
  },
  {
   "cell_type": "code",
   "execution_count": 59,
   "metadata": {},
   "outputs": [
    {
     "data": {
      "text/plain": [
       "array(['Star.Wolf-359', 'Bright Stars', 'Bright Stars SC',\n",
       "       'Bright Custom', 'Large Galaxies', 'EPS PSC', 'ZET PSC', '80 PSC',\n",
       "       '33 CET', '60 PSC', '73 PSC', 'WW PSC', '42 CET', 'HR 243',\n",
       "       'HR 161', 'TRAPPIST-1'], dtype=object)"
      ]
     },
     "execution_count": 59,
     "metadata": {},
     "output_type": "execute_result"
    }
   ],
   "source": [
    "caf_all[~custom_ids].object_name.unique()"
   ]
  },
  {
   "cell_type": "markdown",
   "metadata": {},
   "source": [
    "Indeed, that guess was correct."
   ]
  },
  {
   "cell_type": "markdown",
   "metadata": {},
   "source": [
    "What about the largest custom id issued?  Is it equal to the total number of custom apertures?"
   ]
  },
  {
   "cell_type": "code",
   "execution_count": 60,
   "metadata": {},
   "outputs": [
    {
     "data": {
      "text/plain": [
       "(200183086, 200000811)"
      ]
     },
     "execution_count": 60,
     "metadata": {},
     "output_type": "execute_result"
    }
   ],
   "source": [
    "caf_all[custom_ids].ap_num.max(), caf_all.ap_num.min()"
   ]
  },
  {
   "cell_type": "markdown",
   "metadata": {},
   "source": [
    "There might be some custom apertures in the engineering run possessing 20000000-2000811 which we don't have here..."
   ]
  },
  {
   "cell_type": "code",
   "execution_count": 61,
   "metadata": {},
   "outputs": [],
   "source": [
    "N_custom_aps = caf_all[custom_ids].ap_num.max() - caf_all.ap_num.min()"
   ]
  },
  {
   "cell_type": "code",
   "execution_count": 62,
   "metadata": {},
   "outputs": [
    {
     "data": {
      "text/plain": [
       "182275"
      ]
     },
     "execution_count": 62,
     "metadata": {},
     "output_type": "execute_result"
    }
   ],
   "source": [
    "N_custom_aps"
   ]
  },
  {
   "cell_type": "markdown",
   "metadata": {},
   "source": [
    "So about 182,275 custom apertures have been issued, assuming all custom apertures are actually delivered.  How many are in the caf all list?"
   ]
  },
  {
   "cell_type": "code",
   "execution_count": 63,
   "metadata": {},
   "outputs": [
    {
     "data": {
      "text/plain": [
       "(119679, 7)"
      ]
     },
     "execution_count": 63,
     "metadata": {},
     "output_type": "execute_result"
    }
   ],
   "source": [
    "caf_all.shape"
   ]
  },
  {
   "cell_type": "markdown",
   "metadata": {},
   "source": [
    "We only have 119,679, naively suggesting some missing custom apertures:"
   ]
  },
  {
   "cell_type": "code",
   "execution_count": 64,
   "metadata": {},
   "outputs": [
    {
     "data": {
      "text/plain": [
       "62596"
      ]
     },
     "execution_count": 64,
     "metadata": {},
     "output_type": "execute_result"
    }
   ],
   "source": [
    "N_missing = 182275 - 119679\n",
    "N_missing"
   ]
  },
  {
   "cell_type": "code",
   "execution_count": 65,
   "metadata": {},
   "outputs": [
    {
     "data": {
      "text/plain": [
       "'Missing 34.3% of custom apertures'"
      ]
     },
     "execution_count": 65,
     "metadata": {},
     "output_type": "execute_result"
    }
   ],
   "source": [
    "'Missing {:0.1%} of custom apertures'.format(N_missing/N_custom_aps)"
   ]
  },
  {
   "cell_type": "markdown",
   "metadata": {},
   "source": [
    "I suspect these are engineering apertures or something, making them escape our tracking."
   ]
  },
  {
   "cell_type": "markdown",
   "metadata": {},
   "source": [
    "## Check objects with more files than difference between high and low custom numbers."
   ]
  },
  {
   "cell_type": "code",
   "execution_count": 66,
   "metadata": {},
   "outputs": [
    {
     "data": {
      "text/plain": [
       "[<matplotlib.lines.Line2D at 0x10801d7f0>]"
      ]
     },
     "execution_count": 66,
     "metadata": {},
     "output_type": "execute_result"
    },
    {
     "data": {
      "image/png": "[encoded data removed]",
      "text/plain": [
       "<matplotlib.figure.Figure at 0x107f015c0>"
      ]
     },
     "metadata": {
      "image/png": {
       "height": 373,
       "width": 389
      }
     },
     "output_type": "display_data"
    }
   ],
   "source": [
    "plt.figure(figsize=(6,6))\n",
    "plt.plot(out3['count'], out3['diff'], '.')\n",
    "plt.xscale('log')\n",
    "plt.yscale('log')\n",
    "plt.plot([1,3500], [1, 3500], 'k:', alpha=0.3)\n",
    "plt.xlim(1, 3500)\n",
    "plt.ylim(1, 3500)\n",
    "plt.xlabel('Count of custom apertures for a given object')\n",
    "plt.ylabel('Max id - Min id')\n",
    "\n",
    "repeat_ids = out3['count'] > out3['diff']\n",
    "plt.plot(out3['count'][repeat_ids], out3['diff'][repeat_ids], 'o')"
   ]
  },
  {
   "cell_type": "markdown",
   "metadata": {},
   "source": [
    "Numbers below the line have more actual custom id counts than the difference between their maximum and minimum custom id number, suggesting some repeats."
   ]
  },
  {
   "cell_type": "code",
   "execution_count": 67,
   "metadata": {},
   "outputs": [
    {
     "data": {
      "text/html": [
       "<div>\n",
       "<style scoped>\n",
       "    .dataframe tbody tr th:only-of-type {\n",
       "        vertical-align: middle;\n",
       "    }\n",
       "\n",
       "    .dataframe tbody tr th {\n",
       "        vertical-align: top;\n",
       "    }\n",
       "\n",
       "    .dataframe thead th {\n",
       "        text-align: right;\n",
       "    }\n",
       "</style>\n",
       "<table border=\"1\" class=\"dataframe\">\n",
       "  <thead>\n",
       "    <tr style=\"text-align: right;\">\n",
       "      <th></th>\n",
       "      <th>obj_name</th>\n",
       "      <th>count</th>\n",
       "      <th>ap_start</th>\n",
       "      <th>ap_end</th>\n",
       "      <th>diff</th>\n",
       "      <th>EPIC_ID</th>\n",
       "      <th>campaign</th>\n",
       "    </tr>\n",
       "  </thead>\n",
       "  <tbody>\n",
       "    <tr>\n",
       "      <th>0</th>\n",
       "      <td>C9 Microlense Survey</td>\n",
       "      <td>3496</td>\n",
       "      <td>200069411</td>\n",
       "      <td>200071158</td>\n",
       "      <td>1748</td>\n",
       "      <td>NaN</td>\n",
       "      <td>[91, 92]</td>\n",
       "    </tr>\n",
       "    <tr>\n",
       "      <th>20</th>\n",
       "      <td>TNO.Quaoar</td>\n",
       "      <td>1154</td>\n",
       "      <td>200068780</td>\n",
       "      <td>200069356</td>\n",
       "      <td>577</td>\n",
       "      <td>NaN</td>\n",
       "      <td>[91, 92]</td>\n",
       "    </tr>\n",
       "    <tr>\n",
       "      <th>313</th>\n",
       "      <td>M8 Lagoon Nebula</td>\n",
       "      <td>40</td>\n",
       "      <td>200071160</td>\n",
       "      <td>200071179</td>\n",
       "      <td>20</td>\n",
       "      <td>NaN</td>\n",
       "      <td>[91, 92]</td>\n",
       "    </tr>\n",
       "    <tr>\n",
       "      <th>328</th>\n",
       "      <td>Dark Clouds</td>\n",
       "      <td>12</td>\n",
       "      <td>200069381</td>\n",
       "      <td>200069386</td>\n",
       "      <td>6</td>\n",
       "      <td>NaN</td>\n",
       "      <td>[91, 92]</td>\n",
       "    </tr>\n",
       "    <tr>\n",
       "      <th>350</th>\n",
       "      <td>Isolated Stars</td>\n",
       "      <td>8</td>\n",
       "      <td>200069387</td>\n",
       "      <td>200069390</td>\n",
       "      <td>4</td>\n",
       "      <td>NaN</td>\n",
       "      <td>[91, 92]</td>\n",
       "    </tr>\n",
       "  </tbody>\n",
       "</table>\n",
       "</div>"
      ],
      "text/plain": [
       "                 obj_name  count   ap_start     ap_end  diff  EPIC_ID  \\\n",
       "0    C9 Microlense Survey   3496  200069411  200071158  1748      NaN   \n",
       "20             TNO.Quaoar   1154  200068780  200069356   577      NaN   \n",
       "313      M8 Lagoon Nebula     40  200071160  200071179    20      NaN   \n",
       "328           Dark Clouds     12  200069381  200069386     6      NaN   \n",
       "350        Isolated Stars      8  200069387  200069390     4      NaN   \n",
       "\n",
       "     campaign  \n",
       "0    [91, 92]  \n",
       "20   [91, 92]  \n",
       "313  [91, 92]  \n",
       "328  [91, 92]  \n",
       "350  [91, 92]  "
      ]
     },
     "execution_count": 67,
     "metadata": {},
     "output_type": "execute_result"
    }
   ],
   "source": [
    "out3[repeat_ids]"
   ]
  },
  {
   "cell_type": "markdown",
   "metadata": {},
   "source": [
    "So for example in the last column:"
   ]
  },
  {
   "cell_type": "code",
   "execution_count": 68,
   "metadata": {},
   "outputs": [
    {
     "data": {
      "text/plain": [
       "3"
      ]
     },
     "execution_count": 68,
     "metadata": {},
     "output_type": "execute_result"
    }
   ],
   "source": [
    "200069390 - 200069387"
   ]
  },
  {
   "cell_type": "markdown",
   "metadata": {},
   "source": [
    "Is less than the total count of \"8\"."
   ]
  },
  {
   "cell_type": "code",
   "execution_count": 69,
   "metadata": {},
   "outputs": [
    {
     "data": {
      "text/html": [
       "<div>\n",
       "<style scoped>\n",
       "    .dataframe tbody tr th:only-of-type {\n",
       "        vertical-align: middle;\n",
       "    }\n",
       "\n",
       "    .dataframe tbody tr th {\n",
       "        vertical-align: top;\n",
       "    }\n",
       "\n",
       "    .dataframe thead th {\n",
       "        text-align: right;\n",
       "    }\n",
       "</style>\n",
       "<table border=\"1\" class=\"dataframe\">\n",
       "  <thead>\n",
       "    <tr style=\"text-align: right;\">\n",
       "      <th></th>\n",
       "      <th>ap_num</th>\n",
       "      <th>targtype</th>\n",
       "      <th>EPIC_ID</th>\n",
       "      <th>custom_RA</th>\n",
       "      <th>custom_DEC</th>\n",
       "      <th>object_name</th>\n",
       "      <th>campaign</th>\n",
       "    </tr>\n",
       "  </thead>\n",
       "  <tbody>\n",
       "    <tr>\n",
       "      <th>38071</th>\n",
       "      <td>200069387</td>\n",
       "      <td>4</td>\n",
       "      <td>NaN</td>\n",
       "      <td>NaN</td>\n",
       "      <td>NaN</td>\n",
       "      <td>Isolated Stars</td>\n",
       "      <td>92</td>\n",
       "    </tr>\n",
       "    <tr>\n",
       "      <th>38072</th>\n",
       "      <td>200069388</td>\n",
       "      <td>4</td>\n",
       "      <td>NaN</td>\n",
       "      <td>NaN</td>\n",
       "      <td>NaN</td>\n",
       "      <td>Isolated Stars</td>\n",
       "      <td>92</td>\n",
       "    </tr>\n",
       "    <tr>\n",
       "      <th>38073</th>\n",
       "      <td>200069389</td>\n",
       "      <td>4</td>\n",
       "      <td>NaN</td>\n",
       "      <td>NaN</td>\n",
       "      <td>NaN</td>\n",
       "      <td>Isolated Stars</td>\n",
       "      <td>92</td>\n",
       "    </tr>\n",
       "    <tr>\n",
       "      <th>38074</th>\n",
       "      <td>200069390</td>\n",
       "      <td>4</td>\n",
       "      <td>NaN</td>\n",
       "      <td>NaN</td>\n",
       "      <td>NaN</td>\n",
       "      <td>Isolated Stars</td>\n",
       "      <td>92</td>\n",
       "    </tr>\n",
       "    <tr>\n",
       "      <th>40809</th>\n",
       "      <td>200069387</td>\n",
       "      <td>4</td>\n",
       "      <td>NaN</td>\n",
       "      <td>NaN</td>\n",
       "      <td>NaN</td>\n",
       "      <td>Isolated Stars</td>\n",
       "      <td>91</td>\n",
       "    </tr>\n",
       "    <tr>\n",
       "      <th>40810</th>\n",
       "      <td>200069388</td>\n",
       "      <td>4</td>\n",
       "      <td>NaN</td>\n",
       "      <td>NaN</td>\n",
       "      <td>NaN</td>\n",
       "      <td>Isolated Stars</td>\n",
       "      <td>91</td>\n",
       "    </tr>\n",
       "    <tr>\n",
       "      <th>40811</th>\n",
       "      <td>200069389</td>\n",
       "      <td>4</td>\n",
       "      <td>NaN</td>\n",
       "      <td>NaN</td>\n",
       "      <td>NaN</td>\n",
       "      <td>Isolated Stars</td>\n",
       "      <td>91</td>\n",
       "    </tr>\n",
       "    <tr>\n",
       "      <th>40812</th>\n",
       "      <td>200069390</td>\n",
       "      <td>4</td>\n",
       "      <td>NaN</td>\n",
       "      <td>NaN</td>\n",
       "      <td>NaN</td>\n",
       "      <td>Isolated Stars</td>\n",
       "      <td>91</td>\n",
       "    </tr>\n",
       "  </tbody>\n",
       "</table>\n",
       "</div>"
      ],
      "text/plain": [
       "          ap_num  targtype  EPIC_ID  custom_RA  custom_DEC     object_name  \\\n",
       "38071  200069387         4      NaN        NaN         NaN  Isolated Stars   \n",
       "38072  200069388         4      NaN        NaN         NaN  Isolated Stars   \n",
       "38073  200069389         4      NaN        NaN         NaN  Isolated Stars   \n",
       "38074  200069390         4      NaN        NaN         NaN  Isolated Stars   \n",
       "40809  200069387         4      NaN        NaN         NaN  Isolated Stars   \n",
       "40810  200069388         4      NaN        NaN         NaN  Isolated Stars   \n",
       "40811  200069389         4      NaN        NaN         NaN  Isolated Stars   \n",
       "40812  200069390         4      NaN        NaN         NaN  Isolated Stars   \n",
       "\n",
       "       campaign  \n",
       "38071        92  \n",
       "38072        92  \n",
       "38073        92  \n",
       "38074        92  \n",
       "40809        91  \n",
       "40810        91  \n",
       "40811        91  \n",
       "40812        91  "
      ]
     },
     "execution_count": 69,
     "metadata": {},
     "output_type": "execute_result"
    }
   ],
   "source": [
    "caf_all[caf_all.object_name == 'Isolated Stars']"
   ]
  },
  {
   "cell_type": "markdown",
   "metadata": {},
   "source": [
    "No big deal... It looks like all of these are in two halves of campaign 9, doubling their count. "
   ]
  },
  {
   "cell_type": "code",
   "execution_count": 70,
   "metadata": {},
   "outputs": [
    {
     "data": {
      "text/plain": [
       "0      3496.0\n",
       "20     1154.0\n",
       "313      40.0\n",
       "328      12.0\n",
       "350       8.0\n",
       "Name: diff, dtype: float64"
      ]
     },
     "execution_count": 70,
     "metadata": {},
     "output_type": "execute_result"
    }
   ],
   "source": [
    "out3[repeat_ids]['diff'] * 2.0"
   ]
  },
  {
   "cell_type": "markdown",
   "metadata": {},
   "source": [
    "Solves that problem!"
   ]
  },
  {
   "cell_type": "markdown",
   "metadata": {},
   "source": [
    "<!--NAVIGATION-->\n",
    "< [K2 target index](01.04-TPF-header-scrape.ipynb) | [Contents](Index.ipynb) | [Everest lightcurve metadata](01.06-Everest-lightcurve-metadata.ipynb) >"
   ]
  }
 ],
 "metadata": {
  "kernelspec": {
   "display_name": "Python 3",
   "language": "python",
   "name": "python3"
  },
  "language_info": {
   "codemirror_mode": {
    "name": "ipython",
    "version": 3
   },
   "file_extension": ".py",
   "mimetype": "text/x-python",
   "name": "python",
   "nbconvert_exporter": "python",
   "pygments_lexer": "ipython3",
   "version": "3.6.3"
  }
 },
 "nbformat": 4,
 "nbformat_minor": 2
}
