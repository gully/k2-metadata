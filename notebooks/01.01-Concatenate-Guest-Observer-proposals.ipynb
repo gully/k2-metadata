{
 "cells": [
  {
   "cell_type": "markdown",
   "metadata": {},
   "source": [
    "<!--BOOK_INFORMATION-->\n",
    "<img align=\"left\" style=\"padding-right:10px;\" src=\"figures/k2_pix_small.png\">\n",
    "*This notebook contains instructional material from the [K2 Guest Observer Office](https://keplerscience.arc.nasa.gov/); the content is available [on GitHub](https://github.com/gully/k2-metadata).*\n"
   ]
  },
  {
   "cell_type": "markdown",
   "metadata": {},
   "source": [
    "<!--NAVIGATION-->\n",
    "< [Munge metadata into tidy dataframes](01.00-Munge-metadata-into-tidy-dataframes.ipynb) | [Contents](Index.ipynb) | [EPIC Catalog Column Descriptions](01.02-EPIC_catalog_column_descriptions.ipynb) >"
   ]
  },
  {
   "cell_type": "markdown",
   "metadata": {},
   "source": [
    "# K2 Guest Observer Proposal Information"
   ]
  },
  {
   "cell_type": "markdown",
   "metadata": {},
   "source": [
    "Most targets observed in the K2 mission are selected through the *Guest Observer* proposal program in which community members propose targets through a competitive application process.  The successful proposals are assigned Guest Observer \"Investigation IDs\", which help track who proposed for what targets.  \n",
    "\n",
    "The Kepler/K2 Guest Observer office provides [machine-readable tables](https://keplerscience.arc.nasa.gov/k2-approved-programs.html) of targets with the accompanying list of Investigation IDs on our website (select the [Target list (csv)](https://keplerscience.arc.nasa.gov/data/campaigns/c15/K2Campaign15targets.csv) link).  Some popular targets are proposed for by multiple groups; these have more than one accompanying Investigation ID delimited by pipes \"|\". There are typically a few tens of thousands of targets per campaign.\n",
    "\n",
    "In this notebook we programmatically read in the campaign-level tables and concatenate them into a single large csv file.\n",
    "\n",
    "The Guest Observer proposals also include RA and DEC and Kepler magnitude; this information is usually redundant with the EPIC catalog, and is provided for convenience.  Some targets were or will-be re-observed in multiple campaigns, so we must include the campaign alongside the EPIC ID."
   ]
  },
  {
   "cell_type": "code",
   "execution_count": 1,
   "metadata": {},
   "outputs": [],
   "source": [
    "#! wget –quiet --directory-prefix=../metadata/raw/proposed_targets/ https://keplerscience.arc.nasa.gov/data/campaigns/c18/K2Campaign18targets.csv\n",
    "#! wget –quiet --directory-prefix=../metadata/raw/proposed_targets/ https://keplerscience.arc.nasa.gov/data/campaigns/c19/K2Campaign19targets.csv    "
   ]
  },
  {
   "cell_type": "code",
   "execution_count": 2,
   "metadata": {},
   "outputs": [],
   "source": [
    "import pandas as pd\n",
    "import glob"
   ]
  },
  {
   "cell_type": "markdown",
   "metadata": {},
   "source": [
    "We will also use natsort to naturally sort strings as digits."
   ]
  },
  {
   "cell_type": "code",
   "execution_count": 3,
   "metadata": {},
   "outputs": [],
   "source": [
    "#! pip install natsort\n",
    "import natsort"
   ]
  },
  {
   "cell_type": "markdown",
   "metadata": {},
   "source": [
    "The Guest Observer files are just csv files."
   ]
  },
  {
   "cell_type": "code",
   "execution_count": 4,
   "metadata": {},
   "outputs": [
    {
     "name": "stdout",
     "output_type": "stream",
     "text": [
      "EPIC ID, RA (J2000) [deg], Dec (J2000) [deg], magnitude, Investigation IDs\r\n",
      "200008644, , , , LC_M67_TILE|GO5031_LC\r\n"
     ]
    }
   ],
   "source": [
    "! head -n 2 ../metadata/raw/proposed_targets/K2Campaign5targets.csv"
   ]
  },
  {
   "cell_type": "code",
   "execution_count": 5,
   "metadata": {},
   "outputs": [
    {
     "name": "stdout",
     "output_type": "stream",
     "text": [
      "228682514, 123.4091492, 19.2470398, 20.43, GO5069_LC\r\n",
      "228682515, 126.2561111, 21.5693302, 20.46, GO5069_LC\r\n",
      "228682516, 123.1126404, 19.2214298, 20.81, GO5069_LC\r\n",
      "228682517, 129.8887024, 23.5692005, 15.28, GO5073_SC|GO5073_LC\r\n",
      "228683400, 127.3239975, 11.5666857, 16.74, GO5097_LC\r\n"
     ]
    }
   ],
   "source": [
    "! tail -n 5 ../metadata/raw/proposed_targets/K2Campaign5targets.csv"
   ]
  },
  {
   "cell_type": "markdown",
   "metadata": {},
   "source": [
    "Make a list of all of the csv files in the `proposed_targets` directory."
   ]
  },
  {
   "cell_type": "code",
   "execution_count": 6,
   "metadata": {},
   "outputs": [],
   "source": [
    "fns = glob.glob('../metadata/raw/proposed_targets/*.csv')"
   ]
  },
  {
   "cell_type": "markdown",
   "metadata": {},
   "source": [
    "Use the nifty natsort package to sort the strings naturally."
   ]
  },
  {
   "cell_type": "code",
   "execution_count": 7,
   "metadata": {},
   "outputs": [],
   "source": [
    "fns = natsort.natsorted(fns)"
   ]
  },
  {
   "cell_type": "code",
   "execution_count": 8,
   "metadata": {},
   "outputs": [
    {
     "data": {
      "text/plain": [
       "['../metadata/raw/proposed_targets/K2Campaign0targets.csv',\n",
       " '../metadata/raw/proposed_targets/K2Campaign1targets.csv',\n",
       " '../metadata/raw/proposed_targets/K2Campaign2targets.csv',\n",
       " '../metadata/raw/proposed_targets/K2Campaign3targets.csv',\n",
       " '../metadata/raw/proposed_targets/K2Campaign4targets.csv',\n",
       " '../metadata/raw/proposed_targets/K2Campaign5targets.csv',\n",
       " '../metadata/raw/proposed_targets/K2Campaign6targets.csv',\n",
       " '../metadata/raw/proposed_targets/K2Campaign7targets.csv',\n",
       " '../metadata/raw/proposed_targets/K2Campaign8targets.csv',\n",
       " '../metadata/raw/proposed_targets/K2Campaign9atargets.csv',\n",
       " '../metadata/raw/proposed_targets/K2Campaign9btargets.csv',\n",
       " '../metadata/raw/proposed_targets/K2Campaign10targets.csv',\n",
       " '../metadata/raw/proposed_targets/K2Campaign11targets.csv',\n",
       " '../metadata/raw/proposed_targets/K2Campaign12targets.csv',\n",
       " '../metadata/raw/proposed_targets/K2Campaign13targets.csv',\n",
       " '../metadata/raw/proposed_targets/K2Campaign14targets.csv',\n",
       " '../metadata/raw/proposed_targets/K2Campaign15targets.csv',\n",
       " '../metadata/raw/proposed_targets/K2Campaign16targets.csv',\n",
       " '../metadata/raw/proposed_targets/K2Campaign17targets.csv',\n",
       " '../metadata/raw/proposed_targets/K2Campaign18targets.csv',\n",
       " '../metadata/raw/proposed_targets/K2Campaign19targets.csv']"
      ]
     },
     "execution_count": 8,
     "metadata": {},
     "output_type": "execute_result"
    }
   ],
   "source": [
    "fns"
   ]
  },
  {
   "cell_type": "code",
   "execution_count": 9,
   "metadata": {},
   "outputs": [],
   "source": [
    "df_all = pd.DataFrame()"
   ]
  },
  {
   "cell_type": "markdown",
   "metadata": {},
   "source": [
    "Campaigns 18 and 19 have non-standard columns."
   ]
  },
  {
   "cell_type": "code",
   "execution_count": 10,
   "metadata": {},
   "outputs": [],
   "source": [
    "keys = ['EPIC', 'RA', 'Dec', 'Kp', 'InvestigationIDs']\n",
    "vals = ['EPIC ID', 'RA (J2000) [deg]', 'Dec (J2000) [deg]', 'magnitude',\n",
    "       'Investigation IDs']\n",
    "conv_col_dict={key:val for key, val in zip(keys, vals)}\n",
    "\n",
    "conv_col_dict['rafloat'] = 'RA (J2000) [deg]'\n",
    "conv_col_dict['decfloat'] = 'Dec (J2000) [deg]'"
   ]
  },
  {
   "cell_type": "code",
   "execution_count": 11,
   "metadata": {},
   "outputs": [
    {
     "name": "stdout",
     "output_type": "stream",
     "text": [
      "0 1 2 3 4 5 6 7 8 9a 9b 10 11 12 13 14 15 16 17 18 19 "
     ]
    }
   ],
   "source": [
    "for fn in fns:\n",
    "    id_min, id_max = fn.rfind('K2Campaign')+10, fn.find('targets.csv')\n",
    "    campaign = fn[id_min:id_max]\n",
    "    df = pd.read_csv(fn)\n",
    "    # We need to clean the columns due to errant Campaign 1 whitespace\n",
    "    df.rename(columns={col:col.strip(' ') for col in df.columns}, inplace=True)\n",
    "    if campaign in ['18', '19']:\n",
    "        df.rename(columns=conv_col_dict, inplace=True)\n",
    "    df['campaign'] = campaign\n",
    "    df_all = df_all.append(df, ignore_index=True)\n",
    "    print(campaign, end=' ')"
   ]
  },
  {
   "cell_type": "code",
   "execution_count": 12,
   "metadata": {},
   "outputs": [],
   "source": [
    "df_all = df_all[vals + ['campaign']]"
   ]
  },
  {
   "cell_type": "code",
   "execution_count": 13,
   "metadata": {},
   "outputs": [
    {
     "data": {
      "text/html": [
       "<div>\n",
       "<style scoped>\n",
       "    .dataframe tbody tr th:only-of-type {\n",
       "        vertical-align: middle;\n",
       "    }\n",
       "\n",
       "    .dataframe tbody tr th {\n",
       "        vertical-align: top;\n",
       "    }\n",
       "\n",
       "    .dataframe thead th {\n",
       "        text-align: right;\n",
       "    }\n",
       "</style>\n",
       "<table border=\"1\" class=\"dataframe\">\n",
       "  <thead>\n",
       "    <tr style=\"text-align: right;\">\n",
       "      <th></th>\n",
       "      <th>EPIC ID</th>\n",
       "      <th>RA (J2000) [deg]</th>\n",
       "      <th>Dec (J2000) [deg]</th>\n",
       "      <th>magnitude</th>\n",
       "      <th>Investigation IDs</th>\n",
       "      <th>campaign</th>\n",
       "    </tr>\n",
       "  </thead>\n",
       "  <tbody>\n",
       "    <tr>\n",
       "      <th>70000</th>\n",
       "      <td>210647774</td>\n",
       "      <td>54.196178</td>\n",
       "      <td>17.63787</td>\n",
       "      <td>11.286</td>\n",
       "      <td>GO4060_LC|GO4033_LC|GO4007_LC</td>\n",
       "      <td>4</td>\n",
       "    </tr>\n",
       "    <tr>\n",
       "      <th>70001</th>\n",
       "      <td>210647804</td>\n",
       "      <td>51.69544</td>\n",
       "      <td>17.638214</td>\n",
       "      <td>13.587</td>\n",
       "      <td>GO4020_LC|GO4060_LC|GO4011_LC</td>\n",
       "      <td>4</td>\n",
       "    </tr>\n",
       "    <tr>\n",
       "      <th>70002</th>\n",
       "      <td>210647813</td>\n",
       "      <td>52.355005</td>\n",
       "      <td>17.638277</td>\n",
       "      <td>12.824</td>\n",
       "      <td>GO4029_LC|GO4033_LC|GO4007_LC</td>\n",
       "      <td>4</td>\n",
       "    </tr>\n",
       "    <tr>\n",
       "      <th>70003</th>\n",
       "      <td>210647818</td>\n",
       "      <td>56.497824</td>\n",
       "      <td>17.638409</td>\n",
       "      <td>17.511</td>\n",
       "      <td>GO4011_LC</td>\n",
       "      <td>4</td>\n",
       "    </tr>\n",
       "    <tr>\n",
       "      <th>70004</th>\n",
       "      <td>210648137</td>\n",
       "      <td>58.730242</td>\n",
       "      <td>17.642622</td>\n",
       "      <td>13.075</td>\n",
       "      <td>GO4020_LC|GO4060_LC|GO4007_LC</td>\n",
       "      <td>4</td>\n",
       "    </tr>\n",
       "  </tbody>\n",
       "</table>\n",
       "</div>"
      ],
      "text/plain": [
       "         EPIC ID RA (J2000) [deg] Dec (J2000) [deg] magnitude  \\\n",
       "70000  210647774        54.196178          17.63787    11.286   \n",
       "70001  210647804         51.69544         17.638214    13.587   \n",
       "70002  210647813        52.355005         17.638277    12.824   \n",
       "70003  210647818        56.497824         17.638409    17.511   \n",
       "70004  210648137        58.730242         17.642622    13.075   \n",
       "\n",
       "                    Investigation IDs campaign  \n",
       "70000   GO4060_LC|GO4033_LC|GO4007_LC        4  \n",
       "70001   GO4020_LC|GO4060_LC|GO4011_LC        4  \n",
       "70002   GO4029_LC|GO4033_LC|GO4007_LC        4  \n",
       "70003                       GO4011_LC        4  \n",
       "70004   GO4020_LC|GO4060_LC|GO4007_LC        4  "
      ]
     },
     "execution_count": 13,
     "metadata": {},
     "output_type": "execute_result"
    }
   ],
   "source": [
    "df_all.iloc[70000:70005]"
   ]
  },
  {
   "cell_type": "markdown",
   "metadata": {},
   "source": [
    "Most entries are populated, with some exceptions to RA, DEC, and magnitude."
   ]
  },
  {
   "cell_type": "code",
   "execution_count": 14,
   "metadata": {},
   "outputs": [
    {
     "data": {
      "text/html": [
       "<div>\n",
       "<style scoped>\n",
       "    .dataframe tbody tr th:only-of-type {\n",
       "        vertical-align: middle;\n",
       "    }\n",
       "\n",
       "    .dataframe tbody tr th {\n",
       "        vertical-align: top;\n",
       "    }\n",
       "\n",
       "    .dataframe thead th {\n",
       "        text-align: right;\n",
       "    }\n",
       "</style>\n",
       "<table border=\"1\" class=\"dataframe\">\n",
       "  <thead>\n",
       "    <tr style=\"text-align: right;\">\n",
       "      <th></th>\n",
       "      <th>EPIC ID</th>\n",
       "      <th>RA (J2000) [deg]</th>\n",
       "      <th>Dec (J2000) [deg]</th>\n",
       "      <th>magnitude</th>\n",
       "      <th>Investigation IDs</th>\n",
       "      <th>campaign</th>\n",
       "    </tr>\n",
       "  </thead>\n",
       "  <tbody>\n",
       "    <tr>\n",
       "      <th>count</th>\n",
       "      <td>588991</td>\n",
       "      <td>588991</td>\n",
       "      <td>588991</td>\n",
       "      <td>588991</td>\n",
       "      <td>588991</td>\n",
       "      <td>588991</td>\n",
       "    </tr>\n",
       "    <tr>\n",
       "      <th>unique</th>\n",
       "      <td>1</td>\n",
       "      <td>2</td>\n",
       "      <td>2</td>\n",
       "      <td>2</td>\n",
       "      <td>1</td>\n",
       "      <td>1</td>\n",
       "    </tr>\n",
       "    <tr>\n",
       "      <th>top</th>\n",
       "      <td>False</td>\n",
       "      <td>False</td>\n",
       "      <td>False</td>\n",
       "      <td>False</td>\n",
       "      <td>False</td>\n",
       "      <td>False</td>\n",
       "    </tr>\n",
       "    <tr>\n",
       "      <th>freq</th>\n",
       "      <td>588991</td>\n",
       "      <td>562219</td>\n",
       "      <td>562219</td>\n",
       "      <td>562218</td>\n",
       "      <td>588991</td>\n",
       "      <td>588991</td>\n",
       "    </tr>\n",
       "  </tbody>\n",
       "</table>\n",
       "</div>"
      ],
      "text/plain": [
       "       EPIC ID RA (J2000) [deg] Dec (J2000) [deg] magnitude Investigation IDs  \\\n",
       "count   588991           588991            588991    588991            588991   \n",
       "unique       1                2                 2         2                 1   \n",
       "top      False            False             False     False             False   \n",
       "freq    588991           562219            562219    562218            588991   \n",
       "\n",
       "       campaign  \n",
       "count    588991  \n",
       "unique        1  \n",
       "top       False  \n",
       "freq     588991  "
      ]
     },
     "execution_count": 14,
     "metadata": {},
     "output_type": "execute_result"
    }
   ],
   "source": [
    "df_all.isnull().describe()"
   ]
  },
  {
   "cell_type": "markdown",
   "metadata": {},
   "source": [
    "Most recent campaigns have about 40,000 targets proposed."
   ]
  },
  {
   "cell_type": "code",
   "execution_count": 15,
   "metadata": {},
   "outputs": [
    {
     "data": {
      "text/plain": [
       "0      7902\n",
       "1     21647\n",
       "2     16665\n",
       "3     16833\n",
       "4     17202\n",
       "5     25774\n",
       "6     47550\n",
       "7     15085\n",
       "8     29939\n",
       "9a     3417\n",
       "9b     3550\n",
       "10    41531\n",
       "11    32810\n",
       "12    45951\n",
       "13    26170\n",
       "14    39026\n",
       "15    35078\n",
       "16    35571\n",
       "17    46229\n",
       "18    36909\n",
       "19    44152\n",
       "Name: campaign, dtype: int64"
      ]
     },
     "execution_count": 15,
     "metadata": {},
     "output_type": "execute_result"
    }
   ],
   "source": [
    "vec = df_all.campaign.value_counts()\n",
    "vec[natsort.natsorted(vec.index)]"
   ]
  },
  {
   "cell_type": "code",
   "execution_count": 16,
   "metadata": {},
   "outputs": [
    {
     "data": {
      "text/plain": [
       "(588991, 6)"
      ]
     },
     "execution_count": 16,
     "metadata": {},
     "output_type": "execute_result"
    }
   ],
   "source": [
    "df_all.shape"
   ]
  },
  {
   "cell_type": "markdown",
   "metadata": {},
   "source": [
    "Naively, the K2 mission has targeted almost half-a-million sources!  However, this coarse count also includes \"tiles\" and custom aperture masks designed to mosaic a single complex scene, itself composed of multiple, extended, or moving objects."
   ]
  },
  {
   "cell_type": "code",
   "execution_count": 17,
   "metadata": {},
   "outputs": [],
   "source": [
    "df_all.to_csv('../metadata/tidy/GO_proposal_metadata.csv', index=False)"
   ]
  },
  {
   "cell_type": "code",
   "execution_count": 18,
   "metadata": {},
   "outputs": [
    {
     "data": {
      "text/plain": [
       "Index(['EPIC ID', 'RA (J2000) [deg]', 'Dec (J2000) [deg]', 'magnitude',\n",
       "       'Investigation IDs', 'campaign'],\n",
       "      dtype='object')"
      ]
     },
     "execution_count": 18,
     "metadata": {},
     "output_type": "execute_result"
    }
   ],
   "source": [
    "df_all.columns"
   ]
  },
  {
   "cell_type": "code",
   "execution_count": 19,
   "metadata": {},
   "outputs": [
    {
     "name": "stdout",
     "output_type": "stream",
     "text": [
      " 33M\t../metadata/tidy/GO_proposal_metadata.csv\r\n"
     ]
    }
   ],
   "source": [
    "! du -hs ../metadata/tidy/GO_proposal_metadata.csv"
   ]
  },
  {
   "cell_type": "code",
   "execution_count": 20,
   "metadata": {},
   "outputs": [
    {
     "name": "stdout",
     "output_type": "stream",
     "text": [
      "  588992 ../metadata/tidy/GO_proposal_metadata.csv\r\n"
     ]
    }
   ],
   "source": [
    "! wc -l ../metadata/tidy/GO_proposal_metadata.csv"
   ]
  },
  {
   "cell_type": "code",
   "execution_count": 21,
   "metadata": {},
   "outputs": [
    {
     "name": "stdout",
     "output_type": "stream",
     "text": [
      "EPIC ID,RA (J2000) [deg],Dec (J2000) [deg],magnitude,Investigation IDs,campaign\r\n",
      "200000811, , , , LC_M35_TILE,0\r\n",
      "200000812, , , , LC_M35_TILE,0\r\n",
      "200000813, , , , LC_M35_TILE,0\r\n",
      "200000814, , , , LC_M35_TILE,0\r\n",
      "200000815, , , , LC_M35_TILE,0\r\n",
      "200000816, , , , LC_M35_TILE,0\r\n",
      "200000817, , , , LC_M35_TILE,0\r\n",
      "200000818, , , , LC_M35_TILE,0\r\n",
      "200000819, , , , LC_M35_TILE,0\r\n"
     ]
    }
   ],
   "source": [
    "! head ../metadata/tidy/GO_proposal_metadata.csv"
   ]
  },
  {
   "cell_type": "code",
   "execution_count": 22,
   "metadata": {},
   "outputs": [],
   "source": [
    "! open ../metadata/tidy/"
   ]
  },
  {
   "cell_type": "markdown",
   "metadata": {},
   "source": [
    "All done, the combined file is 33 MB, with over half-a-million rows."
   ]
  },
  {
   "cell_type": "markdown",
   "metadata": {},
   "source": [
    "<!--NAVIGATION-->\n",
    "< [Munge metadata into tidy dataframes](01.00-Munge-metadata-into-tidy-dataframes.ipynb) | [Contents](Index.ipynb) | [EPIC Catalog Column Descriptions](01.02-EPIC_catalog_column_descriptions.ipynb) >"
   ]
  }
 ],
 "metadata": {
  "kernelspec": {
   "display_name": "Python 3",
   "language": "python",
   "name": "python3"
  },
  "language_info": {
   "codemirror_mode": {
    "name": "ipython",
    "version": 3
   },
   "file_extension": ".py",
   "mimetype": "text/x-python",
   "name": "python",
   "nbconvert_exporter": "python",
   "pygments_lexer": "ipython3",
   "version": "3.6.3"
  }
 },
 "nbformat": 4,
 "nbformat_minor": 2
}
