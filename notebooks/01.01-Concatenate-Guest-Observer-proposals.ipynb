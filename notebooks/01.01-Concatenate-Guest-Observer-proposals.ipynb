{
 "cells": [
  {
   "cell_type": "markdown",
   "metadata": {},
   "source": [
    "<!--BOOK_INFORMATION-->\n",
    "<img align=\"left\" style=\"padding-right:10px;\" src=\"figures/k2_pix_small.png\">\n",
    "*This notebook contains an excerpt instructional material from [gully](https://twitter.com/gully_) and the [K2 Guest Observer Office](https://keplerscience.arc.nasa.gov/); the content is available [on GitHub](https://github.com/gully/k2-metadata).*\n"
   ]
  },
  {
   "cell_type": "markdown",
   "metadata": {},
   "source": [
    "<!--NAVIGATION-->\n",
    "< [Munge metadata into tidy dataframes](01.00-Munge-metadata-into-tidy-dataframes.ipynb) | [Contents](Index.ipynb) | [EPIC Catalog Column Descriptions](01.02-EPIC_catalog_column_descriptions.ipynb) >"
   ]
  },
  {
   "cell_type": "markdown",
   "metadata": {},
   "source": [
    "# K2 Guest Observer Proposal Information"
   ]
  },
  {
   "cell_type": "markdown",
   "metadata": {},
   "source": [
    "Things to say:\n",
    "\n",
    "- Where and how to download all of the files\n",
    "- Dissect the GO proposal IDs\n",
    "- Read in the files\n",
    "- Note perceived redundancy of RA and DEC information with EPIC catalog\n",
    "- Note that some targets were or will-be re-observed in multiple campaigns, so we must include the campaign alongside the EPIC ID.\n",
    "- Save the combined file"
   ]
  },
  {
   "cell_type": "code",
   "execution_count": 1,
   "metadata": {
    "collapsed": true
   },
   "outputs": [],
   "source": [
    "import pandas as pd"
   ]
  },
  {
   "cell_type": "code",
   "execution_count": 2,
   "metadata": {
    "collapsed": true
   },
   "outputs": [],
   "source": [
    "import glob"
   ]
  },
  {
   "cell_type": "code",
   "execution_count": 3,
   "metadata": {
    "collapsed": true
   },
   "outputs": [],
   "source": [
    "#! pip install natsort\n",
    "import natsort"
   ]
  },
  {
   "cell_type": "markdown",
   "metadata": {},
   "source": [
    "We want all of the csv files in the `proposed_targets` directory."
   ]
  },
  {
   "cell_type": "code",
   "execution_count": 4,
   "metadata": {
    "collapsed": true
   },
   "outputs": [],
   "source": [
    "fns = glob.glob('../metadata/proposed_targets/*.csv')"
   ]
  },
  {
   "cell_type": "code",
   "execution_count": 6,
   "metadata": {
    "collapsed": true
   },
   "outputs": [],
   "source": [
    "fns = natsort.natsorted(fns)"
   ]
  },
  {
   "cell_type": "code",
   "execution_count": 6,
   "metadata": {
    "collapsed": true
   },
   "outputs": [],
   "source": [
    "df_all = pd.DataFrame()"
   ]
  },
  {
   "cell_type": "code",
   "execution_count": 7,
   "metadata": {},
   "outputs": [
    {
     "name": "stdout",
     "output_type": "stream",
     "text": [
      "0 1 2 3 4 5 6 7 8 9a 9b 10 11 12 13 14 15 "
     ]
    }
   ],
   "source": [
    "for fn in fns:\n",
    "    id_min, id_max = fn.rfind('K2Campaign')+10, fn.find('targets.csv')\n",
    "    campaign = fn[id_min:id_max]\n",
    "    df = pd.read_csv(fn)\n",
    "    # We need to clean the columns due to errant Campaign 1 whitespace\n",
    "    df.rename(columns={col:col.strip(' ') for col in df.columns}, inplace=True)\n",
    "    df['campaign'] = campaign\n",
    "    df_all = df_all.append(df, ignore_index=True)\n",
    "    print(campaign, end=' ')"
   ]
  },
  {
   "cell_type": "code",
   "execution_count": 8,
   "metadata": {},
   "outputs": [
    {
     "data": {
      "text/plain": [
       "Index(['EPIC ID', 'RA (J2000) [deg]', 'Dec (J2000) [deg]', 'magnitude',\n",
       "       'Investigation IDs', 'campaign'],\n",
       "      dtype='object')"
      ]
     },
     "execution_count": 8,
     "metadata": {},
     "output_type": "execute_result"
    }
   ],
   "source": [
    "df_all.columns"
   ]
  },
  {
   "cell_type": "code",
   "execution_count": 9,
   "metadata": {},
   "outputs": [
    {
     "data": {
      "text/html": [
       "<div>\n",
       "<style>\n",
       "    .dataframe thead tr:only-child th {\n",
       "        text-align: right;\n",
       "    }\n",
       "\n",
       "    .dataframe thead th {\n",
       "        text-align: left;\n",
       "    }\n",
       "\n",
       "    .dataframe tbody tr th {\n",
       "        vertical-align: top;\n",
       "    }\n",
       "</style>\n",
       "<table border=\"1\" class=\"dataframe\">\n",
       "  <thead>\n",
       "    <tr style=\"text-align: right;\">\n",
       "      <th></th>\n",
       "      <th>EPIC ID</th>\n",
       "      <th>RA (J2000) [deg]</th>\n",
       "      <th>Dec (J2000) [deg]</th>\n",
       "      <th>magnitude</th>\n",
       "      <th>Investigation IDs</th>\n",
       "      <th>campaign</th>\n",
       "    </tr>\n",
       "  </thead>\n",
       "  <tbody>\n",
       "    <tr>\n",
       "      <th>70000</th>\n",
       "      <td>210647774</td>\n",
       "      <td>54.196178</td>\n",
       "      <td>17.63787</td>\n",
       "      <td>11.286</td>\n",
       "      <td>GO4060_LC|GO4033_LC|GO4007_LC</td>\n",
       "      <td>4</td>\n",
       "    </tr>\n",
       "    <tr>\n",
       "      <th>70001</th>\n",
       "      <td>210647804</td>\n",
       "      <td>51.69544</td>\n",
       "      <td>17.638214</td>\n",
       "      <td>13.587</td>\n",
       "      <td>GO4020_LC|GO4060_LC|GO4011_LC</td>\n",
       "      <td>4</td>\n",
       "    </tr>\n",
       "    <tr>\n",
       "      <th>70002</th>\n",
       "      <td>210647813</td>\n",
       "      <td>52.355005</td>\n",
       "      <td>17.638277</td>\n",
       "      <td>12.824</td>\n",
       "      <td>GO4029_LC|GO4033_LC|GO4007_LC</td>\n",
       "      <td>4</td>\n",
       "    </tr>\n",
       "    <tr>\n",
       "      <th>70003</th>\n",
       "      <td>210647818</td>\n",
       "      <td>56.497824</td>\n",
       "      <td>17.638409</td>\n",
       "      <td>17.511</td>\n",
       "      <td>GO4011_LC</td>\n",
       "      <td>4</td>\n",
       "    </tr>\n",
       "    <tr>\n",
       "      <th>70004</th>\n",
       "      <td>210648137</td>\n",
       "      <td>58.730242</td>\n",
       "      <td>17.642622</td>\n",
       "      <td>13.075</td>\n",
       "      <td>GO4020_LC|GO4060_LC|GO4007_LC</td>\n",
       "      <td>4</td>\n",
       "    </tr>\n",
       "  </tbody>\n",
       "</table>\n",
       "</div>"
      ],
      "text/plain": [
       "         EPIC ID RA (J2000) [deg] Dec (J2000) [deg] magnitude  \\\n",
       "70000  210647774        54.196178          17.63787    11.286   \n",
       "70001  210647804         51.69544         17.638214    13.587   \n",
       "70002  210647813        52.355005         17.638277    12.824   \n",
       "70003  210647818        56.497824         17.638409    17.511   \n",
       "70004  210648137        58.730242         17.642622    13.075   \n",
       "\n",
       "                    Investigation IDs campaign  \n",
       "70000   GO4060_LC|GO4033_LC|GO4007_LC        4  \n",
       "70001   GO4020_LC|GO4060_LC|GO4011_LC        4  \n",
       "70002   GO4029_LC|GO4033_LC|GO4007_LC        4  \n",
       "70003                       GO4011_LC        4  \n",
       "70004   GO4020_LC|GO4060_LC|GO4007_LC        4  "
      ]
     },
     "execution_count": 9,
     "metadata": {},
     "output_type": "execute_result"
    }
   ],
   "source": [
    "df_all.iloc[70000:70005]"
   ]
  },
  {
   "cell_type": "code",
   "execution_count": 10,
   "metadata": {},
   "outputs": [
    {
     "data": {
      "text/plain": [
       "(426130, 6)"
      ]
     },
     "execution_count": 10,
     "metadata": {},
     "output_type": "execute_result"
    }
   ],
   "source": [
    "df_all.shape"
   ]
  },
  {
   "cell_type": "code",
   "execution_count": 12,
   "metadata": {
    "collapsed": true
   },
   "outputs": [],
   "source": [
    "df_all.to_csv('../metadata/tidy/GO_proposal_metadata.csv', index=False)"
   ]
  },
  {
   "cell_type": "code",
   "execution_count": 13,
   "metadata": {},
   "outputs": [
    {
     "name": "stdout",
     "output_type": "stream",
     "text": [
      " 24M\t../metadata/tidy/GO_proposal_metadata.csv\r\n"
     ]
    }
   ],
   "source": [
    "! du -hs ../metadata/tidy/GO_proposal_metadata.csv"
   ]
  },
  {
   "cell_type": "markdown",
   "metadata": {},
   "source": [
    "All done, the combined file is 24 MB."
   ]
  },
  {
   "cell_type": "markdown",
   "metadata": {},
   "source": [
    "<!--NAVIGATION-->\n",
    "< [Munge metadata into tidy dataframes](01.00-Munge-metadata-into-tidy-dataframes.ipynb) | [Contents](Index.ipynb) | [EPIC Catalog Column Descriptions](01.02-EPIC_catalog_column_descriptions.ipynb) >"
   ]
  }
 ],
 "metadata": {
  "kernelspec": {
   "display_name": "Python 3",
   "language": "python",
   "name": "python3"
  },
  "language_info": {
   "codemirror_mode": {
    "name": "ipython",
    "version": 3
   },
   "file_extension": ".py",
   "mimetype": "text/x-python",
   "name": "python",
   "nbconvert_exporter": "python",
   "pygments_lexer": "ipython3",
   "version": "3.6.1"
  }
 },
 "nbformat": 4,
 "nbformat_minor": 2
}
