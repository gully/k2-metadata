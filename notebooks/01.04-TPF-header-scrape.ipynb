{
 "cells": [
  {
   "cell_type": "markdown",
   "metadata": {},
   "source": [
    "<!--BOOK_INFORMATION-->\n",
    "<img align=\"left\" style=\"padding-right:10px;\" src=\"figures/k2_pix_small.png\">\n",
    "*This notebook contains an excerpt instructional material from [gully](https://twitter.com/gully_) and the [K2 Guest Observer Office](https://keplerscience.arc.nasa.gov/); the content is available [on GitHub](https://github.com/gully/k2-metadata).*\n"
   ]
  },
  {
   "cell_type": "markdown",
   "metadata": {},
   "source": [
    "<!--NAVIGATION-->\n",
    "< [EPIC Catalog read in and save to feather](01.03-Read-EPIC-catalog-faster.ipynb) | [Contents](Index.ipynb) | [K2 Guest Observer Proposal Information](02.01-Guest-Observer-proposals-analysis.ipynb) >"
   ]
  },
  {
   "cell_type": "markdown",
   "metadata": {},
   "source": [
    "# K2 target index fun"
   ]
  },
  {
   "cell_type": "markdown",
   "metadata": {},
   "source": [
    "Things to say:\n",
    "- the header files contain information not contained elsewhere\n",
    "    - data size: how many pixels, how much volume\n",
    "    - number of cadences achieved\n",
    "    - which channel and module the target was on, useful for certain purposes\n",
    "    - read noise, mean black level\n",
    "    - cdpp performance\n",
    "    - observation mode\n",
    "    - more\n",
    "- there is lots of data to search through\n",
    "- geert already wrote a package to deal with this called k2-target-index\n",
    "- this program only searches the tpfs\n",
    "- could also include information from lightcurves"
   ]
  },
  {
   "cell_type": "code",
   "execution_count": 1,
   "metadata": {
    "collapsed": true
   },
   "outputs": [],
   "source": [
    "import pandas as pd"
   ]
  },
  {
   "cell_type": "markdown",
   "metadata": {},
   "source": [
    "Download the k2-target index here and move it to the tidy directory in this repo:\n",
    "\n",
    "https://github.com/barentsen/k2-target-index/raw/master/k2-target-pixel-files.csv.gz\n",
    "\n",
    "We don't want to commit this file because it is large, and we already commit it to the other repo.\n",
    "\n",
    "Alternatively you can manually override this path below."
   ]
  },
  {
   "cell_type": "code",
   "execution_count": 2,
   "metadata": {
    "collapsed": true
   },
   "outputs": [],
   "source": [
    "#path = '../metadata/tidy/GO_proposal_metadata.csv'\n",
    "path = '../../k2-target-index/k2-target-pixel-files.csv.gz'"
   ]
  },
  {
   "cell_type": "code",
   "execution_count": 3,
   "metadata": {},
   "outputs": [
    {
     "name": "stdout",
     "output_type": "stream",
     "text": [
      " 65M\t../../k2-target-index/k2-target-pixel-files.csv.gz\r\n"
     ]
    }
   ],
   "source": [
    "! du -hs ../../k2-target-index/k2-target-pixel-files.csv.gz"
   ]
  },
  {
   "cell_type": "code",
   "execution_count": 4,
   "metadata": {
    "collapsed": true
   },
   "outputs": [],
   "source": [
    "df = pd.read_csv(path)"
   ]
  },
  {
   "cell_type": "code",
   "execution_count": 5,
   "metadata": {},
   "outputs": [
    {
     "data": {
      "text/plain": [
       "(425583, 43)"
      ]
     },
     "execution_count": 5,
     "metadata": {},
     "output_type": "execute_result"
    }
   ],
   "source": [
    "df.shape"
   ]
  },
  {
   "cell_type": "code",
   "execution_count": 6,
   "metadata": {},
   "outputs": [
    {
     "data": {
      "text/plain": [
       "Index(['filename', 'url', 'filesize', 'object', 'keplerid', 'obsmode',\n",
       "       'campaign', 'data_rel', 'channel', 'module', 'output', 'ra_obj',\n",
       "       'dec_obj', 'kepmag', 'cadences', 'lc_start', 'lc_end', 'gain',\n",
       "       'readnois', 'meanblck', 'cdpp3_0', 'cdpp6_0', 'cdpp12_0', 'npix',\n",
       "       'naxis1', 'naxis2', 'crpix1', 'crpix2', 'crval1', 'crval2', 'cdelt1',\n",
       "       'cdelt2', 'pc1_1', 'pc1_2', 'pc2_1', 'pc2_2', 'crval1p', 'crval2p',\n",
       "       'corners', 'ra_min', 'ra_max', 'dec_min', 'dec_max'],\n",
       "      dtype='object')"
      ]
     },
     "execution_count": 6,
     "metadata": {},
     "output_type": "execute_result"
    }
   ],
   "source": [
    "df.columns"
   ]
  },
  {
   "cell_type": "code",
   "execution_count": 7,
   "metadata": {},
   "outputs": [
    {
     "data": {
      "text/html": [
       "<div>\n",
       "<style>\n",
       "    .dataframe thead tr:only-child th {\n",
       "        text-align: right;\n",
       "    }\n",
       "\n",
       "    .dataframe thead th {\n",
       "        text-align: left;\n",
       "    }\n",
       "\n",
       "    .dataframe tbody tr th {\n",
       "        vertical-align: top;\n",
       "    }\n",
       "</style>\n",
       "<table border=\"1\" class=\"dataframe\">\n",
       "  <thead>\n",
       "    <tr style=\"text-align: right;\">\n",
       "      <th></th>\n",
       "      <th>filename</th>\n",
       "      <th>url</th>\n",
       "      <th>filesize</th>\n",
       "      <th>object</th>\n",
       "      <th>keplerid</th>\n",
       "      <th>obsmode</th>\n",
       "      <th>campaign</th>\n",
       "      <th>data_rel</th>\n",
       "      <th>channel</th>\n",
       "      <th>module</th>\n",
       "      <th>...</th>\n",
       "      <th>pc1_2</th>\n",
       "      <th>pc2_1</th>\n",
       "      <th>pc2_2</th>\n",
       "      <th>crval1p</th>\n",
       "      <th>crval2p</th>\n",
       "      <th>corners</th>\n",
       "      <th>ra_min</th>\n",
       "      <th>ra_max</th>\n",
       "      <th>dec_min</th>\n",
       "      <th>dec_max</th>\n",
       "    </tr>\n",
       "  </thead>\n",
       "  <tbody>\n",
       "    <tr>\n",
       "      <th>100000</th>\n",
       "      <td>ktwo200148401-c12_lpd-targ.fits.gz</td>\n",
       "      <td>http://archive.stsci.edu/missions/k2/target_pi...</td>\n",
       "      <td>0.4</td>\n",
       "      <td>EPIC 200148401</td>\n",
       "      <td>200148401</td>\n",
       "      <td>long cadence</td>\n",
       "      <td>12</td>\n",
       "      <td>18</td>\n",
       "      <td>84</td>\n",
       "      <td>24</td>\n",
       "      <td>...</td>\n",
       "      <td>-0.814984</td>\n",
       "      <td>-0.814793</td>\n",
       "      <td>0.579487</td>\n",
       "      <td>868</td>\n",
       "      <td>676</td>\n",
       "      <td>344.801371,-6.177698;344.802277,-6.177058;344....</td>\n",
       "      <td>344.801371</td>\n",
       "      <td>344.806789</td>\n",
       "      <td>-6.184003</td>\n",
       "      <td>-6.177058</td>\n",
       "    </tr>\n",
       "    <tr>\n",
       "      <th>100001</th>\n",
       "      <td>ktwo200148402-c12_lpd-targ.fits.gz</td>\n",
       "      <td>http://archive.stsci.edu/missions/k2/target_pi...</td>\n",
       "      <td>0.4</td>\n",
       "      <td>EPIC 200148402</td>\n",
       "      <td>200148402</td>\n",
       "      <td>long cadence</td>\n",
       "      <td>12</td>\n",
       "      <td>18</td>\n",
       "      <td>84</td>\n",
       "      <td>24</td>\n",
       "      <td>...</td>\n",
       "      <td>-0.814976</td>\n",
       "      <td>-0.814805</td>\n",
       "      <td>0.579500</td>\n",
       "      <td>853</td>\n",
       "      <td>677</td>\n",
       "      <td>344.792619,-6.163602;344.793525,-6.162961;344....</td>\n",
       "      <td>344.792619</td>\n",
       "      <td>344.798036</td>\n",
       "      <td>-6.169906</td>\n",
       "      <td>-6.162961</td>\n",
       "    </tr>\n",
       "    <tr>\n",
       "      <th>100002</th>\n",
       "      <td>ktwo200148403-c12_lpd-targ.fits.gz</td>\n",
       "      <td>http://archive.stsci.edu/missions/k2/target_pi...</td>\n",
       "      <td>0.4</td>\n",
       "      <td>EPIC 200148403</td>\n",
       "      <td>200148403</td>\n",
       "      <td>long cadence</td>\n",
       "      <td>12</td>\n",
       "      <td>18</td>\n",
       "      <td>84</td>\n",
       "      <td>24</td>\n",
       "      <td>...</td>\n",
       "      <td>-0.814977</td>\n",
       "      <td>-0.814787</td>\n",
       "      <td>0.579499</td>\n",
       "      <td>868</td>\n",
       "      <td>677</td>\n",
       "      <td>344.802284,-6.177111;344.803190,-6.176470;344....</td>\n",
       "      <td>344.802284</td>\n",
       "      <td>344.807702</td>\n",
       "      <td>-6.183415</td>\n",
       "      <td>-6.176470</td>\n",
       "    </tr>\n",
       "    <tr>\n",
       "      <th>100003</th>\n",
       "      <td>ktwo200148404-c12_lpd-targ.fits.gz</td>\n",
       "      <td>http://archive.stsci.edu/missions/k2/target_pi...</td>\n",
       "      <td>0.4</td>\n",
       "      <td>EPIC 200148404</td>\n",
       "      <td>200148404</td>\n",
       "      <td>long cadence</td>\n",
       "      <td>12</td>\n",
       "      <td>18</td>\n",
       "      <td>84</td>\n",
       "      <td>24</td>\n",
       "      <td>...</td>\n",
       "      <td>-0.814976</td>\n",
       "      <td>-0.814803</td>\n",
       "      <td>0.579502</td>\n",
       "      <td>853</td>\n",
       "      <td>678</td>\n",
       "      <td>344.793524,-6.162961;344.794430,-6.162320;344....</td>\n",
       "      <td>344.793524</td>\n",
       "      <td>344.798942</td>\n",
       "      <td>-6.169265</td>\n",
       "      <td>-6.162320</td>\n",
       "    </tr>\n",
       "    <tr>\n",
       "      <th>100004</th>\n",
       "      <td>ktwo200148405-c12_lpd-targ.fits.gz</td>\n",
       "      <td>http://archive.stsci.edu/missions/k2/target_pi...</td>\n",
       "      <td>0.5</td>\n",
       "      <td>EPIC 200148405</td>\n",
       "      <td>200148405</td>\n",
       "      <td>long cadence</td>\n",
       "      <td>12</td>\n",
       "      <td>18</td>\n",
       "      <td>84</td>\n",
       "      <td>24</td>\n",
       "      <td>...</td>\n",
       "      <td>-0.815004</td>\n",
       "      <td>-0.814834</td>\n",
       "      <td>0.579442</td>\n",
       "      <td>868</td>\n",
       "      <td>678</td>\n",
       "      <td>344.803109,-6.175919;344.804016,-6.175279;344....</td>\n",
       "      <td>344.803109</td>\n",
       "      <td>344.809172</td>\n",
       "      <td>-6.183125</td>\n",
       "      <td>-6.175279</td>\n",
       "    </tr>\n",
       "  </tbody>\n",
       "</table>\n",
       "<p>5 rows × 43 columns</p>\n",
       "</div>"
      ],
      "text/plain": [
       "                                  filename  \\\n",
       "100000  ktwo200148401-c12_lpd-targ.fits.gz   \n",
       "100001  ktwo200148402-c12_lpd-targ.fits.gz   \n",
       "100002  ktwo200148403-c12_lpd-targ.fits.gz   \n",
       "100003  ktwo200148404-c12_lpd-targ.fits.gz   \n",
       "100004  ktwo200148405-c12_lpd-targ.fits.gz   \n",
       "\n",
       "                                                      url  filesize  \\\n",
       "100000  http://archive.stsci.edu/missions/k2/target_pi...       0.4   \n",
       "100001  http://archive.stsci.edu/missions/k2/target_pi...       0.4   \n",
       "100002  http://archive.stsci.edu/missions/k2/target_pi...       0.4   \n",
       "100003  http://archive.stsci.edu/missions/k2/target_pi...       0.4   \n",
       "100004  http://archive.stsci.edu/missions/k2/target_pi...       0.5   \n",
       "\n",
       "                object   keplerid       obsmode  campaign  data_rel  channel  \\\n",
       "100000  EPIC 200148401  200148401  long cadence        12        18       84   \n",
       "100001  EPIC 200148402  200148402  long cadence        12        18       84   \n",
       "100002  EPIC 200148403  200148403  long cadence        12        18       84   \n",
       "100003  EPIC 200148404  200148404  long cadence        12        18       84   \n",
       "100004  EPIC 200148405  200148405  long cadence        12        18       84   \n",
       "\n",
       "        module    ...        pc1_2     pc2_1     pc2_2  crval1p  crval2p  \\\n",
       "100000      24    ...    -0.814984 -0.814793  0.579487      868      676   \n",
       "100001      24    ...    -0.814976 -0.814805  0.579500      853      677   \n",
       "100002      24    ...    -0.814977 -0.814787  0.579499      868      677   \n",
       "100003      24    ...    -0.814976 -0.814803  0.579502      853      678   \n",
       "100004      24    ...    -0.815004 -0.814834  0.579442      868      678   \n",
       "\n",
       "                                                  corners      ra_min  \\\n",
       "100000  344.801371,-6.177698;344.802277,-6.177058;344....  344.801371   \n",
       "100001  344.792619,-6.163602;344.793525,-6.162961;344....  344.792619   \n",
       "100002  344.802284,-6.177111;344.803190,-6.176470;344....  344.802284   \n",
       "100003  344.793524,-6.162961;344.794430,-6.162320;344....  344.793524   \n",
       "100004  344.803109,-6.175919;344.804016,-6.175279;344....  344.803109   \n",
       "\n",
       "            ra_max   dec_min   dec_max  \n",
       "100000  344.806789 -6.184003 -6.177058  \n",
       "100001  344.798036 -6.169906 -6.162961  \n",
       "100002  344.807702 -6.183415 -6.176470  \n",
       "100003  344.798942 -6.169265 -6.162320  \n",
       "100004  344.809172 -6.183125 -6.175279  \n",
       "\n",
       "[5 rows x 43 columns]"
      ]
     },
     "execution_count": 7,
     "metadata": {},
     "output_type": "execute_result"
    }
   ],
   "source": [
    "df.iloc[100000:100005]"
   ]
  },
  {
   "cell_type": "code",
   "execution_count": 8,
   "metadata": {},
   "outputs": [
    {
     "data": {
      "text/plain": [
       "array([  0,   1,   2,   3,   4,   5,   6,   7,   8,  91,  92, 101, 102,\n",
       "       111, 112,  12,  13])"
      ]
     },
     "execution_count": 8,
     "metadata": {},
     "output_type": "execute_result"
    }
   ],
   "source": [
    "df.campaign.unique()"
   ]
  },
  {
   "cell_type": "markdown",
   "metadata": {},
   "source": [
    "<!--NAVIGATION-->\n",
    "< [EPIC Catalog read in and save to feather](01.03-Read-EPIC-catalog-faster.ipynb) | [Contents](Index.ipynb) | [K2 Guest Observer Proposal Information](02.01-Guest-Observer-proposals-analysis.ipynb) >"
   ]
  }
 ],
 "metadata": {
  "kernelspec": {
   "display_name": "Python 3",
   "language": "python",
   "name": "python3"
  },
  "language_info": {
   "codemirror_mode": {
    "name": "ipython",
    "version": 3
   },
   "file_extension": ".py",
   "mimetype": "text/x-python",
   "name": "python",
   "nbconvert_exporter": "python",
   "pygments_lexer": "ipython3",
   "version": "3.6.1"
  }
 },
 "nbformat": 4,
 "nbformat_minor": 2
}
