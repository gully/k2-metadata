{
 "cells": [
  {
   "cell_type": "markdown",
   "metadata": {},
   "source": [
    "# K2 Metadata\n",
    "\n",
    "*gully*\n",
    "\n",
    "![Book Cover](figures/k2_pix.png)"
   ]
  },
  {
   "cell_type": "markdown",
   "metadata": {},
   "source": [
    "This collection of Jupyter notebooks aids in the analysis of Kepler/K2 data."
   ]
  },
  {
   "cell_type": "markdown",
   "metadata": {},
   "source": [
    "version of the [Python Data Science Handbook](http://shop.oreilly.com/product/0636920034919.do) by Jake VanderPlas; the content is available [on GitHub](https://github.com/jakevdp/PythonDataScienceHandbook).*\n",
    "The text is released under the [CC-BY-NC-ND license](https://creativecommons.org/licenses/by-nc-nd/3.0/us/legalcode), and code is released under the [MIT license](https://opensource.org/licenses/MIT). If you find this content useful, please consider supporting the work by [buying the book](http://shop.oreilly.com/product/0636920034919.do)!"
   ]
  },
  {
   "cell_type": "markdown",
   "metadata": {},
   "source": [
    "## Table of Contents\n",
    "\n",
    "### [Preface](00.00-Preface.ipynb)\n",
    "\n",
    "### [1. Munge metadata into tidy dataframes](01.00-Munge-metadata-into-tidy-dataframes.ipynb)\n",
    "- [K2 Guest Observer Proposal Information](01.01-Concatenate-Guest-Observer-proposals.ipynb)\n",
    "- [EPIC Catalog Column Descriptions](01.02-EPIC_catalog_column_descriptions.ipynb)\n",
    "- [EPIC Catalog read in and save to feather](01.03-Read-EPIC-catalog-faster.ipynb)\n",
    "- [K2 target index fun](01.04-TPF-header-scrape.ipynb)\n",
    "- [K2 Guest Observer Proposal Information](02.01-Guest-Observer-proposals-analysis.ipynb)\n",
    "- [K2 target index fun](02.02-TPF-header_analysis.ipynb)\n",
    "\n",
    "### [3. Other K2 metadata sources](03.00-Other-metadata-sources.ipynb)\n",
    "- [Gaia crossmatch](03.01-Gaia_crossmatch.ipynb)\n",
    "\n",
    "### [4. Advanced visualizations](04.00-Advanced-visualizations.ipynb)\n",
    "- [Explore the EPIC Catalog](04.02-EPIC_Catalog_explore-datashader.ipynb)\n",
    "\n",
    "### [5. Deprecated content](05.00-Deprecated-content.ipynb)\n",
    "- [Deprecated TPF header scrape](05.01-Deprecated--C12_TPF_header_scrape.ipynb)\n",
    "- [Deprecated TPF header scrape, Campaign 12](05.02-Deprecated--C13_TPF_header_scrape.ipynb)\n",
    "- [Exploring TPF metadata](05.04-Deprecated-Exploring_TPF_metadata.ipynb)\n"
   ]
  },
  {
   "cell_type": "code",
   "execution_count": null,
   "metadata": {
    "collapsed": true
   },
   "outputs": [],
   "source": []
  }
 ],
 "metadata": {
  "anaconda-cloud": {},
  "kernelspec": {
   "display_name": "Python 3",
   "language": "python",
   "name": "python3"
  },
  "language_info": {
   "codemirror_mode": {
    "name": "ipython",
    "version": 3
   },
   "file_extension": ".py",
   "mimetype": "text/x-python",
   "name": "python",
   "nbconvert_exporter": "python",
   "pygments_lexer": "ipython3",
   "version": "3.6.1"
  }
 },
 "nbformat": 4,
 "nbformat_minor": 1
}
