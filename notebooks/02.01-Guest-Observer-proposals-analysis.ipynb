{
 "cells": [
  {
   "cell_type": "markdown",
   "metadata": {},
   "source": [
    "<!--BOOK_INFORMATION-->\n",
    "<img align=\"left\" style=\"padding-right:10px;\" src=\"figures/k2_pix_small.png\">\n",
    "*This notebook contains an excerpt instructional material from [gully](https://twitter.com/gully_) and the [K2 Guest Observer Office](https://keplerscience.arc.nasa.gov/); the content is available [on GitHub](https://github.com/gully/k2-metadata).*\n"
   ]
  },
  {
   "cell_type": "markdown",
   "metadata": {},
   "source": [
    "<!--NAVIGATION-->\n",
    "< [K2 target index fun](01.04-TPF-header-scrape.ipynb) | [Contents](Index.ipynb) | [K2 target index fun](02.02-TPF-header_analysis.ipynb) >"
   ]
  },
  {
   "cell_type": "markdown",
   "metadata": {},
   "source": [
    "# K2 Guest Observer Proposal Information"
   ]
  },
  {
   "cell_type": "markdown",
   "metadata": {},
   "source": [
    "Things to say:\n",
    "- we generated this combined csv file from notebook_01.01\n",
    "- What questions can this file *alone* answer?"
   ]
  },
  {
   "cell_type": "code",
   "execution_count": 1,
   "metadata": {
    "collapsed": true
   },
   "outputs": [],
   "source": [
    "import pandas as pd"
   ]
  },
  {
   "cell_type": "code",
   "execution_count": 2,
   "metadata": {
    "collapsed": true
   },
   "outputs": [],
   "source": [
    "import matplotlib.pyplot as plt\n",
    "%config InlineBackend.figure_format = 'retina'\n",
    "%matplotlib inline"
   ]
  },
  {
   "cell_type": "code",
   "execution_count": 3,
   "metadata": {
    "collapsed": true
   },
   "outputs": [],
   "source": [
    "GO_df = pd.read_csv('../metadata/tidy/GO_proposal_metadata.csv', \n",
    "                    dtype={'campaign':str})"
   ]
  },
  {
   "cell_type": "code",
   "execution_count": 4,
   "metadata": {},
   "outputs": [
    {
     "data": {
      "text/html": [
       "<div>\n",
       "<style>\n",
       "    .dataframe thead tr:only-child th {\n",
       "        text-align: right;\n",
       "    }\n",
       "\n",
       "    .dataframe thead th {\n",
       "        text-align: left;\n",
       "    }\n",
       "\n",
       "    .dataframe tbody tr th {\n",
       "        vertical-align: top;\n",
       "    }\n",
       "</style>\n",
       "<table border=\"1\" class=\"dataframe\">\n",
       "  <thead>\n",
       "    <tr style=\"text-align: right;\">\n",
       "      <th></th>\n",
       "      <th>EPIC ID</th>\n",
       "      <th>RA (J2000) [deg]</th>\n",
       "      <th>Dec (J2000) [deg]</th>\n",
       "      <th>magnitude</th>\n",
       "      <th>Investigation IDs</th>\n",
       "      <th>campaign</th>\n",
       "    </tr>\n",
       "  </thead>\n",
       "  <tbody>\n",
       "    <tr>\n",
       "      <th>0</th>\n",
       "      <td>200000811</td>\n",
       "      <td></td>\n",
       "      <td></td>\n",
       "      <td></td>\n",
       "      <td>LC_M35_TILE</td>\n",
       "      <td>0</td>\n",
       "    </tr>\n",
       "    <tr>\n",
       "      <th>1</th>\n",
       "      <td>200000812</td>\n",
       "      <td></td>\n",
       "      <td></td>\n",
       "      <td></td>\n",
       "      <td>LC_M35_TILE</td>\n",
       "      <td>0</td>\n",
       "    </tr>\n",
       "    <tr>\n",
       "      <th>2</th>\n",
       "      <td>200000813</td>\n",
       "      <td></td>\n",
       "      <td></td>\n",
       "      <td></td>\n",
       "      <td>LC_M35_TILE</td>\n",
       "      <td>0</td>\n",
       "    </tr>\n",
       "    <tr>\n",
       "      <th>3</th>\n",
       "      <td>200000814</td>\n",
       "      <td></td>\n",
       "      <td></td>\n",
       "      <td></td>\n",
       "      <td>LC_M35_TILE</td>\n",
       "      <td>0</td>\n",
       "    </tr>\n",
       "    <tr>\n",
       "      <th>4</th>\n",
       "      <td>200000815</td>\n",
       "      <td></td>\n",
       "      <td></td>\n",
       "      <td></td>\n",
       "      <td>LC_M35_TILE</td>\n",
       "      <td>0</td>\n",
       "    </tr>\n",
       "  </tbody>\n",
       "</table>\n",
       "</div>"
      ],
      "text/plain": [
       "     EPIC ID RA (J2000) [deg] Dec (J2000) [deg] magnitude Investigation IDs  \\\n",
       "0  200000811                                                    LC_M35_TILE   \n",
       "1  200000812                                                    LC_M35_TILE   \n",
       "2  200000813                                                    LC_M35_TILE   \n",
       "3  200000814                                                    LC_M35_TILE   \n",
       "4  200000815                                                    LC_M35_TILE   \n",
       "\n",
       "  campaign  \n",
       "0        0  \n",
       "1        0  \n",
       "2        0  \n",
       "3        0  \n",
       "4        0  "
      ]
     },
     "execution_count": 4,
     "metadata": {},
     "output_type": "execute_result"
    }
   ],
   "source": [
    "GO_df.head()"
   ]
  },
  {
   "cell_type": "markdown",
   "metadata": {},
   "source": [
    "### Group campaigns 9a and 9b together"
   ]
  },
  {
   "cell_type": "code",
   "execution_count": 5,
   "metadata": {},
   "outputs": [
    {
     "data": {
      "text/plain": [
       "array(['0', '1', '2', '3', '4', '5', '6', '7', '8', '9a', '9b', '10', '11',\n",
       "       '12', '13', '14', '15'], dtype=object)"
      ]
     },
     "execution_count": 5,
     "metadata": {},
     "output_type": "execute_result"
    }
   ],
   "source": [
    "GO_df.campaign.unique()"
   ]
  },
  {
   "cell_type": "code",
   "execution_count": 6,
   "metadata": {
    "collapsed": true
   },
   "outputs": [],
   "source": [
    "GO_df['main_campaign'] = GO_df.campaign.copy()"
   ]
  },
  {
   "cell_type": "code",
   "execution_count": 7,
   "metadata": {
    "collapsed": true
   },
   "outputs": [],
   "source": [
    "GO_df = GO_df.set_value(GO_df.campaign.isin(['9a','9b']), 'main_campaign', 9)"
   ]
  },
  {
   "cell_type": "code",
   "execution_count": 8,
   "metadata": {
    "collapsed": true
   },
   "outputs": [],
   "source": [
    "GO_df['main_campaign'] = GO_df['main_campaign'].astype(int)"
   ]
  },
  {
   "cell_type": "code",
   "execution_count": 9,
   "metadata": {},
   "outputs": [
    {
     "data": {
      "text/plain": [
       "array([ 0,  1,  2,  3,  4,  5,  6,  7,  8,  9, 10, 11, 12, 13, 14, 15])"
      ]
     },
     "execution_count": 9,
     "metadata": {},
     "output_type": "execute_result"
    }
   ],
   "source": [
    "GO_df.main_campaign.unique()"
   ]
  },
  {
   "cell_type": "markdown",
   "metadata": {},
   "source": [
    "### Multiple visits"
   ]
  },
  {
   "cell_type": "code",
   "execution_count": 10,
   "metadata": {},
   "outputs": [
    {
     "data": {
      "text/plain": [
       "(426130, 7)"
      ]
     },
     "execution_count": 10,
     "metadata": {},
     "output_type": "execute_result"
    }
   ],
   "source": [
    "GO_df.shape"
   ]
  },
  {
   "cell_type": "markdown",
   "metadata": {},
   "source": [
    "There are 426,130 K2 targets.  Some targets are not unique, since some campaigns have revisited the same region in the sky."
   ]
  },
  {
   "cell_type": "code",
   "execution_count": 11,
   "metadata": {},
   "outputs": [
    {
     "data": {
      "text/plain": [
       "421729"
      ]
     },
     "execution_count": 11,
     "metadata": {},
     "output_type": "execute_result"
    }
   ],
   "source": [
    "GO_df.nunique()['EPIC ID']"
   ]
  },
  {
   "cell_type": "markdown",
   "metadata": {},
   "source": [
    "Let's count up how many times each object has been observed."
   ]
  },
  {
   "cell_type": "code",
   "execution_count": 12,
   "metadata": {
    "collapsed": true
   },
   "outputs": [],
   "source": [
    "visits = GO_df.groupby('EPIC ID').main_campaign.nunique()"
   ]
  },
  {
   "cell_type": "code",
   "execution_count": 13,
   "metadata": {},
   "outputs": [
    {
     "data": {
      "text/plain": [
       "main_campaign\n",
       "1    420583\n",
       "2      1146\n",
       "Name: main_campaign, dtype: int64"
      ]
     },
     "execution_count": 13,
     "metadata": {},
     "output_type": "execute_result"
    }
   ],
   "source": [
    "visits.groupby(visits).count()"
   ]
  },
  {
   "cell_type": "markdown",
   "metadata": {},
   "source": [
    "So the vast majority of targets have been observed only once, which makes sense.  \n",
    "About 1146 targets have been observed twice in the main campaigns.\n",
    "Recall that campaign 9 was divided into sub-campaigns, 9a and 9b, which have substantial but not identical overlap."
   ]
  },
  {
   "cell_type": "code",
   "execution_count": 14,
   "metadata": {
    "collapsed": true
   },
   "outputs": [],
   "source": [
    "multi_visit = pd.merge(visits[visits >1].to_frame().rename(columns={'main_campaign':'visits'}),\n",
    "                       GO_df, left_index=True, right_on='EPIC ID')"
   ]
  },
  {
   "cell_type": "code",
   "execution_count": 15,
   "metadata": {},
   "outputs": [
    {
     "data": {
      "text/plain": [
       "array([ 1, 10,  2, 11, 15,  4, 13,  9])"
      ]
     },
     "execution_count": 15,
     "metadata": {},
     "output_type": "execute_result"
    }
   ],
   "source": [
    "multi_visit.main_campaign.unique()"
   ]
  },
  {
   "cell_type": "code",
   "execution_count": 16,
   "metadata": {},
   "outputs": [
    {
     "data": {
      "text/plain": [
       "(2332, 8)"
      ]
     },
     "execution_count": 16,
     "metadata": {},
     "output_type": "execute_result"
    }
   ],
   "source": [
    "multi_visit.shape"
   ]
  },
  {
   "cell_type": "markdown",
   "metadata": {},
   "source": [
    "Indeed, most of the multi-visit count stems from where campaign 9 and 11 fields overlap."
   ]
  },
  {
   "cell_type": "markdown",
   "metadata": {},
   "source": [
    "### Campaign-level analysis: Target proposed for by multiple guest observers"
   ]
  },
  {
   "cell_type": "code",
   "execution_count": 17,
   "metadata": {
    "collapsed": true
   },
   "outputs": [],
   "source": [
    "import numpy as np"
   ]
  },
  {
   "cell_type": "markdown",
   "metadata": {},
   "source": [
    "This takes ~ 7 seconds:"
   ]
  },
  {
   "cell_type": "code",
   "execution_count": 18,
   "metadata": {
    "collapsed": true
   },
   "outputs": [],
   "source": [
    "GO_df['GO_clean'] = GO_df['Investigation IDs'].str.strip(' ').str.split('|')"
   ]
  },
  {
   "cell_type": "code",
   "execution_count": 19,
   "metadata": {},
   "outputs": [
    {
     "name": "stdout",
     "output_type": "stream",
     "text": [
      "CPU times: user 5.38 s, sys: 94 ms, total: 5.48 s\n",
      "Wall time: 5.48 s\n"
     ]
    }
   ],
   "source": [
    "%time GO_ids_with_dups = GO_df['GO_clean'].aggregate(np.concatenate)"
   ]
  },
  {
   "cell_type": "code",
   "execution_count": 20,
   "metadata": {
    "collapsed": true
   },
   "outputs": [],
   "source": [
    "GO_ids = np.unique(GO_ids_with_dups)"
   ]
  },
  {
   "cell_type": "code",
   "execution_count": 21,
   "metadata": {},
   "outputs": [
    {
     "data": {
      "text/plain": [
       "1712"
      ]
     },
     "execution_count": 21,
     "metadata": {},
     "output_type": "execute_result"
    }
   ],
   "source": [
    "len(GO_ids)"
   ]
  },
  {
   "cell_type": "code",
   "execution_count": 22,
   "metadata": {
    "collapsed": true
   },
   "outputs": [],
   "source": [
    "gb = GO_df.groupby('main_campaign')"
   ]
  },
  {
   "cell_type": "code",
   "execution_count": 23,
   "metadata": {
    "collapsed": true
   },
   "outputs": [],
   "source": [
    "def robust_concat(in_group):\n",
    "    all_vals = np.concatenate(in_group.values)\n",
    "    length = len(np.unique(all_vals))\n",
    "    return length"
   ]
  },
  {
   "cell_type": "code",
   "execution_count": 24,
   "metadata": {
    "collapsed": true
   },
   "outputs": [],
   "source": [
    "GO_ids_by_campaign = gb.GO_clean.apply(lambda x: np.concatenate(x.values)).apply(np.unique)"
   ]
  },
  {
   "cell_type": "code",
   "execution_count": 25,
   "metadata": {},
   "outputs": [
    {
     "data": {
      "text/plain": [
       "main_campaign\n",
       "0      98\n",
       "1      77\n",
       "2      95\n",
       "3      80\n",
       "4     101\n",
       "5     105\n",
       "6     144\n",
       "7      83\n",
       "8      84\n",
       "9      40\n",
       "10     96\n",
       "11    154\n",
       "12    135\n",
       "13    125\n",
       "14    144\n",
       "15    153\n",
       "Name: GO_clean, dtype: int64"
      ]
     },
     "execution_count": 25,
     "metadata": {},
     "output_type": "execute_result"
    }
   ],
   "source": [
    "GO_ids_by_campaign.apply(len)"
   ]
  },
  {
   "cell_type": "code",
   "execution_count": 26,
   "metadata": {},
   "outputs": [
    {
     "data": {
      "text/plain": [
       "main_campaign\n",
       "0      97\n",
       "1      77\n",
       "2      93\n",
       "3      80\n",
       "4     101\n",
       "5     104\n",
       "6      79\n",
       "7      78\n",
       "8      69\n",
       "9      38\n",
       "10     79\n",
       "11     88\n",
       "12    101\n",
       "13    110\n",
       "14     93\n",
       "15    101\n",
       "Name: GO_clean, dtype: int64"
      ]
     },
     "execution_count": 26,
     "metadata": {},
     "output_type": "execute_result"
    }
   ],
   "source": [
    "GO_ids_by_campaign.apply(lambda x: np.sum([y.startswith('GO') for y in x]))"
   ]
  },
  {
   "cell_type": "code",
   "execution_count": 27,
   "metadata": {},
   "outputs": [
    {
     "data": {
      "text/plain": [
       "<matplotlib.text.Text at 0x11c9507b8>"
      ]
     },
     "execution_count": 27,
     "metadata": {},
     "output_type": "execute_result"
    },
    {
     "data": {
      "image/png": "[encoded data removed]",
      "text/plain": [
       "<matplotlib.figure.Figure at 0x117f81cc0>"
      ]
     },
     "metadata": {
      "image/png": {
       "height": 266,
       "width": 390
      }
     },
     "output_type": "display_data"
    }
   ],
   "source": [
    "GO_ids_by_campaign.apply(len).plot('bar')\n",
    "GO_ids_by_campaign.apply(lambda x: np.sum([y.startswith('GO') for y in x])).plot('bar', color='r', alpha=0.5)\n",
    "plt.ylabel('Number of Guest Observer proposals')\n",
    "plt.xlabel('Campaign');"
   ]
  },
  {
   "cell_type": "markdown",
   "metadata": {},
   "source": [
    "The blue include non-GO proposals-- superstamps and the like."
   ]
  },
  {
   "cell_type": "code",
   "execution_count": 28,
   "metadata": {
    "collapsed": true
   },
   "outputs": [],
   "source": [
    "proposal_counts_by_epic = GO_df.groupby('EPIC ID').GO_clean.agg(robust_concat)"
   ]
  },
  {
   "cell_type": "code",
   "execution_count": 29,
   "metadata": {
    "collapsed": true
   },
   "outputs": [],
   "source": [
    "GO_df['n_proposals'] = GO_df.GO_clean.apply(len)"
   ]
  },
  {
   "cell_type": "code",
   "execution_count": 30,
   "metadata": {
    "collapsed": true
   },
   "outputs": [],
   "source": [
    "raw_popularity = GO_df.groupby('n_proposals').nunique()['EPIC ID'].reset_index().rename(columns={'EPIC ID':'Count'})"
   ]
  },
  {
   "cell_type": "markdown",
   "metadata": {},
   "source": [
    "Make a histogram of popularity."
   ]
  },
  {
   "cell_type": "code",
   "execution_count": 31,
   "metadata": {
    "collapsed": true
   },
   "outputs": [],
   "source": [
    "corrected_popularity = proposal_counts_by_epic.groupby(\n",
    "    proposal_counts_by_epic).count().rename('counts').to_frame().reset_index().rename(columns={'GO_clean':'n_proposals'})"
   ]
  },
  {
   "cell_type": "code",
   "execution_count": 32,
   "metadata": {},
   "outputs": [
    {
     "data": {
      "text/plain": [
       "<matplotlib.text.Text at 0x12b8acda0>"
      ]
     },
     "execution_count": 32,
     "metadata": {},
     "output_type": "execute_result"
    },
    {
     "data": {
      "image/png": "[encoded data removed]",
      "text/plain": [
       "<matplotlib.figure.Figure at 0x124667d68>"
      ]
     },
     "metadata": {
      "image/png": {
       "height": 263,
       "width": 391
      }
     },
     "output_type": "display_data"
    }
   ],
   "source": [
    "plt.step(raw_popularity.n_proposals, raw_popularity.Count, where='mid')\n",
    "plt.step(corrected_popularity.n_proposals, corrected_popularity.counts, where='mid')\n",
    "plt.yscale('log')\n",
    "plt.ylabel('Number of targets proposed $n$ times')\n",
    "plt.xlabel('$n$');"
   ]
  },
  {
   "cell_type": "markdown",
   "metadata": {},
   "source": [
    "What are the targets for which we received >15 unique proposals??  These are the \"most popular targets\"."
   ]
  },
  {
   "cell_type": "code",
   "execution_count": 33,
   "metadata": {
    "collapsed": true
   },
   "outputs": [],
   "source": [
    "most_popular = proposal_counts_by_epic[proposal_counts_by_epic > 17]"
   ]
  },
  {
   "cell_type": "code",
   "execution_count": 34,
   "metadata": {
    "collapsed": true
   },
   "outputs": [],
   "source": [
    "most_popular = most_popular.to_frame().rename(columns={'GO_clean':'combined_proposals'})"
   ]
  },
  {
   "cell_type": "code",
   "execution_count": 35,
   "metadata": {
    "collapsed": true
   },
   "outputs": [],
   "source": [
    "comb = pd.merge(most_popular, GO_df, left_index=True, right_on='EPIC ID')"
   ]
  },
  {
   "cell_type": "code",
   "execution_count": 37,
   "metadata": {},
   "outputs": [
    {
     "data": {
      "text/html": [
       "<div>\n",
       "<style>\n",
       "    .dataframe thead tr:only-child th {\n",
       "        text-align: right;\n",
       "    }\n",
       "\n",
       "    .dataframe thead th {\n",
       "        text-align: left;\n",
       "    }\n",
       "\n",
       "    .dataframe tbody tr th {\n",
       "        vertical-align: top;\n",
       "    }\n",
       "</style>\n",
       "<table border=\"1\" class=\"dataframe\">\n",
       "  <thead>\n",
       "    <tr style=\"text-align: right;\">\n",
       "      <th></th>\n",
       "      <th>combined_proposals</th>\n",
       "      <th>EPIC ID</th>\n",
       "      <th>main_campaign</th>\n",
       "      <th>n_proposals</th>\n",
       "    </tr>\n",
       "  </thead>\n",
       "  <tbody>\n",
       "    <tr>\n",
       "      <th>70059</th>\n",
       "      <td>29</td>\n",
       "      <td>210651981</td>\n",
       "      <td>4</td>\n",
       "      <td>15</td>\n",
       "    </tr>\n",
       "    <tr>\n",
       "      <th>330815</th>\n",
       "      <td>29</td>\n",
       "      <td>210651981</td>\n",
       "      <td>13</td>\n",
       "      <td>14</td>\n",
       "    </tr>\n",
       "    <tr>\n",
       "      <th>70469</th>\n",
       "      <td>26</td>\n",
       "      <td>210675409</td>\n",
       "      <td>4</td>\n",
       "      <td>13</td>\n",
       "    </tr>\n",
       "    <tr>\n",
       "      <th>330905</th>\n",
       "      <td>26</td>\n",
       "      <td>210675409</td>\n",
       "      <td>13</td>\n",
       "      <td>13</td>\n",
       "    </tr>\n",
       "    <tr>\n",
       "      <th>71146</th>\n",
       "      <td>26</td>\n",
       "      <td>210709514</td>\n",
       "      <td>4</td>\n",
       "      <td>13</td>\n",
       "    </tr>\n",
       "    <tr>\n",
       "      <th>331069</th>\n",
       "      <td>26</td>\n",
       "      <td>210709514</td>\n",
       "      <td>13</td>\n",
       "      <td>13</td>\n",
       "    </tr>\n",
       "    <tr>\n",
       "      <th>71863</th>\n",
       "      <td>25</td>\n",
       "      <td>210741091</td>\n",
       "      <td>4</td>\n",
       "      <td>13</td>\n",
       "    </tr>\n",
       "    <tr>\n",
       "      <th>331186</th>\n",
       "      <td>25</td>\n",
       "      <td>210741091</td>\n",
       "      <td>13</td>\n",
       "      <td>12</td>\n",
       "    </tr>\n",
       "    <tr>\n",
       "      <th>70321</th>\n",
       "      <td>24</td>\n",
       "      <td>210667985</td>\n",
       "      <td>4</td>\n",
       "      <td>13</td>\n",
       "    </tr>\n",
       "    <tr>\n",
       "      <th>330878</th>\n",
       "      <td>24</td>\n",
       "      <td>210667985</td>\n",
       "      <td>13</td>\n",
       "      <td>11</td>\n",
       "    </tr>\n",
       "    <tr>\n",
       "      <th>70439</th>\n",
       "      <td>22</td>\n",
       "      <td>210674207</td>\n",
       "      <td>4</td>\n",
       "      <td>10</td>\n",
       "    </tr>\n",
       "    <tr>\n",
       "      <th>330903</th>\n",
       "      <td>22</td>\n",
       "      <td>210674207</td>\n",
       "      <td>13</td>\n",
       "      <td>12</td>\n",
       "    </tr>\n",
       "    <tr>\n",
       "      <th>331191</th>\n",
       "      <td>22</td>\n",
       "      <td>210743724</td>\n",
       "      <td>13</td>\n",
       "      <td>12</td>\n",
       "    </tr>\n",
       "    <tr>\n",
       "      <th>71928</th>\n",
       "      <td>22</td>\n",
       "      <td>210743724</td>\n",
       "      <td>4</td>\n",
       "      <td>10</td>\n",
       "    </tr>\n",
       "    <tr>\n",
       "      <th>69897</th>\n",
       "      <td>21</td>\n",
       "      <td>210640966</td>\n",
       "      <td>4</td>\n",
       "      <td>11</td>\n",
       "    </tr>\n",
       "    <tr>\n",
       "      <th>330779</th>\n",
       "      <td>21</td>\n",
       "      <td>210640966</td>\n",
       "      <td>13</td>\n",
       "      <td>10</td>\n",
       "    </tr>\n",
       "    <tr>\n",
       "      <th>71373</th>\n",
       "      <td>20</td>\n",
       "      <td>210718930</td>\n",
       "      <td>4</td>\n",
       "      <td>11</td>\n",
       "    </tr>\n",
       "    <tr>\n",
       "      <th>331163</th>\n",
       "      <td>20</td>\n",
       "      <td>210733938</td>\n",
       "      <td>13</td>\n",
       "      <td>10</td>\n",
       "    </tr>\n",
       "    <tr>\n",
       "      <th>71685</th>\n",
       "      <td>20</td>\n",
       "      <td>210733938</td>\n",
       "      <td>4</td>\n",
       "      <td>10</td>\n",
       "    </tr>\n",
       "    <tr>\n",
       "      <th>331114</th>\n",
       "      <td>20</td>\n",
       "      <td>210718930</td>\n",
       "      <td>13</td>\n",
       "      <td>9</td>\n",
       "    </tr>\n",
       "    <tr>\n",
       "      <th>71876</th>\n",
       "      <td>18</td>\n",
       "      <td>210742017</td>\n",
       "      <td>4</td>\n",
       "      <td>8</td>\n",
       "    </tr>\n",
       "    <tr>\n",
       "      <th>331188</th>\n",
       "      <td>18</td>\n",
       "      <td>210742017</td>\n",
       "      <td>13</td>\n",
       "      <td>10</td>\n",
       "    </tr>\n",
       "    <tr>\n",
       "      <th>72212</th>\n",
       "      <td>18</td>\n",
       "      <td>210754620</td>\n",
       "      <td>4</td>\n",
       "      <td>9</td>\n",
       "    </tr>\n",
       "    <tr>\n",
       "      <th>331244</th>\n",
       "      <td>18</td>\n",
       "      <td>210754620</td>\n",
       "      <td>13</td>\n",
       "      <td>9</td>\n",
       "    </tr>\n",
       "  </tbody>\n",
       "</table>\n",
       "</div>"
      ],
      "text/plain": [
       "        combined_proposals    EPIC ID  main_campaign  n_proposals\n",
       "70059                   29  210651981              4           15\n",
       "330815                  29  210651981             13           14\n",
       "70469                   26  210675409              4           13\n",
       "330905                  26  210675409             13           13\n",
       "71146                   26  210709514              4           13\n",
       "331069                  26  210709514             13           13\n",
       "71863                   25  210741091              4           13\n",
       "331186                  25  210741091             13           12\n",
       "70321                   24  210667985              4           13\n",
       "330878                  24  210667985             13           11\n",
       "70439                   22  210674207              4           10\n",
       "330903                  22  210674207             13           12\n",
       "331191                  22  210743724             13           12\n",
       "71928                   22  210743724              4           10\n",
       "69897                   21  210640966              4           11\n",
       "330779                  21  210640966             13           10\n",
       "71373                   20  210718930              4           11\n",
       "331163                  20  210733938             13           10\n",
       "71685                   20  210733938              4           10\n",
       "331114                  20  210718930             13            9\n",
       "71876                   18  210742017              4            8\n",
       "331188                  18  210742017             13           10\n",
       "72212                   18  210754620              4            9\n",
       "331244                  18  210754620             13            9"
      ]
     },
     "execution_count": 37,
     "metadata": {},
     "output_type": "execute_result"
    }
   ],
   "source": [
    "comb.sort_values('combined_proposals', ascending=False)[['combined_proposals', 'EPIC ID', 'main_campaign', 'n_proposals']]"
   ]
  },
  {
   "cell_type": "markdown",
   "metadata": {},
   "source": [
    "### Number of targets by GO proposal."
   ]
  },
  {
   "cell_type": "code",
   "execution_count": 38,
   "metadata": {
    "collapsed": true
   },
   "outputs": [],
   "source": [
    "GO_id_df = pd.DataFrame({'GO_id':GO_ids_with_dups})"
   ]
  },
  {
   "cell_type": "code",
   "execution_count": 39,
   "metadata": {
    "collapsed": true
   },
   "outputs": [],
   "source": [
    "GO_id_df['val']=1"
   ]
  },
  {
   "cell_type": "code",
   "execution_count": 40,
   "metadata": {},
   "outputs": [
    {
     "data": {
      "text/plain": [
       "<matplotlib.text.Text at 0x12d6f2390>"
      ]
     },
     "execution_count": 40,
     "metadata": {},
     "output_type": "execute_result"
    },
    {
     "data": {
      "image/png": "[encoded data removed]",
      "text/plain": [
       "<matplotlib.figure.Figure at 0x11b70ec88>"
      ]
     },
     "metadata": {
      "image/png": {
       "height": 247,
       "width": 389
      }
     },
     "output_type": "display_data"
    }
   ],
   "source": [
    "GO_id_df.groupby('GO_id').val.count().sort_values().plot()\n",
    "plt.yscale('log')\n",
    "plt.xticks([])\n",
    "plt.ylabel('Number of objects in program')"
   ]
  },
  {
   "cell_type": "code",
   "execution_count": 41,
   "metadata": {},
   "outputs": [
    {
     "data": {
      "image/png": "[encoded data removed]",
      "text/plain": [
       "<matplotlib.figure.Figure at 0x12c9e1438>"
      ]
     },
     "metadata": {
      "image/png": {
       "height": 250,
       "width": 391
      }
     },
     "output_type": "display_data"
    }
   ],
   "source": [
    "GO_id_df.groupby('GO_id').val.count().sort_values().plot('hist', bins=np.arange(0, 20000, 200))\n",
    "GO_id_df[GO_id_df.GO_id.str.startswith('GO')].groupby('GO_id').val.count().sort_values().plot('hist', alpha=0.95,\n",
    "                                                                                              bins=np.arange(0, 20000, 200))\n",
    "plt.yscale('log')"
   ]
  },
  {
   "cell_type": "markdown",
   "metadata": {},
   "source": [
    "<!--NAVIGATION-->\n",
    "< [K2 target index fun](01.04-TPF-header-scrape.ipynb) | [Contents](Index.ipynb) | [K2 target index fun](02.02-TPF-header_analysis.ipynb) >"
   ]
  }
 ],
 "metadata": {
  "kernelspec": {
   "display_name": "Python 3",
   "language": "python",
   "name": "python3"
  },
  "language_info": {
   "codemirror_mode": {
    "name": "ipython",
    "version": 3
   },
   "file_extension": ".py",
   "mimetype": "text/x-python",
   "name": "python",
   "nbconvert_exporter": "python",
   "pygments_lexer": "ipython3",
   "version": "3.6.1"
  }
 },
 "nbformat": 4,
 "nbformat_minor": 2
}
