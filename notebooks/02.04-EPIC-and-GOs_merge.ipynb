{
 "cells": [
  {
   "cell_type": "markdown",
   "metadata": {},
   "source": [
    "<!--BOOK_INFORMATION-->\n",
    "<img align=\"left\" style=\"padding-right:10px;\" src=\"figures/k2_pix_small.png\">\n",
    "*This notebook contains instructional material from the [K2 Guest Observer Office](https://keplerscience.arc.nasa.gov/); the content is available [on GitHub](https://github.com/gully/k2-metadata).*\n"
   ]
  },
  {
   "cell_type": "markdown",
   "metadata": {},
   "source": [
    "<!--NAVIGATION-->\n",
    "< [K2 TPF header index analysis](02.02-TPF-header_analysis.ipynb) | [Contents](Index.ipynb) | [Other K2 metadata sources](03.00-Other-metadata-sources.ipynb) >"
   ]
  },
  {
   "cell_type": "markdown",
   "metadata": {},
   "source": [
    "# EPIC and GOs merge"
   ]
  },
  {
   "cell_type": "markdown",
   "metadata": {},
   "source": [
    "This notebook merges the GO proposals available on the [Kepler/K2 Guest Observer Office Approve Programs website](https://keplerscience.arc.nasa.gov/k2-approved-programs.html) with the EPIC catalog [available on MAST](https://archive.stsci.edu/pub/k2/catalogs/).  The resulting table contains additional EPIC metadata on the targets proposed by Guest Observers.  Custom Apertures will not possess this additional metadata, but remain included for completeness."
   ]
  },
  {
   "cell_type": "code",
   "execution_count": 1,
   "metadata": {},
   "outputs": [],
   "source": [
    "import pandas as pd"
   ]
  },
  {
   "cell_type": "code",
   "execution_count": 2,
   "metadata": {},
   "outputs": [],
   "source": [
    "import numpy as np"
   ]
  },
  {
   "cell_type": "code",
   "execution_count": 3,
   "metadata": {},
   "outputs": [
    {
     "name": "stderr",
     "output_type": "stream",
     "text": [
      "/Users/obsidian/anaconda3/lib/python3.6/site-packages/IPython/core/interactiveshell.py:2698: DtypeWarning: Columns (0,1,2,3) have mixed types. Specify dtype option on import or set low_memory=False.\n",
      "  interactivity=interactivity, compiler=compiler, result=result)\n"
     ]
    }
   ],
   "source": [
    "GO_df = pd.read_csv('../metadata/tidy/GO_proposal_metadata.csv', \n",
    "                    dtype={'campaign':str})"
   ]
  },
  {
   "cell_type": "markdown",
   "metadata": {},
   "source": [
    "Hack because something is screwed up in my k2-target index"
   ]
  },
  {
   "cell_type": "code",
   "execution_count": 4,
   "metadata": {},
   "outputs": [],
   "source": [
    "import feather"
   ]
  },
  {
   "cell_type": "code",
   "execution_count": 5,
   "metadata": {},
   "outputs": [],
   "source": [
    "EPIC_df = feather.read_dataframe('../metadata/EPIC_catalog/EPIC_15cols_27Feb2018.feather')"
   ]
  },
  {
   "cell_type": "markdown",
   "metadata": {},
   "source": [
    "Naturally, all of EPIC is much larger than subset that has-been / will-be targeted by Guest Observers."
   ]
  },
  {
   "cell_type": "code",
   "execution_count": 6,
   "metadata": {},
   "outputs": [
    {
     "data": {
      "text/plain": [
       "((558217, 6), (50550332, 15))"
      ]
     },
     "execution_count": 6,
     "metadata": {},
     "output_type": "execute_result"
    }
   ],
   "source": [
    "GO_df.shape, EPIC_df.shape"
   ]
  },
  {
   "cell_type": "code",
   "execution_count": 7,
   "metadata": {},
   "outputs": [
    {
     "data": {
      "text/html": [
       "<div>\n",
       "<style scoped>\n",
       "    .dataframe tbody tr th:only-of-type {\n",
       "        vertical-align: middle;\n",
       "    }\n",
       "\n",
       "    .dataframe tbody tr th {\n",
       "        vertical-align: top;\n",
       "    }\n",
       "\n",
       "    .dataframe thead th {\n",
       "        text-align: right;\n",
       "    }\n",
       "</style>\n",
       "<table border=\"1\" class=\"dataframe\">\n",
       "  <thead>\n",
       "    <tr style=\"text-align: right;\">\n",
       "      <th></th>\n",
       "      <th>id</th>\n",
       "      <th>hip</th>\n",
       "      <th>tyc</th>\n",
       "      <th>ucac</th>\n",
       "      <th>twomass</th>\n",
       "      <th>sdss</th>\n",
       "      <th>objtype</th>\n",
       "      <th>kepflag</th>\n",
       "      <th>stpropflag</th>\n",
       "      <th>k2_ra</th>\n",
       "      <th>k2_dec</th>\n",
       "      <th>kp</th>\n",
       "      <th>nomad</th>\n",
       "      <th>mflg</th>\n",
       "      <th>prox</th>\n",
       "    </tr>\n",
       "  </thead>\n",
       "  <tbody>\n",
       "    <tr>\n",
       "      <th>0</th>\n",
       "      <td>201000001.0</td>\n",
       "      <td>NaN</td>\n",
       "      <td>None</td>\n",
       "      <td>None</td>\n",
       "      <td>11370387-1048329</td>\n",
       "      <td>None</td>\n",
       "      <td>STAR</td>\n",
       "      <td>JHK</td>\n",
       "      <td>None</td>\n",
       "      <td>174.266139</td>\n",
       "      <td>-10.809154</td>\n",
       "      <td>18.558001</td>\n",
       "      <td>None</td>\n",
       "      <td>None</td>\n",
       "      <td>NaN</td>\n",
       "    </tr>\n",
       "    <tr>\n",
       "      <th>1</th>\n",
       "      <td>201000002.0</td>\n",
       "      <td>NaN</td>\n",
       "      <td>None</td>\n",
       "      <td>None</td>\n",
       "      <td>11372639-1048232</td>\n",
       "      <td>None</td>\n",
       "      <td>STAR</td>\n",
       "      <td>J</td>\n",
       "      <td>None</td>\n",
       "      <td>174.359970</td>\n",
       "      <td>-10.806450</td>\n",
       "      <td>18.257000</td>\n",
       "      <td>None</td>\n",
       "      <td>None</td>\n",
       "      <td>NaN</td>\n",
       "    </tr>\n",
       "    <tr>\n",
       "      <th>2</th>\n",
       "      <td>201000003.0</td>\n",
       "      <td>NaN</td>\n",
       "      <td>None</td>\n",
       "      <td>396-052344</td>\n",
       "      <td>11390735-1048225</td>\n",
       "      <td>None</td>\n",
       "      <td>STAR</td>\n",
       "      <td>BV</td>\n",
       "      <td>pmV</td>\n",
       "      <td>174.780561</td>\n",
       "      <td>-10.806233</td>\n",
       "      <td>16.306000</td>\n",
       "      <td>None</td>\n",
       "      <td>None</td>\n",
       "      <td>NaN</td>\n",
       "    </tr>\n",
       "    <tr>\n",
       "      <th>3</th>\n",
       "      <td>201000004.0</td>\n",
       "      <td>NaN</td>\n",
       "      <td>None</td>\n",
       "      <td>None</td>\n",
       "      <td>11372709-1048189</td>\n",
       "      <td>None</td>\n",
       "      <td>STAR</td>\n",
       "      <td>JHK</td>\n",
       "      <td>None</td>\n",
       "      <td>174.362902</td>\n",
       "      <td>-10.805261</td>\n",
       "      <td>18.348000</td>\n",
       "      <td>None</td>\n",
       "      <td>None</td>\n",
       "      <td>NaN</td>\n",
       "    </tr>\n",
       "    <tr>\n",
       "      <th>4</th>\n",
       "      <td>201000005.0</td>\n",
       "      <td>NaN</td>\n",
       "      <td>None</td>\n",
       "      <td>396-052314</td>\n",
       "      <td>11380583-1048162</td>\n",
       "      <td>None</td>\n",
       "      <td>STAR</td>\n",
       "      <td>gri</td>\n",
       "      <td>pmV</td>\n",
       "      <td>174.524379</td>\n",
       "      <td>-10.804541</td>\n",
       "      <td>15.894000</td>\n",
       "      <td>None</td>\n",
       "      <td>None</td>\n",
       "      <td>NaN</td>\n",
       "    </tr>\n",
       "  </tbody>\n",
       "</table>\n",
       "</div>"
      ],
      "text/plain": [
       "            id  hip   tyc        ucac           twomass  sdss objtype kepflag  \\\n",
       "0  201000001.0  NaN  None        None  11370387-1048329  None    STAR     JHK   \n",
       "1  201000002.0  NaN  None        None  11372639-1048232  None    STAR       J   \n",
       "2  201000003.0  NaN  None  396-052344  11390735-1048225  None    STAR      BV   \n",
       "3  201000004.0  NaN  None        None  11372709-1048189  None    STAR     JHK   \n",
       "4  201000005.0  NaN  None  396-052314  11380583-1048162  None    STAR     gri   \n",
       "\n",
       "  stpropflag       k2_ra     k2_dec         kp nomad  mflg  prox  \n",
       "0       None  174.266139 -10.809154  18.558001  None  None   NaN  \n",
       "1       None  174.359970 -10.806450  18.257000  None  None   NaN  \n",
       "2        pmV  174.780561 -10.806233  16.306000  None  None   NaN  \n",
       "3       None  174.362902 -10.805261  18.348000  None  None   NaN  \n",
       "4        pmV  174.524379 -10.804541  15.894000  None  None   NaN  "
      ]
     },
     "execution_count": 7,
     "metadata": {},
     "output_type": "execute_result"
    }
   ],
   "source": [
    "EPIC_df.head()"
   ]
  },
  {
   "cell_type": "code",
   "execution_count": 8,
   "metadata": {},
   "outputs": [
    {
     "data": {
      "text/html": [
       "<div>\n",
       "<style scoped>\n",
       "    .dataframe tbody tr th:only-of-type {\n",
       "        vertical-align: middle;\n",
       "    }\n",
       "\n",
       "    .dataframe tbody tr th {\n",
       "        vertical-align: top;\n",
       "    }\n",
       "\n",
       "    .dataframe thead th {\n",
       "        text-align: right;\n",
       "    }\n",
       "</style>\n",
       "<table border=\"1\" class=\"dataframe\">\n",
       "  <thead>\n",
       "    <tr style=\"text-align: right;\">\n",
       "      <th></th>\n",
       "      <th>EPIC ID</th>\n",
       "      <th>RA (J2000) [deg]</th>\n",
       "      <th>Dec (J2000) [deg]</th>\n",
       "      <th>magnitude</th>\n",
       "      <th>Investigation IDs</th>\n",
       "      <th>campaign</th>\n",
       "    </tr>\n",
       "  </thead>\n",
       "  <tbody>\n",
       "    <tr>\n",
       "      <th>0</th>\n",
       "      <td>200000811</td>\n",
       "      <td></td>\n",
       "      <td></td>\n",
       "      <td></td>\n",
       "      <td>LC_M35_TILE</td>\n",
       "      <td>0</td>\n",
       "    </tr>\n",
       "    <tr>\n",
       "      <th>1</th>\n",
       "      <td>200000812</td>\n",
       "      <td></td>\n",
       "      <td></td>\n",
       "      <td></td>\n",
       "      <td>LC_M35_TILE</td>\n",
       "      <td>0</td>\n",
       "    </tr>\n",
       "    <tr>\n",
       "      <th>2</th>\n",
       "      <td>200000813</td>\n",
       "      <td></td>\n",
       "      <td></td>\n",
       "      <td></td>\n",
       "      <td>LC_M35_TILE</td>\n",
       "      <td>0</td>\n",
       "    </tr>\n",
       "    <tr>\n",
       "      <th>3</th>\n",
       "      <td>200000814</td>\n",
       "      <td></td>\n",
       "      <td></td>\n",
       "      <td></td>\n",
       "      <td>LC_M35_TILE</td>\n",
       "      <td>0</td>\n",
       "    </tr>\n",
       "    <tr>\n",
       "      <th>4</th>\n",
       "      <td>200000815</td>\n",
       "      <td></td>\n",
       "      <td></td>\n",
       "      <td></td>\n",
       "      <td>LC_M35_TILE</td>\n",
       "      <td>0</td>\n",
       "    </tr>\n",
       "  </tbody>\n",
       "</table>\n",
       "</div>"
      ],
      "text/plain": [
       "     EPIC ID RA (J2000) [deg] Dec (J2000) [deg] magnitude Investigation IDs  \\\n",
       "0  200000811                                                    LC_M35_TILE   \n",
       "1  200000812                                                    LC_M35_TILE   \n",
       "2  200000813                                                    LC_M35_TILE   \n",
       "3  200000814                                                    LC_M35_TILE   \n",
       "4  200000815                                                    LC_M35_TILE   \n",
       "\n",
       "  campaign  \n",
       "0        0  \n",
       "1        0  \n",
       "2        0  \n",
       "3        0  \n",
       "4        0  "
      ]
     },
     "execution_count": 8,
     "metadata": {},
     "output_type": "execute_result"
    }
   ],
   "source": [
    "GO_df.head()"
   ]
  },
  {
   "cell_type": "code",
   "execution_count": 9,
   "metadata": {},
   "outputs": [
    {
     "name": "stdout",
     "output_type": "stream",
     "text": [
      "CPU times: user 33.7 s, sys: 1min, total: 1min 34s\n",
      "Wall time: 1min 49s\n"
     ]
    }
   ],
   "source": [
    "%%time\n",
    "df = pd.merge(GO_df, EPIC_df, left_on='EPIC ID', right_on='id', how='left', indicator=True)"
   ]
  },
  {
   "cell_type": "code",
   "execution_count": 10,
   "metadata": {},
   "outputs": [
    {
     "data": {
      "text/plain": [
       "both          378540\n",
       "left_only     179677\n",
       "right_only         0\n",
       "Name: _merge, dtype: int64"
      ]
     },
     "execution_count": 10,
     "metadata": {},
     "output_type": "execute_result"
    }
   ],
   "source": [
    "df._merge.value_counts()"
   ]
  },
  {
   "cell_type": "markdown",
   "metadata": {},
   "source": [
    "The \"left_only\" indicates sources that are proposed, but not in the EPIC.  That's Okay, since guest observers come up with custom targets, like asteroids, faint galaxies, saturated stars, fast-moving objects, etc.  Let's verify that the largest EPIC ID in this \"left only\" subset is less than 201 million, the threshold EPIC ID reserved for custom apertures."
   ]
  },
  {
   "cell_type": "code",
   "execution_count": 11,
   "metadata": {},
   "outputs": [
    {
     "data": {
      "text/plain": [
       "200235137"
      ]
     },
     "execution_count": 11,
     "metadata": {},
     "output_type": "execute_result"
    }
   ],
   "source": [
    "vec = df[df._merge == 'left_only']['EPIC ID']\n",
    "int_mask = vec.apply(type) == np.int\n",
    "vec[int_mask].max()"
   ]
  },
  {
   "cell_type": "markdown",
   "metadata": {},
   "source": [
    "Indeed, we're safe from missing targets.  Healthy sanity-check! :)"
   ]
  },
  {
   "cell_type": "code",
   "execution_count": 13,
   "metadata": {},
   "outputs": [
    {
     "data": {
      "text/plain": [
       "Index(['EPIC ID', 'RA (J2000) [deg]', 'Dec (J2000) [deg]', 'magnitude',\n",
       "       'Investigation IDs', 'campaign', 'id', 'hip', 'tyc', 'ucac', 'twomass',\n",
       "       'sdss', 'objtype', 'kepflag', 'stpropflag', 'k2_ra', 'k2_dec', 'kp',\n",
       "       'nomad', 'mflg', 'prox', '_merge'],\n",
       "      dtype='object')"
      ]
     },
     "execution_count": 13,
     "metadata": {},
     "output_type": "execute_result"
    }
   ],
   "source": [
    "df.columns"
   ]
  },
  {
   "cell_type": "code",
   "execution_count": 14,
   "metadata": {},
   "outputs": [
    {
     "data": {
      "text/plain": [
       "EPIC ID                         245980230\n",
       "RA (J2000) [deg]               353.095655\n",
       "Dec (J2000) [deg]              -10.002241\n",
       "magnitude                          14.996\n",
       "Investigation IDs              GO12123_LC\n",
       "campaign                               12\n",
       "id                             2.4598e+08\n",
       "hip                                   NaN\n",
       "tyc                                  None\n",
       "ucac                           400-138795\n",
       "twomass                  23322294-1000078\n",
       "sdss                 1666-301-3-0146-0031\n",
       "objtype                              STAR\n",
       "kepflag                               gri\n",
       "stpropflag                            rpm\n",
       "k2_ra                             353.096\n",
       "k2_dec                           -10.0022\n",
       "kp                                 14.996\n",
       "nomad                                None\n",
       "mflg                  AAA-222-111-000-0-0\n",
       "prox                                 25.3\n",
       "_merge                               both\n",
       "Name: 300000, dtype: object"
      ]
     },
     "execution_count": 14,
     "metadata": {},
     "output_type": "execute_result"
    }
   ],
   "source": [
    "df.iloc[300000]"
   ]
  },
  {
   "cell_type": "markdown",
   "metadata": {},
   "source": [
    "Looks good!  Let's drop the `_merge` keyword and save to disk."
   ]
  },
  {
   "cell_type": "code",
   "execution_count": 15,
   "metadata": {},
   "outputs": [
    {
     "data": {
      "text/plain": [
       "(558217, 22)"
      ]
     },
     "execution_count": 15,
     "metadata": {},
     "output_type": "execute_result"
    }
   ],
   "source": [
    "df.shape"
   ]
  },
  {
   "cell_type": "code",
   "execution_count": 16,
   "metadata": {},
   "outputs": [],
   "source": [
    "df = df[df.columns[~df.columns.isin(['_merge'])]]"
   ]
  },
  {
   "cell_type": "code",
   "execution_count": 17,
   "metadata": {},
   "outputs": [
    {
     "data": {
      "text/plain": [
       "(558217, 21)"
      ]
     },
     "execution_count": 17,
     "metadata": {},
     "output_type": "execute_result"
    }
   ],
   "source": [
    "df.shape"
   ]
  },
  {
   "cell_type": "markdown",
   "metadata": {},
   "source": [
    "Uncomment below to overwrite"
   ]
  },
  {
   "cell_type": "code",
   "execution_count": 20,
   "metadata": {},
   "outputs": [],
   "source": [
    "#df.to_csv('../metadata/tidy/GO_EPIC_merge_uptoC19.csv', index=False)"
   ]
  },
  {
   "cell_type": "code",
   "execution_count": 18,
   "metadata": {},
   "outputs": [
    {
     "name": "stdout",
     "output_type": "stream",
     "text": [
      " 84M\t../metadata/tidy/GO_EPIC_merge_uptoC19.csv\r\n"
     ]
    }
   ],
   "source": [
    "! du -hs ../metadata/tidy/GO_EPIC_merge_uptoC19.csv"
   ]
  },
  {
   "cell_type": "code",
   "execution_count": 19,
   "metadata": {},
   "outputs": [
    {
     "name": "stdout",
     "output_type": "stream",
     "text": [
      "EPIC ID,RA (J2000) [deg],Dec (J2000) [deg],magnitude,Investigation IDs,campaign,id,hip,tyc,ucac,twomass,sdss,objtype,kepflag,stpropflag,k2_ra,k2_dec,kp,nomad,mflg,prox\r\n",
      "200000811, , , , LC_M35_TILE,0,,,,,,,,,,,,,,,\r\n",
      "200000812, , , , LC_M35_TILE,0,,,,,,,,,,,,,,,\r\n",
      "200000813, , , , LC_M35_TILE,0,,,,,,,,,,,,,,,\r\n",
      "200000814, , , , LC_M35_TILE,0,,,,,,,,,,,,,,,\r\n",
      "200000815, , , , LC_M35_TILE,0,,,,,,,,,,,,,,,\r\n",
      "200000816, , , , LC_M35_TILE,0,,,,,,,,,,,,,,,\r\n",
      "200000817, , , , LC_M35_TILE,0,,,,,,,,,,,,,,,\r\n",
      "200000818, , , , LC_M35_TILE,0,,,,,,,,,,,,,,,\r\n",
      "200000819, , , , LC_M35_TILE,0,,,,,,,,,,,,,,,\r\n"
     ]
    }
   ],
   "source": [
    "! head ../metadata/tidy/GO_EPIC_merge_uptoC19.csv"
   ]
  },
  {
   "cell_type": "code",
   "execution_count": null,
   "metadata": {},
   "outputs": [],
   "source": [
    "#df.to_feather('../metadata/tidy/GO_EPIC_C00-19.feather')"
   ]
  },
  {
   "cell_type": "markdown",
   "metadata": {},
   "source": [
    "<!--NAVIGATION-->\n",
    "< [K2 TPF header index analysis](02.02-TPF-header_analysis.ipynb) | [Contents](Index.ipynb) | [Other K2 metadata sources](03.00-Other-metadata-sources.ipynb) >"
   ]
  }
 ],
 "metadata": {
  "kernelspec": {
   "display_name": "Python 3",
   "language": "python",
   "name": "python3"
  },
  "language_info": {
   "codemirror_mode": {
    "name": "ipython",
    "version": 3
   },
   "file_extension": ".py",
   "mimetype": "text/x-python",
   "name": "python",
   "nbconvert_exporter": "python",
   "pygments_lexer": "ipython3",
   "version": "3.6.3"
  }
 },
 "nbformat": 4,
 "nbformat_minor": 2
}
